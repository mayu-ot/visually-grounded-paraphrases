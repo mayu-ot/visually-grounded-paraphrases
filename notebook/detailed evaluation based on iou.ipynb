{
 "cells": [
  {
   "cell_type": "markdown",
   "metadata": {},
   "source": [
    "Check the correlation between the performance of grounding and VGP identification"
   ]
  },
  {
   "cell_type": "code",
   "execution_count": 1,
   "metadata": {},
   "outputs": [
    {
     "name": "stdout",
     "output_type": "stream",
     "text": [
      "/mnt/fs1/mayu-ot/Experiments/loc_iparaphrasing\n"
     ]
    },
    {
     "name": "stderr",
     "output_type": "stream",
     "text": [
      "/home/mayu-ot/miniconda3/envs/py36chainer/lib/python3.6/site-packages/h5py/__init__.py:36: FutureWarning: Conversion of the second argument of issubdtype from `float` to `np.floating` is deprecated. In future, it will be treated as `np.float64 == np.dtype(float).type`.\n",
      "  from ._conv import register_converters as _register_converters\n"
     ]
    }
   ],
   "source": [
    "% cd /home/mayu-ot/durga/Experiments/loc_iparaphrasing/\n",
    "\n",
    "from chainercv.utils import bbox_iou, non_maximum_suppression\n",
    "import chainer\n",
    "import numpy as np\n",
    "import json\n",
    "import pandas as pd\n",
    "import tables\n",
    "from chainer.dataset.convert import concat_examples\n",
    "from sklearn.metrics import f1_score, precision_score, recall_score\n",
    "from func.datasets.datasets import get_agg_roi_df\n",
    "%matplotlib inline\n",
    "import matplotlib.pyplot as plt\n",
    "from nltk.metrics import edit_distance"
   ]
  },
  {
   "cell_type": "code",
   "execution_count": 2,
   "metadata": {},
   "outputs": [],
   "source": [
    "from func.datasets.datasets import BBoxDataset, PLCLCBBoxDataset, DDPNBBoxDataset, PreCompFeatDataset"
   ]
  },
  {
   "cell_type": "code",
   "execution_count": 3,
   "metadata": {},
   "outputs": [],
   "source": [
    "p_bbox_data = DDPNBBoxDataset('test')\n",
    "pbbox_df = p_bbox_data.df\n"
   ]
  },
  {
   "cell_type": "code",
   "execution_count": 4,
   "metadata": {},
   "outputs": [],
   "source": [
    "df = pd.read_csv('data/phrase_pair_test.csv', index_col=0)"
   ]
  },
  {
   "cell_type": "code",
   "execution_count": 5,
   "metadata": {},
   "outputs": [
    {
     "data": {
      "text/html": [
       "<div>\n",
       "<style scoped>\n",
       "    .dataframe tbody tr th:only-of-type {\n",
       "        vertical-align: middle;\n",
       "    }\n",
       "\n",
       "    .dataframe tbody tr th {\n",
       "        vertical-align: top;\n",
       "    }\n",
       "\n",
       "    .dataframe thead th {\n",
       "        text-align: right;\n",
       "    }\n",
       "</style>\n",
       "<table border=\"1\" class=\"dataframe\">\n",
       "  <thead>\n",
       "    <tr style=\"text-align: right;\">\n",
       "      <th></th>\n",
       "      <th></th>\n",
       "      <th>ymin</th>\n",
       "      <th>xmin</th>\n",
       "      <th>ymax</th>\n",
       "      <th>xmax</th>\n",
       "      <th>n_id</th>\n",
       "    </tr>\n",
       "    <tr>\n",
       "      <th>image</th>\n",
       "      <th>org_phrase</th>\n",
       "      <th></th>\n",
       "      <th></th>\n",
       "      <th></th>\n",
       "      <th></th>\n",
       "      <th></th>\n",
       "    </tr>\n",
       "  </thead>\n",
       "  <tbody>\n",
       "    <tr>\n",
       "      <th rowspan=\"5\" valign=\"top\">390369</th>\n",
       "      <th>A gold colored street performer</th>\n",
       "      <td>125</td>\n",
       "      <td>4</td>\n",
       "      <td>431</td>\n",
       "      <td>229</td>\n",
       "      <td>0</td>\n",
       "    </tr>\n",
       "    <tr>\n",
       "      <th>A person</th>\n",
       "      <td>125</td>\n",
       "      <td>4</td>\n",
       "      <td>431</td>\n",
       "      <td>229</td>\n",
       "      <td>1</td>\n",
       "    </tr>\n",
       "    <tr>\n",
       "      <th>A street performer</th>\n",
       "      <td>125</td>\n",
       "      <td>4</td>\n",
       "      <td>431</td>\n",
       "      <td>229</td>\n",
       "      <td>2</td>\n",
       "    </tr>\n",
       "    <tr>\n",
       "      <th>The people</th>\n",
       "      <td>149</td>\n",
       "      <td>1</td>\n",
       "      <td>303</td>\n",
       "      <td>327</td>\n",
       "      <td>3</td>\n",
       "    </tr>\n",
       "    <tr>\n",
       "      <th>a costume</th>\n",
       "      <td>159</td>\n",
       "      <td>1</td>\n",
       "      <td>435</td>\n",
       "      <td>235</td>\n",
       "      <td>4</td>\n",
       "    </tr>\n",
       "  </tbody>\n",
       "</table>\n",
       "</div>"
      ],
      "text/plain": [
       "                                        ymin  xmin  ymax  xmax  n_id\n",
       "image  org_phrase                                                   \n",
       "390369 A gold colored street performer   125     4   431   229     0\n",
       "       A person                          125     4   431   229     1\n",
       "       A street performer                125     4   431   229     2\n",
       "       The people                        149     1   303   327     3\n",
       "       a costume                         159     1   435   235     4"
      ]
     },
     "execution_count": 5,
     "metadata": {},
     "output_type": "execute_result"
    }
   ],
   "source": [
    "gtbbox_df.head()"
   ]
  },
  {
   "cell_type": "code",
   "execution_count": 22,
   "metadata": {},
   "outputs": [],
   "source": [
    "from IPython.html.widgets import IntProgress\n",
    "from IPython.display import display\n",
    "\n",
    "def get_gtbbox(df, img_id, phr):\n",
    "    ymin = df.at[(img_id, phr), 'ymin']\n",
    "    xmin = df.at[(img_id, phr), 'xmin']\n",
    "    ymax = df.at[(img_id, phr), 'ymax']\n",
    "    xmax = df.at[(img_id, phr), 'xmax']\n",
    "    return np.asarray([[ymin, xmin, ymax, xmax]])\n",
    "\n",
    "def lget_bbox(df, img_id, phr):\n",
    "    rows = df.query('image==%s'%img_id)\n",
    "    dist = list(\n",
    "            map(lambda x: edit_distance(phr.lower(), x), rows.phrase))\n",
    "    row = rows.iloc[np.argmin(dist)]\n",
    "    return np.asarray([[row.ymin, row.xmin, row.ymax, row.xmax]])\n",
    "\n",
    "def get_ious(method='ddpn'):\n",
    "    if method=='ddpn':\n",
    "        p_bbox_data = DDPNBBoxDataset('test')\n",
    "        pbbox_df = p_bbox_data.df\n",
    "    elif method=='plclc':\n",
    "        p_bbox_data = PLCLCBBoxDataset('test')\n",
    "        pbbox_df = p_bbox_data.df\n",
    "\n",
    "    gt_bbox_data = BBoxDataset('test')\n",
    "    gtbbox_df = gt_bbox_data.df\n",
    "        \n",
    "    ip = IntProgress(min=0, max=len(df))\n",
    "    display(ip)\n",
    "\n",
    "    ious1 = []\n",
    "    ious2 = []\n",
    "\n",
    "    for i, row in df.iterrows():\n",
    "        im_id, phr1, phr2 = row[['image', 'original_phrase1', 'original_phrase2']]\n",
    "        p_bbox1 = lget_bbox(pbbox_df, im_id, phr1)\n",
    "        p_bbox2 = lget_bbox(pbbox_df, im_id, phr2)\n",
    "\n",
    "        gt_bbox1 = get_gtbbox(gtbbox_df, im_id, phr1)\n",
    "        gt_bbox2 = get_gtbbox(gtbbox_df, im_id, phr2)\n",
    "\n",
    "        iou1 = bbox_iou(p_bbox1, gt_bbox1)\n",
    "        iou2 = bbox_iou(p_bbox2, gt_bbox2)\n",
    "\n",
    "        ious1.append(iou1[0])\n",
    "        ious2.append(iou2[0])\n",
    "\n",
    "        ip.value = i\n",
    "\n",
    "    plclc_ious1 = ious1\n",
    "    plclc_ious2 = ious2\n",
    "    return plclc_ious1, plclc_ious2"
   ]
  },
  {
   "cell_type": "code",
   "execution_count": 23,
   "metadata": {},
   "outputs": [
    {
     "data": {
      "application/vnd.jupyter.widget-view+json": {
       "model_id": "46e4b871cc814b56a467f033e9192039",
       "version_major": 2,
       "version_minor": 0
      },
      "text/plain": [
       "IntProgress(value=0, max=81285)"
      ]
     },
     "metadata": {},
     "output_type": "display_data"
    }
   ],
   "source": [
    "plclc_ious1, plclc_ious2 = get_ious(method='plclc')"
   ]
  },
  {
   "cell_type": "code",
   "execution_count": 29,
   "metadata": {},
   "outputs": [
    {
     "data": {
      "application/vnd.jupyter.widget-view+json": {
       "model_id": "c78386dc9c1745298d44fd4240fa413d",
       "version_major": 2,
       "version_minor": 0
      },
      "text/plain": [
       "IntProgress(value=0, max=81285)"
      ]
     },
     "metadata": {},
     "output_type": "display_data"
    }
   ],
   "source": [
    "ddpn_ious1, ddpn_ious2 = get_ious(method='ddpn')"
   ]
  },
  {
   "cell_type": "code",
   "execution_count": 7,
   "metadata": {},
   "outputs": [],
   "source": [
    "import seaborn as sns\n",
    "sns.set()"
   ]
  },
  {
   "cell_type": "code",
   "execution_count": 8,
   "metadata": {},
   "outputs": [
    {
     "data": {
      "text/plain": [
       "<matplotlib.axes._subplots.AxesSubplot at 0x7fd1db104160>"
      ]
     },
     "execution_count": 8,
     "metadata": {},
     "output_type": "execute_result"
    },
    {
     "data": {
      "image/png": "[encoded data removed]",
      "text/plain": [
       "<matplotlib.figure.Figure at 0x7fd1dba77a20>"
      ]
     },
     "metadata": {},
     "output_type": "display_data"
    }
   ],
   "source": [
    "sns.distplot(ious1, kde=False)"
   ]
  },
  {
   "cell_type": "code",
   "execution_count": 33,
   "metadata": {},
   "outputs": [
    {
     "name": "stdout",
     "output_type": "stream",
     "text": [
      "0.0-0.1 72.63 (1.0%)\n",
      "0.1-0.2 72.83 (0.8%)\n",
      "0.2-0.3 68.15 (1.9%)\n",
      "0.3-0.4 61.72 (5.0%)\n",
      "0.4-0.5 65.69 (9.9%)\n",
      "0.5-0.6 75.38 (10.0%)\n",
      "0.6-0.7 81.08 (15.3%)\n",
      "0.7-0.8 87.62 (25.5%)\n",
      "0.8-0.9 92.33 (26.2%)\n",
      "0.9-1.0 96.28 (4.6%)\n",
      "0.0-0.1 56.45 (1.0%)\n",
      "0.1-0.2 47.83 (0.8%)\n",
      "0.2-0.3 39.38 (1.9%)\n",
      "0.3-0.4 38.77 (5.0%)\n",
      "0.4-0.5 25.30 (9.9%)\n",
      "0.5-0.6 43.26 (10.0%)\n",
      "0.6-0.7 54.43 (15.3%)\n",
      "0.7-0.8 67.53 (25.5%)\n",
      "0.8-0.9 77.39 (26.2%)\n",
      "0.9-1.0 87.58 (4.6%)\n",
      "0.0-0.1 74.81 (1.0%)\n",
      "0.1-0.2 70.72 (0.8%)\n",
      "0.2-0.3 73.93 (1.9%)\n",
      "0.3-0.4 64.27 (5.0%)\n",
      "0.4-0.5 70.44 (9.9%)\n",
      "0.5-0.6 74.40 (10.0%)\n",
      "0.6-0.7 80.56 (15.3%)\n",
      "0.7-0.8 86.41 (25.5%)\n",
      "0.8-0.9 90.96 (26.2%)\n",
      "0.9-1.0 94.12 (4.6%)\n"
     ]
    }
   ],
   "source": [
    "# DDPN\n",
    "def get_results(df_file, ious1, ious2):\n",
    "    df = pd.read_csv(df_file)\n",
    "    df['ious1'] = np.asarray(ious1)\n",
    "    df['ious2'] = np.asarray(ious2)\n",
    "\n",
    "    iou_thres = []\n",
    "    f1_scores = []\n",
    "    interval = 0.1\n",
    "    for thres in np.arange(interval, 1+interval, interval):\n",
    "        iou_mean = np.mean(df[['ious1', 'ious2']].values, axis=1)\n",
    "        sub_data = df[(iou_mean >= thres-interval) & (iou_mean < thres)]\n",
    "        score = f1_score(sub_data.ytrue, sub_data.ypred)\n",
    "        print('%.1f-%.1f' % (thres-interval, thres), '%.2f' % (100.*score), '(%.1f%%)'%(100*len(sub_data) / len(df)))\n",
    "        iou_thres.append(thres)\n",
    "        f1_scores.append(100*score)\n",
    "    \n",
    "    return f1_scores, f1_score(df.ytrue, df.ypred) * 100\n",
    "\n",
    "ddpn_scores, _ = get_results('bo_out/vis+lng+ddpn+mult/18-20181108-015934/res_test.csv', ddpn_ious1, ddpn_ious2)\n",
    "vis_ddpn_scores, _ = get_results('bo_out/vis+ddpn/7-20181107-221739/res_test.csv', ddpn_ious1, ddpn_ious2)\n",
    "lng_scores, lng_avr_score = get_results('bo_out/lng/13-20181102-020120/res_test.csv', ddpn_ious1, ddpn_ious2)\n",
    "# plclc_scores, _ = get_results('bo_out/vis+lng+plclc+mult/17-20181108-050238/res_test.csv', )"
   ]
  },
  {
   "cell_type": "code",
   "execution_count": 34,
   "metadata": {},
   "outputs": [
    {
     "data": {
      "image/png": "[encoded data removed]",
      "text/plain": [
       "<matplotlib.figure.Figure at 0x7fd1aa7b0198>"
      ]
     },
     "metadata": {},
     "output_type": "display_data"
    }
   ],
   "source": [
    "interval = 0.1\n",
    "sns.set_context(\"talk\")\n",
    "palette=sns.color_palette(\"coolwarm\", 3)\n",
    "# palette=sns.diverging_palette(220, 20, n=5)\n",
    "\n",
    "N = len(ddpn_scores)\n",
    "\n",
    "lng_df = pd.DataFrame({'IoU': np.arange(interval, 1+interval, interval),\n",
    "                      'Avg. F1 score': lng_scores,\n",
    "                       'models': ['phrase-only']*N})\n",
    "\n",
    "vis_ddpn_df = pd.DataFrame({'IoU': np.arange(interval, 1+interval, interval),\n",
    "                      'Avg. F1 score': vis_ddpn_scores,\n",
    "                       'models': ['visual-only (DDPN)']*N})\n",
    "\n",
    "ddpn_df = pd.DataFrame({'IoU': np.arange(interval, 1+interval, interval),\n",
    "                      'Avg. F1 score': ddpn_scores,\n",
    "                      'models': ['ours (DDPN)']*N})\n",
    "\n",
    "all_data = pd.concat((vis_ddpn_df, lng_df, ddpn_df))\n",
    "\n",
    "plt.figure(figsize=(10, 3))\n",
    "# plt.axhline(lng_avr_score, color='k', linestyle='--', label='phrase-only')\n",
    "g = sns.barplot(x='IoU', y='Avg. F1 score', hue='models', data=all_data, palette=palette)\n",
    "g.set_xticklabels(['%.1f'%x for x in np.arange(interval, 1+interval, interval)])\n",
    "# plt.legend(bbox_to_anchor=(1.05, 1), loc=2, borderaxespad=0.)\n",
    "plt.gca().legend(loc='upper center', bbox_to_anchor=(0.5, -0.2), ncol=3)\n",
    "plt.savefig('figures/cvpr/detailed_results_bar_ddpn.pdf', bbox_inches='tight')"
   ]
  },
  {
   "cell_type": "code",
   "execution_count": 35,
   "metadata": {},
   "outputs": [
    {
     "name": "stdout",
     "output_type": "stream",
     "text": [
      "0.0-0.1 76.90 (5.0%)\n",
      "0.1-0.2 75.31 (5.7%)\n",
      "0.2-0.3 74.31 (8.5%)\n",
      "0.3-0.4 74.34 (14.2%)\n",
      "0.4-0.5 77.73 (17.5%)\n",
      "0.5-0.6 82.46 (15.2%)\n",
      "0.6-0.7 88.83 (14.4%)\n",
      "0.7-0.8 91.37 (12.0%)\n",
      "0.8-0.9 94.81 (6.5%)\n",
      "0.9-1.0 95.21 (1.2%)\n",
      "0.0-0.1 45.08 (5.0%)\n",
      "0.1-0.2 38.24 (5.7%)\n",
      "0.2-0.3 27.77 (8.5%)\n",
      "0.3-0.4 28.98 (14.2%)\n",
      "0.4-0.5 35.42 (17.5%)\n",
      "0.5-0.6 49.22 (15.2%)\n",
      "0.6-0.7 64.17 (14.4%)\n",
      "0.7-0.8 75.27 (12.0%)\n",
      "0.8-0.9 85.60 (6.5%)\n",
      "0.9-1.0 90.06 (1.2%)\n",
      "0.0-0.1 78.67 (5.0%)\n",
      "0.1-0.2 76.57 (5.7%)\n",
      "0.2-0.3 77.71 (8.5%)\n",
      "0.3-0.4 75.21 (14.2%)\n",
      "0.4-0.5 79.09 (17.5%)\n",
      "0.5-0.6 82.86 (15.2%)\n",
      "0.6-0.7 89.05 (14.4%)\n",
      "0.7-0.8 91.14 (12.0%)\n",
      "0.8-0.9 94.88 (6.5%)\n",
      "0.9-1.0 93.57 (1.2%)\n"
     ]
    }
   ],
   "source": [
    "# PLCLC\n",
    "def get_results(df_file, ious1, ious2):\n",
    "    df = pd.read_csv(df_file)\n",
    "    df['ious1'] = np.asarray(ious1)\n",
    "    df['ious2'] = np.asarray(ious2)\n",
    "\n",
    "    iou_thres = []\n",
    "    f1_scores = []\n",
    "    interval = 0.1\n",
    "    for thres in np.arange(interval, 1+interval, interval):\n",
    "        iou_mean = np.mean(df[['ious1', 'ious2']].values, axis=1)\n",
    "        sub_data = df[(iou_mean >= thres-interval) & (iou_mean < thres)]\n",
    "        score = f1_score(sub_data.ytrue, sub_data.ypred)\n",
    "        print('%.1f-%.1f' % (thres-interval, thres), '%.2f' % (100.*score), '(%.1f%%)'%(100*len(sub_data) / len(df)))\n",
    "        iou_thres.append(thres)\n",
    "        f1_scores.append(100*score)\n",
    "    \n",
    "    return f1_scores, f1_score(df.ytrue, df.ypred) * 100\n",
    "\n",
    "plclc_scores, _ = get_results('bo_out/vis+lng+plclc+mult/17-20181108-050238/res_test.csv', plclc_ious1, plclc_ious2)\n",
    "vis_plclc_scores, _ = get_results('bo_out/vis+plclc/25-20181111-060511/res_test.csv', plclc_ious1, plclc_ious2)\n",
    "lng_scores, lng_avr_score = get_results('bo_out/lng/13-20181102-020120/res_test.csv', plclc_ious1, plclc_ious2)"
   ]
  },
  {
   "cell_type": "code",
   "execution_count": 36,
   "metadata": {},
   "outputs": [
    {
     "data": {
      "image/png": "[encoded data removed]",
      "text/plain": [
       "<matplotlib.figure.Figure at 0x7fd1ad603d30>"
      ]
     },
     "metadata": {},
     "output_type": "display_data"
    }
   ],
   "source": [
    "interval = 0.1\n",
    "sns.set_context(\"talk\")\n",
    "palette=sns.color_palette(\"coolwarm\", 3)\n",
    "# palette=sns.diverging_palette(220, 20, n=5)\n",
    "\n",
    "N = len(ddpn_scores)\n",
    "\n",
    "lng_df = pd.DataFrame({'IoU': np.arange(interval, 1+interval, interval),\n",
    "                      'Avg. F1 score': lng_scores,\n",
    "                       'models': ['phrase-only']*N})\n",
    "\n",
    "vis_plclc_df = pd.DataFrame({'IoU': np.arange(interval, 1+interval, interval),\n",
    "                      'Avg. F1 score': vis_plclc_scores,\n",
    "                       'models': ['visual-only (PL-CLC)']*N})\n",
    "\n",
    "plclc_df = pd.DataFrame({'IoU': np.arange(interval, 1+interval, interval),\n",
    "                      'Avg. F1 score': plclc_scores,\n",
    "                      'models': ['ours (PL-CLC)']*N})\n",
    "\n",
    "all_data = pd.concat((vis_plclc_df, lng_df, plclc_df))\n",
    "\n",
    "plt.figure(figsize=(10, 3))\n",
    "# plt.axhline(lng_avr_score, color='k', linestyle='--', label='phrase-only')\n",
    "g = sns.barplot(x='IoU', y='Avg. F1 score', hue='models', data=all_data, palette=palette)\n",
    "g.set_xticklabels(['%.1f'%x for x in np.arange(interval, 1+interval, interval)])\n",
    "# plt.legend(bbox_to_anchor=(1.05, 1), loc=2, borderaxespad=0.)\n",
    "plt.gca().legend(loc='upper center', bbox_to_anchor=(0.5, -0.2), ncol=3)\n",
    "plt.savefig('figures/cvpr/detailed_results_bar_plclc.pdf', bbox_inches='tight')"
   ]
  },
  {
   "cell_type": "code",
   "execution_count": null,
   "metadata": {},
   "outputs": [],
   "source": []
  }
 ],
 "metadata": {
  "kernelspec": {
   "display_name": "Python 3",
   "language": "python",
   "name": "python3"
  },
  "language_info": {
   "codemirror_mode": {
    "name": "ipython",
    "version": 3
   },
   "file_extension": ".py",
   "mimetype": "text/x-python",
   "name": "python",
   "nbconvert_exporter": "python",
   "pygments_lexer": "ipython3",
   "version": "3.6.4"
  }
 },
 "nbformat": 4,
 "nbformat_minor": 2
}
