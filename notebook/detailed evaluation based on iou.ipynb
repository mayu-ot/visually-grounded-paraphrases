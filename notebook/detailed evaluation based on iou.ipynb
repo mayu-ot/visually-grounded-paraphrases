{
 "cells": [
  {
   "cell_type": "markdown",
   "metadata": {},
   "source": [
    "Check the correlation between the performance of grounding and VGP identification"
   ]
  },
  {
   "cell_type": "code",
   "execution_count": 1,
   "metadata": {},
   "outputs": [
    {
     "name": "stdout",
     "output_type": "stream",
     "text": [
      "/mnt/fs1/mayu-ot/Experiments/loc_iparaphrasing\n"
     ]
    },
    {
     "name": "stderr",
     "output_type": "stream",
     "text": [
      "/home/mayu-ot/miniconda3/envs/py36chainer/lib/python3.6/site-packages/h5py/__init__.py:36: FutureWarning: Conversion of the second argument of issubdtype from `float` to `np.floating` is deprecated. In future, it will be treated as `np.float64 == np.dtype(float).type`.\n",
      "  from ._conv import register_converters as _register_converters\n"
     ]
    }
   ],
   "source": [
    "% cd /home/mayu-ot/durga/Experiments/loc_iparaphrasing/\n",
    "\n",
    "from chainercv.utils import bbox_iou, non_maximum_suppression\n",
    "import chainer\n",
    "import numpy as np\n",
    "import json\n",
    "import pandas as pd\n",
    "import tables\n",
    "from chainer.dataset.convert import concat_examples\n",
    "from sklearn.metrics import f1_score, precision_score, recall_score\n",
    "from func.datasets.datasets import get_agg_roi_df\n",
    "%matplotlib inline\n",
    "import matplotlib.pyplot as plt"
   ]
  },
  {
   "cell_type": "code",
   "execution_count": 8,
   "metadata": {},
   "outputs": [],
   "source": [
    "from func.datasets.datasets import BBoxDataset, PLCLCBBoxDataset, PreCompFeatDataset"
   ]
  },
  {
   "cell_type": "code",
   "execution_count": 3,
   "metadata": {},
   "outputs": [],
   "source": [
    "p_bbox_data = PLCLCBBoxDataset('test')\n",
    "pbbox_df = p_bbox_data.df\n",
    "gt_bbox_data = BBoxDataset('test')\n",
    "gtbbox_df = gt_bbox_data.df"
   ]
  },
  {
   "cell_type": "code",
   "execution_count": 5,
   "metadata": {},
   "outputs": [],
   "source": [
    "df = pd.read_csv('data/phrase_pair_test.csv', index_col=0)"
   ]
  },
  {
   "cell_type": "code",
   "execution_count": 6,
   "metadata": {},
   "outputs": [
    {
     "name": "stderr",
     "output_type": "stream",
     "text": [
      "/home/mayu-ot/miniconda3/envs/py36chainer/lib/python3.6/site-packages/IPython/html.py:14: ShimWarning: The `IPython.html` package has been deprecated since IPython 4.0. You should import from `notebook` instead. `IPython.html.widgets` has moved to `ipywidgets`.\n",
      "  \"`IPython.html.widgets` has moved to `ipywidgets`.\", ShimWarning)\n"
     ]
    },
    {
     "data": {
      "application/vnd.jupyter.widget-view+json": {
       "model_id": "a214ea2c5ba648828636ebf1922982db",
       "version_major": 2,
       "version_minor": 0
      },
      "text/plain": [
       "IntProgress(value=0, max=81285)"
      ]
     },
     "metadata": {},
     "output_type": "display_data"
    }
   ],
   "source": [
    "from IPython.html.widgets import IntProgress\n",
    "from IPython.display import display\n",
    "\n",
    "def lget_bbox(df, img_id, phr):\n",
    "    ymin = df.at[(img_id, phr), 'ymin']\n",
    "    xmin = df.at[(img_id, phr), 'xmin']\n",
    "    ymax = df.at[(img_id, phr), 'ymax']\n",
    "    xmax = df.at[(img_id, phr), 'xmax']\n",
    "    return np.asarray([ymin, xmin, ymax, xmax])\n",
    "\n",
    "ip = IntProgress(min=0, max=len(df))\n",
    "display(ip)\n",
    "\n",
    "ious1 = []\n",
    "ious2 = []\n",
    "\n",
    "for i, row in df.iterrows():\n",
    "    im_id, phr1, phr2 = row[['image', 'original_phrase1', 'original_phrase2']]\n",
    "    p_bbox1 = lget_bbox(pbbox_df, im_id, phr1)[None, :]\n",
    "    p_bbox2 = lget_bbox(pbbox_df, im_id, phr2)[None, :]\n",
    "    \n",
    "    gt_bbox1 = lget_bbox(gtbbox_df, im_id, phr1)[None, :]\n",
    "    gt_bbox2 = lget_bbox(gtbbox_df, im_id, phr2)[None, :]\n",
    "    \n",
    "    iou1 = bbox_iou(p_bbox1, gt_bbox1)\n",
    "    iou2 = bbox_iou(p_bbox2, gt_bbox2)\n",
    "    \n",
    "    ious1.append(iou1[0])\n",
    "    ious2.append(iou2[0])\n",
    "    \n",
    "    ip.value = i\n",
    "\n",
    "plclc_ious1 = ious1\n",
    "plclc_ious2 = ious2"
   ]
  },
  {
   "cell_type": "code",
   "execution_count": 14,
   "metadata": {},
   "outputs": [
    {
     "name": "stdout",
     "output_type": "stream",
     "text": [
      "test data: 81285 pairs\n"
     ]
    },
    {
     "data": {
      "application/vnd.jupyter.widget-view+json": {
       "model_id": "2065ec2da78746aab7e2ba8e738787b3",
       "version_major": 2,
       "version_minor": 0
      },
      "text/plain": [
       "IntProgress(value=0, max=81285)"
      ]
     },
     "metadata": {},
     "output_type": "display_data"
    }
   ],
   "source": [
    "syn_data = PreCompFeatDataset('test')\n",
    "\n",
    "ip = IntProgress(min=0, max=len(syn_data))\n",
    "display(ip)\n",
    "\n",
    "ious1 = []\n",
    "ious2 = []\n",
    "\n",
    "for i in range(len(syn_data)):\n",
    "    gt_bbox1, gt_bbox2 = syn_data.get_bbox(i)\n",
    "    gt_bbox1 = np.asarray(gt_bbox1)\n",
    "    gt_bbox2 = np.asarray(gt_bbox2)\n",
    "    \n",
    "    s_bbox1, s_bbox2 = syn_data.get_jbbox(i)\n",
    "    \n",
    "    iou1 = bbox_iou(s_bbox1[None,:], gt_bbox1[None,:])\n",
    "    iou2 = bbox_iou(s_bbox2[None,:], gt_bbox2[None,:])\n",
    "    \n",
    "    ious1.append(iou1[0])\n",
    "    ious2.append(iou2[0])\n",
    "    \n",
    "    ip.value = i\n",
    "    \n",
    "syn_ious1 = ious1\n",
    "syn_ious2 = ious2"
   ]
  },
  {
   "cell_type": "code",
   "execution_count": 17,
   "metadata": {},
   "outputs": [],
   "source": [
    "import seaborn as sns\n",
    "sns.set()"
   ]
  },
  {
   "cell_type": "code",
   "execution_count": 18,
   "metadata": {},
   "outputs": [
    {
     "data": {
      "text/plain": [
       "<matplotlib.axes._subplots.AxesSubplot at 0x7f8bc8592b38>"
      ]
     },
     "execution_count": 18,
     "metadata": {},
     "output_type": "execute_result"
    },
    {
     "data": {
      "image/png": "[encoded data removed]",
      "text/plain": [
       "<matplotlib.figure.Figure at 0x7f8bc84473c8>"
      ]
     },
     "metadata": {},
     "output_type": "display_data"
    }
   ],
   "source": [
    "sns.distplot(ious1, kde=False)"
   ]
  },
  {
   "cell_type": "code",
   "execution_count": 31,
   "metadata": {},
   "outputs": [
    {
     "name": "stdout",
     "output_type": "stream",
     "text": [
      "0.0-0.1 73.33 (4.9%)\n",
      "0.1-0.2 74.60 (5.6%)\n",
      "0.2-0.3 70.64 (8.5%)\n",
      "0.3-0.4 75.34 (14.2%)\n",
      "0.4-0.5 78.11 (17.5%)\n",
      "0.5-0.6 82.06 (15.1%)\n",
      "0.6-0.7 88.68 (14.4%)\n",
      "0.7-0.8 90.88 (12.0%)\n",
      "0.8-0.9 94.57 (6.5%)\n",
      "0.9-1.0 94.67 (1.2%)\n",
      "0.0-0.1 0.00 (0.0%)\n",
      "0.1-0.2 88.89 (0.1%)\n",
      "0.2-0.3 85.84 (1.0%)\n",
      "0.3-0.4 87.00 (5.7%)\n",
      "0.4-0.5 85.76 (16.5%)\n",
      "0.5-0.6 86.04 (27.0%)\n",
      "0.6-0.7 86.25 (27.7%)\n",
      "0.7-0.8 89.02 (16.1%)\n",
      "0.8-0.9 91.02 (5.1%)\n",
      "0.9-1.0 89.11 (0.8%)\n",
      "0.0-0.1 43.21 (4.9%)\n",
      "0.1-0.2 39.92 (5.6%)\n",
      "0.2-0.3 31.32 (8.5%)\n",
      "0.3-0.4 33.66 (14.2%)\n",
      "0.4-0.5 37.72 (17.5%)\n",
      "0.5-0.6 53.36 (15.1%)\n",
      "0.6-0.7 65.43 (14.4%)\n",
      "0.7-0.8 76.60 (12.0%)\n",
      "0.8-0.9 86.86 (6.5%)\n",
      "0.9-1.0 91.61 (1.2%)\n",
      "0.0-0.1 0.00 (0.0%)\n",
      "0.1-0.2 33.33 (0.1%)\n",
      "0.2-0.3 51.18 (1.0%)\n",
      "0.3-0.4 54.63 (5.7%)\n",
      "0.4-0.5 54.06 (16.5%)\n",
      "0.5-0.6 55.77 (27.0%)\n",
      "0.6-0.7 60.73 (27.7%)\n",
      "0.7-0.8 63.55 (16.1%)\n",
      "0.8-0.9 70.41 (5.1%)\n",
      "0.9-1.0 74.61 (0.8%)\n",
      "0.0-0.1 77.21 (4.9%)\n",
      "0.1-0.2 76.11 (5.6%)\n",
      "0.2-0.3 75.25 (8.5%)\n",
      "0.3-0.4 75.14 (14.2%)\n",
      "0.4-0.5 78.67 (17.5%)\n",
      "0.5-0.6 83.01 (15.1%)\n",
      "0.6-0.7 89.05 (14.4%)\n",
      "0.7-0.8 90.86 (12.0%)\n",
      "0.8-0.9 94.46 (6.5%)\n",
      "0.9-1.0 94.53 (1.2%)\n",
      "0.0-0.1 0.00 (0.0%)\n",
      "0.1-0.2 80.00 (0.1%)\n",
      "0.2-0.3 82.03 (1.0%)\n",
      "0.3-0.4 85.69 (5.7%)\n",
      "0.4-0.5 84.69 (16.5%)\n",
      "0.5-0.6 85.50 (27.0%)\n",
      "0.6-0.7 84.14 (27.7%)\n",
      "0.7-0.8 85.69 (16.1%)\n",
      "0.8-0.9 88.98 (5.1%)\n",
      "0.9-1.0 92.53 (0.8%)\n"
     ]
    }
   ],
   "source": [
    "# vision + langauge\n",
    "def get_results(df_file, ious1, ious2):\n",
    "    df = pd.read_csv(df_file)\n",
    "    df['ious1'] = np.asarray(ious1)\n",
    "    df['ious2'] = np.asarray(ious2)\n",
    "\n",
    "    iou_thres = []\n",
    "    f1_scores = []\n",
    "    interval = 0.1\n",
    "    for thres in np.arange(interval, 1+interval, interval):\n",
    "        iou_mean = np.mean(df[['ious1', 'ious2']].values, axis=1)\n",
    "        sub_data = df[(iou_mean >= thres-interval) & (iou_mean < thres)]\n",
    "        score = f1_score(sub_data.ytrue, sub_data.ypred)\n",
    "        print('%.1f-%.1f' % (thres-interval, thres), '%.2f' % (100.*score), '(%.1f%%)'%(100*len(sub_data) / len(df)))\n",
    "        iou_thres.append(thres)\n",
    "        f1_scores.append(100*score)\n",
    "    \n",
    "    return f1_scores, f1_score(df.ytrue, df.ypred) * 100\n",
    "\n",
    "plclc_scores, _ = get_results('bo_out/frcnn+wea/plclc-roi/14-frcnn+wea-plclc-roi_20180413-165302/res_test.csv', plclc_ious1, plclc_ious2)\n",
    "synthesized_scores, _ = get_results('bo_out/vis+lng+gtroi/20-gtroi_jittering_20180817-151855/res_test.csv', syn_ious1, syn_ious2)\n",
    "vis_plclc_scores, _ = get_results('bo_out/frcnn+none/plclc-wo-vis/19-frcnn+none-plclc-wo-vis_20180520-043930/res_test.csv', plclc_ious1, plclc_ious2)\n",
    "vis_synthesized_scores, _ = get_results('bo_out/vis+gtroi/12-gtroi_jittering_20180817-025111/res_test.csv', syn_ious1, syn_ious2)\n",
    "plclc_lng_scores, lng_avr_score = get_results('bo_out/none+wea/wo-vis/11-none+wea-wo-vis_20180410-220417/res_test.csv', plclc_ious1, plclc_ious2)\n",
    "synthesized_lng_scores, lng_avr_score = get_results('bo_out/none+wea/wo-vis/11-none+wea-wo-vis_20180410-220417/res_test.csv', syn_ious1, syn_ious2)"
   ]
  },
  {
   "cell_type": "code",
   "execution_count": 39,
   "metadata": {},
   "outputs": [
    {
     "data": {
      "image/png": "[encoded data removed]",
      "text/plain": [
       "<matplotlib.figure.Figure at 0x7fed4931a320>"
      ]
     },
     "metadata": {},
     "output_type": "display_data"
    }
   ],
   "source": [
    "interval = 0.1\n",
    "sns.set_context(\"poster\")\n",
    "palette=sns.color_palette(\"coolwarm\", 3)\n",
    "# palette=sns.diverging_palette(220, 20, n=5)\n",
    "\n",
    "N = len(plclc_scores)\n",
    "\n",
    "lng_df = pd.DataFrame({'IoU': np.arange(interval, 1+interval, interval),\n",
    "                      'Avr. F1 score': plclc_lng_scores,\n",
    "                       'models': ['phrase-only']*N})\n",
    "\n",
    "vis_plclc_df = pd.DataFrame({'IoU': np.arange(interval, 1+interval, interval),\n",
    "                      'Avr. F1 score': vis_plclc_scores,\n",
    "                       'models': ['visual-only (PL-CLC)']*N})\n",
    "\n",
    "plclc_df = pd.DataFrame({'IoU': np.arange(interval, 1+interval, interval),\n",
    "                      'Avr. F1 score': plclc_scores,\n",
    "                      'models': ['ours (PL-CLC)']*N})\n",
    "\n",
    "all_data = pd.concat((vis_plclc_df, lng_df, plclc_df))\n",
    "\n",
    "plt.figure(figsize=(10, 4))\n",
    "# plt.axhline(lng_avr_score, color='k', linestyle='--', label='phrase-only')\n",
    "g = sns.barplot(x='IoU', y='Avr. F1 score', hue='models', data=all_data, palette=palette)\n",
    "g.set_xticklabels(['%.1f'%x for x in np.arange(interval, 1+interval, interval)])\n",
    "# plt.legend(bbox_to_anchor=(1.05, 1), loc=2, borderaxespad=0.)\n",
    "plt.gca().legend(loc='upper center', bbox_to_anchor=(0.5, -0.2), ncol=2)\n",
    "plt.savefig('figures/aaai/detailed_results_bar_plclc.pdf', bbox_inches='tight')"
   ]
  },
  {
   "cell_type": "code",
   "execution_count": 38,
   "metadata": {},
   "outputs": [
    {
     "data": {
      "image/png": "[encoded data removed]",
      "text/plain": [
       "<matplotlib.figure.Figure at 0x7fed498dfcf8>"
      ]
     },
     "metadata": {},
     "output_type": "display_data"
    }
   ],
   "source": [
    "interval = 0.1\n",
    "sns.set_context(\"poster\")\n",
    "palette=sns.color_palette(\"coolwarm\", 3)\n",
    "# palette=sns.diverging_palette(220, 20, n=5)\n",
    "\n",
    "N = len(plclc_scores)\n",
    "\n",
    "lng_df = pd.DataFrame({'IoU': np.arange(interval, 1+interval, interval),\n",
    "                      'Avr. F1 score': synthesized_lng_scores,\n",
    "                       'models': ['phrase-only']*N})\n",
    "\n",
    "\n",
    "vis_synthesized_df = pd.DataFrame({'IoU': np.arange(interval, 1+interval, interval),\n",
    "                      'Avr. F1 score': vis_synthesized_scores,\n",
    "                       'models': ['visual-only (synthesized)']*N})\n",
    "\n",
    "                       \n",
    "synthesized_df = pd.DataFrame({'IoU': np.arange(interval, 1+interval, interval),\n",
    "                      'Avr. F1 score': synthesized_scores,\n",
    "                      'models': ['ours (synthesized)']*N})\n",
    "\n",
    "all_data = pd.concat((vis_synthesized_df, lng_df, synthesized_df))\n",
    "\n",
    "plt.figure(figsize=(10, 4))\n",
    "# plt.axhline(lng_avr_score, color='k', linestyle='--', label='phrase-only')\n",
    "g = sns.barplot(x='IoU', y='Avr. F1 score', hue='models', data=all_data, palette=palette)\n",
    "g.set_xticklabels(['%.1f'%x for x in np.arange(interval, 1+interval, interval)])\n",
    "# plt.legend(bbox_to_anchor=(1.05, 1), loc=2, borderaxespad=0.)\n",
    "plt.gca().legend(loc='upper center', bbox_to_anchor=(0.5, -0.2), ncol=2)\n",
    "plt.savefig('figures/aaai/detailed_results_bar_synthesized.pdf', bbox_inches='tight')"
   ]
  },
  {
   "cell_type": "code",
   "execution_count": null,
   "metadata": {},
   "outputs": [],
   "source": []
  }
 ],
 "metadata": {
  "kernelspec": {
   "display_name": "Python 3",
   "language": "python",
   "name": "python3"
  },
  "language_info": {
   "codemirror_mode": {
    "name": "ipython",
    "version": 3
   },
   "file_extension": ".py",
   "mimetype": "text/x-python",
   "name": "python",
   "nbconvert_exporter": "python",
   "pygments_lexer": "ipython3",
   "version": "3.6.4"
  }
 },
 "nbformat": 4,
 "nbformat_minor": 2
}
