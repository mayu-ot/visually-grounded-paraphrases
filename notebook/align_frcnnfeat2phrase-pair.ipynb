{
 "cells": [
  {
   "cell_type": "markdown",
   "metadata": {},
   "source": [
    "jitteringをかけたfrcnn featureのnumpy arrayとphrase pairのデータセットのalignment"
   ]
  },
  {
   "cell_type": "code",
   "execution_count": 1,
   "metadata": {},
   "outputs": [
    {
     "name": "stdout",
     "output_type": "stream",
     "text": [
      "/mnt/fs1/mayu-ot/Experiments/loc_iparaphrasing\n"
     ]
    }
   ],
   "source": [
    "% cd /home/mayu-ot/durga/Experiments/loc_iparaphrasing/"
   ]
  },
  {
   "cell_type": "code",
   "execution_count": 2,
   "metadata": {},
   "outputs": [
    {
     "name": "stderr",
     "output_type": "stream",
     "text": [
      "/home/mayu-ot/miniconda3/envs/py36chainer/lib/python3.6/site-packages/h5py/__init__.py:36: FutureWarning: Conversion of the second argument of issubdtype from `float` to `np.floating` is deprecated. In future, it will be treated as `np.float64 == np.dtype(float).type`.\n",
      "  from ._conv import register_converters as _register_converters\n"
     ]
    }
   ],
   "source": [
    "import numpy as np\n",
    "from func.datasets.datasets import BBoxDataset, iParaphraseDataset\n",
    "from func.datasets.converters import cvrt_bbox"
   ]
  },
  {
   "cell_type": "code",
   "execution_count": 3,
   "metadata": {},
   "outputs": [],
   "source": [
    "bbox_data = BBoxDataset('val')"
   ]
  },
  {
   "cell_type": "code",
   "execution_count": 4,
   "metadata": {},
   "outputs": [
    {
     "data": {
      "text/html": [
       "<div>\n",
       "<style scoped>\n",
       "    .dataframe tbody tr th:only-of-type {\n",
       "        vertical-align: middle;\n",
       "    }\n",
       "\n",
       "    .dataframe tbody tr th {\n",
       "        vertical-align: top;\n",
       "    }\n",
       "\n",
       "    .dataframe thead th {\n",
       "        text-align: right;\n",
       "    }\n",
       "</style>\n",
       "<table border=\"1\" class=\"dataframe\">\n",
       "  <thead>\n",
       "    <tr style=\"text-align: right;\">\n",
       "      <th></th>\n",
       "      <th></th>\n",
       "      <th>ymin</th>\n",
       "      <th>xmin</th>\n",
       "      <th>ymax</th>\n",
       "      <th>xmax</th>\n",
       "      <th>n_id</th>\n",
       "    </tr>\n",
       "    <tr>\n",
       "      <th>image</th>\n",
       "      <th>org_phrase</th>\n",
       "      <th></th>\n",
       "      <th></th>\n",
       "      <th></th>\n",
       "      <th></th>\n",
       "      <th></th>\n",
       "    </tr>\n",
       "  </thead>\n",
       "  <tbody>\n",
       "    <tr>\n",
       "      <th rowspan=\"5\" valign=\"top\">301246</th>\n",
       "      <th>A group of men</th>\n",
       "      <td>72</td>\n",
       "      <td>92</td>\n",
       "      <td>257</td>\n",
       "      <td>495</td>\n",
       "      <td>0</td>\n",
       "    </tr>\n",
       "    <tr>\n",
       "      <th>A group of people</th>\n",
       "      <td>72</td>\n",
       "      <td>92</td>\n",
       "      <td>257</td>\n",
       "      <td>495</td>\n",
       "      <td>1</td>\n",
       "    </tr>\n",
       "    <tr>\n",
       "      <th>Dock workers</th>\n",
       "      <td>72</td>\n",
       "      <td>92</td>\n",
       "      <td>257</td>\n",
       "      <td>495</td>\n",
       "      <td>2</td>\n",
       "    </tr>\n",
       "    <tr>\n",
       "      <th>Three men</th>\n",
       "      <td>72</td>\n",
       "      <td>130</td>\n",
       "      <td>257</td>\n",
       "      <td>480</td>\n",
       "      <td>3</td>\n",
       "    </tr>\n",
       "    <tr>\n",
       "      <th>Workers</th>\n",
       "      <td>72</td>\n",
       "      <td>92</td>\n",
       "      <td>257</td>\n",
       "      <td>495</td>\n",
       "      <td>4</td>\n",
       "    </tr>\n",
       "  </tbody>\n",
       "</table>\n",
       "</div>"
      ],
      "text/plain": [
       "                          ymin  xmin  ymax  xmax  n_id\n",
       "image  org_phrase                                     \n",
       "301246 A group of men       72    92   257   495     0\n",
       "       A group of people    72    92   257   495     1\n",
       "       Dock workers         72    92   257   495     2\n",
       "       Three men            72   130   257   480     3\n",
       "       Workers              72    92   257   495     4"
      ]
     },
     "execution_count": 4,
     "metadata": {},
     "output_type": "execute_result"
    }
   ],
   "source": [
    "bbox_data.df.head()"
   ]
  },
  {
   "cell_type": "code",
   "execution_count": 5,
   "metadata": {},
   "outputs": [],
   "source": [
    "class PPairDataset(iParaphraseDataset):\n",
    "    def __init__(self, split, san_check=False):\n",
    "        super(PPairDataset, self).__init__(split, san_check)\n",
    "        self.bbox_df = BBoxDataset(split).df\n",
    "        self.vis_feat = np.load('data/region_feat/jitter_roi-frcnn/%s.npy' % split)\n",
    "        \n",
    "    def get_feat_row_id(self, i):\n",
    "        img_id = self.pair_data.iloc[i][['image']].values[0]\n",
    "        phr1, phr2 = self.pair_data.iloc[i][['original_phrase1', 'original_phrase2']]\n",
    "        nid_1 = self.bbox_df.loc[(img_id, phr1)].n_id\n",
    "        nid_2 = self.bbox_df.loc[(img_id, phr2)].n_id\n",
    "        return nid_1, nid_2\n",
    "    \n",
    "    def get_bbox(self, i):\n",
    "        img_id = self.pair_data.iloc[i][['image']].values[0]\n",
    "        phr1, phr2 = self.pair_data.iloc[i][['original_phrase1', 'original_phrase2']]\n",
    "        bbox_1 = self.bbox_df.loc[(img_id, phr1)][['ymin', 'xmin', 'ymax', 'xmax']]\n",
    "        bbox_2 = self.bbox_df.loc[(img_id, phr2)][['ymin', 'xmin', 'ymax', 'xmax']]\n",
    "        return bbox_1, bbox_2\n",
    "    \n",
    "    def get_vis_feat(self, i):\n",
    "        nid_1, nid_2 = self.get_feat_row_id(i)\n",
    "        return self.vis_feat[nid_1], self.vis_feat[nid_2]\n",
    "        \n",
    "    def get_example(self, i):\n",
    "        xvis_1, xvis_2 = self.get_vis_feat(i)\n",
    "        img = self.read_image(i)\n",
    "        phr_1, phr_2 = self.get_phrase_feat(i)\n",
    "        l = self.pair_data.iloc[i][['ytrue']].values[0]\n",
    "        \n",
    "        return img, phr_1, phr_2, xvis_1, xvis_2, l"
   ]
  },
  {
   "cell_type": "code",
   "execution_count": 7,
   "metadata": {},
   "outputs": [
    {
     "name": "stdout",
     "output_type": "stream",
     "text": [
      "val data: 81 pairs\n"
     ]
    }
   ],
   "source": [
    "p_data = PPairDataset('val', san_check=True)"
   ]
  },
  {
   "cell_type": "code",
   "execution_count": 12,
   "metadata": {},
   "outputs": [],
   "source": [
    "img, phr_1, phr_2, xvis_1, xvis_2, l =p_data[80]"
   ]
  },
  {
   "cell_type": "code",
   "execution_count": 13,
   "metadata": {},
   "outputs": [
    {
     "data": {
      "text/plain": [
       "False"
      ]
     },
     "execution_count": 13,
     "metadata": {},
     "output_type": "execute_result"
    }
   ],
   "source": [
    "l"
   ]
  },
  {
   "cell_type": "code",
   "execution_count": null,
   "metadata": {},
   "outputs": [],
   "source": []
  }
 ],
 "metadata": {
  "kernelspec": {
   "display_name": "Python 3",
   "language": "python",
   "name": "python3"
  },
  "language_info": {
   "codemirror_mode": {
    "name": "ipython",
    "version": 3
   },
   "file_extension": ".py",
   "mimetype": "text/x-python",
   "name": "python",
   "nbconvert_exporter": "python",
   "pygments_lexer": "ipython3",
   "version": "3.6.4"
  }
 },
 "nbformat": 4,
 "nbformat_minor": 2
}
