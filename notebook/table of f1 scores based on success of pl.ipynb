{
 "cells": [
  {
   "cell_type": "markdown",
   "metadata": {},
   "source": [
    "Compute f1 scores when:\n",
    "\n",
    "- two phrases are correctly localized\n",
    "- only one phrases are correctly localized\n",
    "- both failed"
   ]
  },
  {
   "cell_type": "code",
   "execution_count": 1,
   "metadata": {},
   "outputs": [
    {
     "name": "stdout",
     "output_type": "stream",
     "text": [
      "/mnt/fs1/mayu-ot/Experiments/loc_iparaphrasing\n"
     ]
    },
    {
     "name": "stderr",
     "output_type": "stream",
     "text": [
      "/home/mayu-ot/miniconda3/envs/py36chainer/lib/python3.6/site-packages/h5py/__init__.py:36: FutureWarning: Conversion of the second argument of issubdtype from `float` to `np.floating` is deprecated. In future, it will be treated as `np.float64 == np.dtype(float).type`.\n",
      "  from ._conv import register_converters as _register_converters\n",
      "/home/mayu-ot/miniconda3/envs/py36chainer/lib/python3.6/site-packages/IPython/html.py:14: ShimWarning: The `IPython.html` package has been deprecated since IPython 4.0. You should import from `notebook` instead. `IPython.html.widgets` has moved to `ipywidgets`.\n",
      "  \"`IPython.html.widgets` has moved to `ipywidgets`.\", ShimWarning)\n"
     ]
    }
   ],
   "source": [
    "% cd /home/mayu-ot/durga/Experiments/loc_iparaphrasing/\n",
    "\n",
    "from chainercv.utils import bbox_iou, non_maximum_suppression\n",
    "import chainer\n",
    "import numpy as np\n",
    "import json\n",
    "import pandas as pd\n",
    "import tables\n",
    "from chainer.dataset.convert import concat_examples\n",
    "from sklearn.metrics import f1_score, precision_score, recall_score\n",
    "from func.datasets.datasets import get_agg_roi_df\n",
    "%matplotlib inline\n",
    "import matplotlib.pyplot as plt\n",
    "from IPython.html.widgets import IntProgress\n",
    "from IPython.display import display"
   ]
  },
  {
   "cell_type": "code",
   "execution_count": 2,
   "metadata": {},
   "outputs": [],
   "source": [
    "from func.datasets.datasets import BBoxDataset, PLCLCBBoxDataset"
   ]
  },
  {
   "cell_type": "code",
   "execution_count": 3,
   "metadata": {},
   "outputs": [],
   "source": [
    "def lget_bbox(df, img_id, phr):\n",
    "    ymin = df.at[(img_id, phr), 'ymin']\n",
    "    xmin = df.at[(img_id, phr), 'xmin']\n",
    "    ymax = df.at[(img_id, phr), 'ymax']\n",
    "    xmax = df.at[(img_id, phr), 'xmax']\n",
    "    return np.asarray([ymin, xmin, ymax, xmax])"
   ]
  },
  {
   "cell_type": "code",
   "execution_count": 4,
   "metadata": {},
   "outputs": [],
   "source": [
    "p_bbox_data = PLCLCBBoxDataset('test')\n",
    "pbbox_df = p_bbox_data.df\n",
    "gt_bbox_data = BBoxDataset('test')\n",
    "gtbbox_df = gt_bbox_data.df"
   ]
  },
  {
   "cell_type": "code",
   "execution_count": 5,
   "metadata": {},
   "outputs": [
    {
     "data": {
      "application/vnd.jupyter.widget-view+json": {
       "model_id": "567184a6c31e414b8c9a0cde4dea3888",
       "version_major": 2,
       "version_minor": 0
      },
      "text/plain": [
       "IntProgress(value=0, max=81285)"
      ]
     },
     "metadata": {},
     "output_type": "display_data"
    }
   ],
   "source": [
    "df = pd.read_csv('data/phrase_pair_test.csv')\n",
    "ip = IntProgress(min=0, max=len(df))\n",
    "display(ip)\n",
    "\n",
    "ious1 = []\n",
    "ious2 = []\n",
    "\n",
    "for i, row in df.iterrows():\n",
    "    im_id, phr1, phr2 = row[['image', 'original_phrase1', 'original_phrase2']]\n",
    "    p_bbox1 = lget_bbox(pbbox_df, im_id, phr1)[None, :]\n",
    "    p_bbox2 = lget_bbox(pbbox_df, im_id, phr2)[None, :]\n",
    "    \n",
    "    gt_bbox1 = lget_bbox(gtbbox_df, im_id, phr1)[None, :]\n",
    "    gt_bbox2 = lget_bbox(gtbbox_df, im_id, phr2)[None, :]\n",
    "    \n",
    "    iou1 = bbox_iou(p_bbox1, gt_bbox1)\n",
    "    iou2 = bbox_iou(p_bbox2, gt_bbox2)\n",
    "    \n",
    "    ious1.append(iou1[0])\n",
    "    ious2.append(iou2[0])\n",
    "    \n",
    "    ip.value = i"
   ]
  },
  {
   "cell_type": "code",
   "execution_count": 6,
   "metadata": {},
   "outputs": [],
   "source": [
    "plclc_ious1 = np.asarray(ious1).ravel()\n",
    "plclc_ious2 = np.asarray(ious2).ravel()"
   ]
  },
  {
   "cell_type": "code",
   "execution_count": 7,
   "metadata": {},
   "outputs": [],
   "source": [
    "import seaborn as sns\n",
    "sns.set()"
   ]
  },
  {
   "cell_type": "code",
   "execution_count": 8,
   "metadata": {},
   "outputs": [
    {
     "name": "stdout",
     "output_type": "stream",
     "text": [
      "both success: 0.3\n",
      "one success: 0.5\n",
      "both fail: 0.2\n"
     ]
    }
   ],
   "source": [
    "# both success\n",
    "both_success = np.logical_and((plclc_ious1 >= .5), (plclc_ious2 >= .5))\n",
    "\n",
    "# only one success\n",
    "one_success = np.logical_xor((plclc_ious1 >= .5), (plclc_ious2 >= .5))\n",
    "\n",
    "# both fail\n",
    "both_fail = np.logical_and((plclc_ious1 < .5), (plclc_ious2 < .5))\n",
    "\n",
    "print('both success: %.1f' % (both_success.sum()/ both_success.size))\n",
    "print('one success: %.1f' % (one_success.sum()/ both_success.size))\n",
    "print('both fail: %.1f' % (both_fail.sum()/ both_success.size))"
   ]
  },
  {
   "cell_type": "code",
   "execution_count": 13,
   "metadata": {},
   "outputs": [
    {
     "name": "stdout",
     "output_type": "stream",
     "text": [
      "both_success: 0.24\n",
      "one_success: 0.05\n",
      "both_fail: 0.15\n"
     ]
    }
   ],
   "source": [
    "df = pd.read_csv('data/phrase_pair_test.csv', index_col=0)\n",
    "labels = df.loc[both_success, ['ytrue']]\n",
    "print('both_success: %.2f' % (sum(labels.values)/len(labels)))\n",
    "labels = df.loc[one_success, ['ytrue']]\n",
    "print('one_success: %.2f' % (sum(labels.values)/len(labels)))\n",
    "labels = df.loc[both_fail, ['ytrue']]\n",
    "print('both_fail: %.2f' % (sum(labels.values)/len(labels)))"
   ]
  },
  {
   "cell_type": "code",
   "execution_count": 11,
   "metadata": {},
   "outputs": [
    {
     "name": "stdout",
     "output_type": "stream",
     "text": [
      "both success: f1 0.92, prec 0.93, rec 0.91\n",
      "one success: f1 0.70, prec 0.67, rec 0.73\n",
      "both fail: f1 0.78, prec 0.79, rec 0.76\n",
      "overall: f1 0.85, prec 0.85, rec 0.85\n"
     ]
    }
   ],
   "source": [
    "# Ours with plclc\n",
    "df = pd.read_csv('bo_out/frcnn+wea/plclc-roi/14-frcnn+wea-plclc-roi_20180413-165302/res_test.csv')\n",
    "ypred = df.ypred.values\n",
    "ytrue = df.ytrue.values\n",
    "\n",
    "f1 = f1_score(ytrue[both_success], ypred[both_success])\n",
    "prec = precision_score(ytrue[both_success], ypred[both_success])\n",
    "rec = recall_score(ytrue[both_success], ypred[both_success])\n",
    "print('both success: f1 %.2f, prec %.2f, rec %.2f' % (f1, prec, rec))\n",
    "\n",
    "f1 = f1_score(ytrue[one_success], ypred[one_success])\n",
    "prec = precision_score(ytrue[one_success], ypred[one_success])\n",
    "rec = recall_score(ytrue[one_success], ypred[one_success])\n",
    "print('one success: f1 %.2f, prec %.2f, rec %.2f' % (f1, prec, rec))\n",
    "\n",
    "f1 = f1_score(ytrue[both_fail], ypred[both_fail])\n",
    "prec = precision_score(ytrue[both_fail], ypred[both_fail])\n",
    "rec = recall_score(ytrue[both_fail], ypred[both_fail])\n",
    "print('both fail: f1 %.2f, prec %.2f, rec %.2f' % (f1, prec, rec))\n",
    "\n",
    "f1 = f1_score(ytrue, ypred)\n",
    "prec = precision_score(ytrue, ypred)\n",
    "rec = recall_score(ytrue, ypred)\n",
    "print('overall: f1 %.2f, prec %.2f, rec %.2f' % (f1, prec, rec))"
   ]
  },
  {
   "cell_type": "code",
   "execution_count": 13,
   "metadata": {},
   "outputs": [
    {
     "name": "stdout",
     "output_type": "stream",
     "text": [
      "both success: f1 0.80, prec 0.78, rec 0.84\n",
      "one success: f1 0.19, prec 0.15, rec 0.25\n",
      "both fail: f1 0.50, prec 0.51, rec 0.49\n",
      "overall: f1 0.60, prec 0.56, rec 0.65\n"
     ]
    }
   ],
   "source": [
    "# visual-only (plclc)\n",
    "df = pd.read_csv('bo_out/frcnn+none/plclc-wo-vis/19-frcnn+none-plclc-wo-vis_20180520-043930/res_test.csv')\n",
    "ypred = df.ypred.values\n",
    "ytrue = df.ytrue.values\n",
    "\n",
    "f1 = f1_score(ytrue[both_success], ypred[both_success])\n",
    "prec = precision_score(ytrue[both_success], ypred[both_success])\n",
    "rec = recall_score(ytrue[both_success], ypred[both_success])\n",
    "print('both success: f1 %.2f, prec %.2f, rec %.2f' % (f1, prec, rec))\n",
    "\n",
    "f1 = f1_score(ytrue[one_success], ypred[one_success])\n",
    "prec = precision_score(ytrue[one_success], ypred[one_success])\n",
    "rec = recall_score(ytrue[one_success], ypred[one_success])\n",
    "print('one success: f1 %.2f, prec %.2f, rec %.2f' % (f1, prec, rec))\n",
    "\n",
    "f1 = f1_score(ytrue[both_fail], ypred[both_fail])\n",
    "prec = precision_score(ytrue[both_fail], ypred[both_fail])\n",
    "rec = recall_score(ytrue[both_fail], ypred[both_fail])\n",
    "print('both fail: f1 %.2f, prec %.2f, rec %.2f' % (f1, prec, rec))\n",
    "\n",
    "f1 = f1_score(ytrue, ypred)\n",
    "prec = precision_score(ytrue, ypred)\n",
    "rec = recall_score(ytrue, ypred)\n",
    "print('overall: f1 %.2f, prec %.2f, rec %.2f' % (f1, prec, rec))"
   ]
  },
  {
   "cell_type": "code",
   "execution_count": 14,
   "metadata": {},
   "outputs": [
    {
     "data": {
      "application/vnd.jupyter.widget-view+json": {
       "model_id": "797b9737fca6403095752640c11b26f8",
       "version_major": 2,
       "version_minor": 0
      },
      "text/plain": [
       "IntProgress(value=0, max=81285)"
      ]
     },
     "metadata": {},
     "output_type": "display_data"
    },
    {
     "name": "stdout",
     "output_type": "stream",
     "text": [
      "test data: 81285 pairs\n"
     ]
    }
   ],
   "source": [
    "from func.datasets.datasets import PreCompFeatDataset\n",
    "\n",
    "df = pd.read_csv('data/phrase_pair_test.csv')\n",
    "ip = IntProgress(min=0, max=len(df))\n",
    "display(ip)\n",
    "\n",
    "jbbox_data = PreCompFeatDataset('test')\n",
    "\n",
    "j_ious1 = []\n",
    "j_ious2 = []\n",
    "\n",
    "for i, row in df.iterrows():\n",
    "    im_id, phr1, phr2 = row[['image', 'original_phrase1', 'original_phrase2']]\n",
    "    j_bbox1, j_bbox2 = jbbox_data.get_jbbox(i)\n",
    "    \n",
    "    gt_bbox1 = lget_bbox(gtbbox_df, im_id, phr1)[None, :]\n",
    "    gt_bbox2 = lget_bbox(gtbbox_df, im_id, phr2)[None, :]\n",
    "    \n",
    "    iou1 = bbox_iou(j_bbox1[None, :], gt_bbox1)\n",
    "    iou2 = bbox_iou(j_bbox2[None, :], gt_bbox2)\n",
    "    \n",
    "    j_ious1.append(iou1[0])\n",
    "    j_ious2.append(iou2[0])\n",
    "    \n",
    "    ip.value = i"
   ]
  },
  {
   "cell_type": "code",
   "execution_count": 15,
   "metadata": {},
   "outputs": [
    {
     "name": "stdout",
     "output_type": "stream",
     "text": [
      "both success: 0.5\n",
      "one success: 0.4\n",
      "both fail: 0.1\n"
     ]
    }
   ],
   "source": [
    "j_ious1 = np.asarray(j_ious1).ravel()\n",
    "j_ious2 = np.asarray(j_ious2).ravel()\n",
    "\n",
    "# both success\n",
    "both_success = np.logical_and((j_ious1 >= .5), (j_ious2 >= .5))\n",
    "\n",
    "# only one success\n",
    "one_success = np.logical_xor((j_ious1 >= .5), (j_ious2 >= .5))\n",
    "\n",
    "# both fail\n",
    "both_fail = np.logical_and((j_ious1 < .5), (j_ious2 < .5))\n",
    "\n",
    "print('both success: %.1f' % (both_success.sum()/ both_success.size))\n",
    "print('one success: %.1f' % (one_success.sum()/ both_success.size))\n",
    "print('both fail: %.1f' % (both_fail.sum()/ both_success.size))"
   ]
  },
  {
   "cell_type": "code",
   "execution_count": 16,
   "metadata": {},
   "outputs": [
    {
     "name": "stdout",
     "output_type": "stream",
     "text": [
      "both_success: 0.14\n",
      "one_success: 0.12\n",
      "both_fail: 0.13\n"
     ]
    }
   ],
   "source": [
    "df = pd.read_csv('data/phrase_pair_test.csv', index_col=0)\n",
    "labels = df.loc[both_success, ['ytrue']]\n",
    "print('both_success: %.2f' % (sum(labels.values)/len(labels)))\n",
    "labels = df.loc[one_success, ['ytrue']]\n",
    "print('one_success: %.2f' % (sum(labels.values)/len(labels)))\n",
    "labels = df.loc[both_fail, ['ytrue']]\n",
    "print('both_fail: %.2f' % (sum(labels.values)/len(labels)))"
   ]
  },
  {
   "cell_type": "code",
   "execution_count": 14,
   "metadata": {},
   "outputs": [
    {
     "name": "stdout",
     "output_type": "stream",
     "text": [
      "both success: f1 0.93, prec 0.92, rec 0.94\n",
      "one success: f1 0.76, prec 0.71, rec 0.82\n",
      "both fail: f1 0.82, prec 0.80, rec 0.84\n",
      "overall: f1 0.87, prec 0.85, rec 0.89\n"
     ]
    }
   ],
   "source": [
    "# Ours (gt roi)\n",
    "df = pd.read_csv('bo_out/vis+lng+gtroi/20-gtroi_jittering_20180817-151855/res_test.csv')\n",
    "ypred = df.ypred.values\n",
    "ytrue = df.ytrue.values\n",
    "\n",
    "f1 = f1_score(ytrue[both_success], ypred[both_success])\n",
    "prec = precision_score(ytrue[both_success], ypred[both_success])\n",
    "rec = recall_score(ytrue[both_success], ypred[both_success])\n",
    "print('both success: f1 %.2f, prec %.2f, rec %.2f' % (f1, prec, rec))\n",
    "\n",
    "f1 = f1_score(ytrue[one_success], ypred[one_success])\n",
    "prec = precision_score(ytrue[one_success], ypred[one_success])\n",
    "rec = recall_score(ytrue[one_success], ypred[one_success])\n",
    "print('one success: f1 %.2f, prec %.2f, rec %.2f' % (f1, prec, rec))\n",
    "\n",
    "f1 = f1_score(ytrue[both_fail], ypred[both_fail])\n",
    "prec = precision_score(ytrue[both_fail], ypred[both_fail])\n",
    "rec = recall_score(ytrue[both_fail], ypred[both_fail])\n",
    "print('both fail: f1 %.2f, prec %.2f, rec %.2f' % (f1, prec, rec))\n",
    "\n",
    "f1 = f1_score(ytrue, ypred)\n",
    "prec = precision_score(ytrue, ypred)\n",
    "rec = recall_score(ytrue, ypred)\n",
    "print('overall: f1 %.2f, prec %.2f, rec %.2f' % (f1, prec, rec))"
   ]
  },
  {
   "cell_type": "code",
   "execution_count": 15,
   "metadata": {},
   "outputs": [
    {
     "name": "stdout",
     "output_type": "stream",
     "text": [
      "both success: f1 0.67, prec 0.63, rec 0.71\n",
      "one success: f1 0.41, prec 0.30, rec 0.66\n",
      "both fail: f1 0.61, prec 0.56, rec 0.68\n",
      "overall: f1 0.59, prec 0.52, rec 0.70\n"
     ]
    }
   ],
   "source": [
    "# visual-only (gt roi)\n",
    "df = pd.read_csv('bo_out/vis+gtroi/12-gtroi_jittering_20180817-025111/res_test.csv')\n",
    "ypred = df.ypred.values\n",
    "ytrue = df.ytrue.values\n",
    "\n",
    "f1 = f1_score(ytrue[both_success], ypred[both_success])\n",
    "prec = precision_score(ytrue[both_success], ypred[both_success])\n",
    "rec = recall_score(ytrue[both_success], ypred[both_success])\n",
    "print('both success: f1 %.2f, prec %.2f, rec %.2f' % (f1, prec, rec))\n",
    "\n",
    "f1 = f1_score(ytrue[one_success], ypred[one_success])\n",
    "prec = precision_score(ytrue[one_success], ypred[one_success])\n",
    "rec = recall_score(ytrue[one_success], ypred[one_success])\n",
    "print('one success: f1 %.2f, prec %.2f, rec %.2f' % (f1, prec, rec))\n",
    "\n",
    "f1 = f1_score(ytrue[both_fail], ypred[both_fail])\n",
    "prec = precision_score(ytrue[both_fail], ypred[both_fail])\n",
    "rec = recall_score(ytrue[both_fail], ypred[both_fail])\n",
    "print('both fail: f1 %.2f, prec %.2f, rec %.2f' % (f1, prec, rec))\n",
    "\n",
    "f1 = f1_score(ytrue, ypred)\n",
    "prec = precision_score(ytrue, ypred)\n",
    "rec = recall_score(ytrue, ypred)\n",
    "print('overall: f1 %.2f, prec %.2f, rec %.2f' % (f1, prec, rec))"
   ]
  },
  {
   "cell_type": "code",
   "execution_count": null,
   "metadata": {},
   "outputs": [],
   "source": []
  }
 ],
 "metadata": {
  "kernelspec": {
   "display_name": "Python 3",
   "language": "python",
   "name": "python3"
  },
  "language_info": {
   "codemirror_mode": {
    "name": "ipython",
    "version": 3
   },
   "file_extension": ".py",
   "mimetype": "text/x-python",
   "name": "python",
   "nbconvert_exporter": "python",
   "pygments_lexer": "ipython3",
   "version": "3.6.4"
  }
 },
 "nbformat": 4,
 "nbformat_minor": 2
}
