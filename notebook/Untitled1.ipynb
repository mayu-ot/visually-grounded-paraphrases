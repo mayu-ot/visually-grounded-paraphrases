{
 "cells": [
  {
   "cell_type": "code",
   "execution_count": 1,
   "metadata": {},
   "outputs": [
    {
     "name": "stdout",
     "output_type": "stream",
     "text": [
      "/mnt/fs1/mayu-ot/Experiments/loc_iparaphrasing\n"
     ]
    }
   ],
   "source": [
    "% cd /home/mayu-ot/durga/Experiments/loc_iparaphrasing/"
   ]
  },
  {
   "cell_type": "code",
   "execution_count": 2,
   "metadata": {},
   "outputs": [],
   "source": [
    "import pandas as pd\n",
    "import numpy as np\n",
    "import tables"
   ]
  },
  {
   "cell_type": "code",
   "execution_count": 3,
   "metadata": {},
   "outputs": [],
   "source": [
    "def save_plclc_roi_feat(split):\n",
    "    h5file = tables.open_file('data/region_feat/frcnn_full/%s.h5' % split)\n",
    "    df = pd.read_csv('data/pl-clc/phrase_pair_wt_plclcbbox_%s.csv' % split)\n",
    "\n",
    "    roi_meta1 = pd.DataFrame({'image': df.image, 'roi': df.roi1})\n",
    "    roi_meta2 = pd.DataFrame({'image': df.image, 'roi': df.roi2})\n",
    "    roi_meta = pd.concat([roi_meta1, roi_meta2])\n",
    "\n",
    "    roi_meta_unique = roi_meta.drop_duplicates()\n",
    "    roi_meta_unique.index = np.arange(len(roi_meta_unique))\n",
    "\n",
    "    feat_arr = np.zeros((len(roi_meta_unique), 4096), dtype=np.float32)\n",
    "\n",
    "    for i, row in roi_meta_unique.iterrows():\n",
    "        image = row.image\n",
    "        roi = row.roi\n",
    "        arr = h5file.get_node('/', str(image))\n",
    "        feat_arr[i] = arr[roi]\n",
    "\n",
    "    np.save('data/region_feat/pl-clc-frcnn/%s' % split, feat_arr)\n",
    "    roi_meta_unique.to_csv('data/region_feat/pl-clc-frcnn/%s.csv' % split)"
   ]
  },
  {
   "cell_type": "code",
   "execution_count": 4,
   "metadata": {},
   "outputs": [],
   "source": [
    "save_plclc_roi_feat('val')\n",
    "save_plclc_roi_feat('test')\n",
    "save_plclc_roi_feat('train')"
   ]
  },
  {
   "cell_type": "code",
   "execution_count": null,
   "metadata": {},
   "outputs": [],
   "source": []
  }
 ],
 "metadata": {
  "kernelspec": {
   "display_name": "Python 3",
   "language": "python",
   "name": "python3"
  },
  "language_info": {
   "codemirror_mode": {
    "name": "ipython",
    "version": 3
   },
   "file_extension": ".py",
   "mimetype": "text/x-python",
   "name": "python",
   "nbconvert_exporter": "python",
   "pygments_lexer": "ipython3",
   "version": "3.6.4"
  }
 },
 "nbformat": 4,
 "nbformat_minor": 2
}
