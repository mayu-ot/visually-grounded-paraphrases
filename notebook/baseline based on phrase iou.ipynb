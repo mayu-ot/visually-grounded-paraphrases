{
 "cells": [
  {
   "cell_type": "markdown",
   "metadata": {},
   "source": [
    "Check the performance based on naive phrase similarity"
   ]
  },
  {
   "cell_type": "code",
   "execution_count": 1,
   "metadata": {},
   "outputs": [
    {
     "name": "stdout",
     "output_type": "stream",
     "text": [
      "/mnt/fs1/mayu-ot/Experiments/loc_iparaphrasing\n"
     ]
    }
   ],
   "source": [
    "% cd /home/mayu-ot/durga/Experiments/loc_iparaphrasing/\n",
    "\n",
    "import numpy as np\n",
    "import pandas as pd\n",
    "from sklearn.metrics import f1_score, precision_score, recall_score\n",
    "%matplotlib inline\n",
    "import matplotlib.pyplot as plt\n",
    "import seaborn as sns\n",
    "sns.set()"
   ]
  },
  {
   "cell_type": "code",
   "execution_count": 17,
   "metadata": {},
   "outputs": [],
   "source": [
    "from sklearn.metrics import precision_recall_curve, f1_score, precision_score, recall_score"
   ]
  },
  {
   "cell_type": "code",
   "execution_count": 2,
   "metadata": {},
   "outputs": [],
   "source": [
    "val_df = pd.read_csv('data/phrase_pair_val.csv')\n",
    "test_df = pd.read_csv('data/phrase_pair_test.csv')"
   ]
  },
  {
   "cell_type": "code",
   "execution_count": 3,
   "metadata": {},
   "outputs": [
    {
     "data": {
      "text/html": [
       "<div>\n",
       "<style scoped>\n",
       "    .dataframe tbody tr th:only-of-type {\n",
       "        vertical-align: middle;\n",
       "    }\n",
       "\n",
       "    .dataframe tbody tr th {\n",
       "        vertical-align: top;\n",
       "    }\n",
       "\n",
       "    .dataframe thead th {\n",
       "        text-align: right;\n",
       "    }\n",
       "</style>\n",
       "<table border=\"1\" class=\"dataframe\">\n",
       "  <thead>\n",
       "    <tr style=\"text-align: right;\">\n",
       "      <th></th>\n",
       "      <th>Unnamed: 0</th>\n",
       "      <th>image</th>\n",
       "      <th>phrase1</th>\n",
       "      <th>phrase2</th>\n",
       "      <th>original_phrase1</th>\n",
       "      <th>original_phrase2</th>\n",
       "      <th>ytrue</th>\n",
       "      <th>roi1</th>\n",
       "      <th>roi2</th>\n",
       "    </tr>\n",
       "  </thead>\n",
       "  <tbody>\n",
       "    <tr>\n",
       "      <th>0</th>\n",
       "      <td>0</td>\n",
       "      <td>100652400</td>\n",
       "      <td>man</td>\n",
       "      <td>hard+hat</td>\n",
       "      <td>A man</td>\n",
       "      <td>a hard hat</td>\n",
       "      <td>False</td>\n",
       "      <td>116</td>\n",
       "      <td>-1</td>\n",
       "    </tr>\n",
       "    <tr>\n",
       "      <th>1</th>\n",
       "      <td>1</td>\n",
       "      <td>100652400</td>\n",
       "      <td>man</td>\n",
       "      <td>caution+vest</td>\n",
       "      <td>A man</td>\n",
       "      <td>a caution vest</td>\n",
       "      <td>False</td>\n",
       "      <td>116</td>\n",
       "      <td>-1</td>\n",
       "    </tr>\n",
       "    <tr>\n",
       "      <th>2</th>\n",
       "      <td>2</td>\n",
       "      <td>100652400</td>\n",
       "      <td>man</td>\n",
       "      <td>street</td>\n",
       "      <td>A man</td>\n",
       "      <td>the street</td>\n",
       "      <td>False</td>\n",
       "      <td>116</td>\n",
       "      <td>21</td>\n",
       "    </tr>\n",
       "    <tr>\n",
       "      <th>3</th>\n",
       "      <td>3</td>\n",
       "      <td>100652400</td>\n",
       "      <td>man</td>\n",
       "      <td>orange+flag</td>\n",
       "      <td>A man</td>\n",
       "      <td>an orange flag</td>\n",
       "      <td>False</td>\n",
       "      <td>116</td>\n",
       "      <td>-1</td>\n",
       "    </tr>\n",
       "    <tr>\n",
       "      <th>4</th>\n",
       "      <td>4</td>\n",
       "      <td>100652400</td>\n",
       "      <td>blue+hard+hat</td>\n",
       "      <td>man</td>\n",
       "      <td>a blue hard hat</td>\n",
       "      <td>A man</td>\n",
       "      <td>False</td>\n",
       "      <td>-1</td>\n",
       "      <td>116</td>\n",
       "    </tr>\n",
       "  </tbody>\n",
       "</table>\n",
       "</div>"
      ],
      "text/plain": [
       "   Unnamed: 0      image        phrase1       phrase2 original_phrase1  \\\n",
       "0           0  100652400            man      hard+hat            A man   \n",
       "1           1  100652400            man  caution+vest            A man   \n",
       "2           2  100652400            man        street            A man   \n",
       "3           3  100652400            man   orange+flag            A man   \n",
       "4           4  100652400  blue+hard+hat           man  a blue hard hat   \n",
       "\n",
       "  original_phrase2  ytrue  roi1  roi2  \n",
       "0       a hard hat  False   116    -1  \n",
       "1   a caution vest  False   116    -1  \n",
       "2       the street  False   116    21  \n",
       "3   an orange flag  False   116    -1  \n",
       "4            A man  False    -1   116  "
      ]
     },
     "execution_count": 3,
     "metadata": {},
     "output_type": "execute_result"
    }
   ],
   "source": [
    "val_df.head()"
   ]
  },
  {
   "cell_type": "code",
   "execution_count": 4,
   "metadata": {},
   "outputs": [],
   "source": [
    "def lang_iou(x, y):\n",
    "    x = set(x.split('+'))\n",
    "    y = set(y.split('+'))\n",
    "    inter = x.intersection(y)\n",
    "    union = x.union(y)\n",
    "    iou = len(inter) / len(union)\n",
    "    return iou\n",
    "\n",
    "for df in [val_df, test_df]:\n",
    "    p_ious = []\n",
    "    for _, row in df.iterrows():\n",
    "        p_iou = lang_iou(row.phrase1, row.phrase2)\n",
    "        p_ious.append(p_iou)\n",
    "\n",
    "    df['p_ious'] = np.asarray(p_ious)"
   ]
  },
  {
   "cell_type": "code",
   "execution_count": 16,
   "metadata": {},
   "outputs": [
    {
     "name": "stdout",
     "output_type": "stream",
     "text": [
      "best f1: 61.70 prec: 74.70 rec: 52.56\n"
     ]
    }
   ],
   "source": [
    "# determine threshold on validation set\n",
    "prec, rec, thresh = precision_recall_curve(val_df.ytrue, val_df.p_ious)\n",
    "f1 = 2 * (prec * rec) / (prec + rec)\n",
    "best_idx = np.nanargmax(f1)\n",
    "best_thresh = thresh[best_idx]\n",
    "print('best f1: %.2f prec: %.2f rec: %.2f' % (f1[best_idx] * 100, prec[best_idx] * 100, rec[best_idx] * 100))"
   ]
  },
  {
   "cell_type": "code",
   "execution_count": 15,
   "metadata": {},
   "outputs": [
    {
     "data": {
      "text/plain": [
       "(0.0, 1.0)"
      ]
     },
     "execution_count": 15,
     "metadata": {},
     "output_type": "execute_result"
    },
    {
     "data": {
      "image/png": "[encoded data removed]",
      "text/plain": [
       "<matplotlib.figure.Figure at 0x7f8c5c9f3588>"
      ]
     },
     "metadata": {},
     "output_type": "display_data"
    }
   ],
   "source": [
    "plt.step(rec, prec, color='b', alpha=0.2,\n",
    "         where='post')\n",
    "plt.fill_between(rec, prec, step='post', alpha=0.2,\n",
    "                 color='b')\n",
    "\n",
    "plt.xlabel('Recall')\n",
    "plt.ylabel('Precision')\n",
    "plt.ylim([0.0, 1.05])\n",
    "plt.xlim([0.0, 1.0])"
   ]
  },
  {
   "cell_type": "code",
   "execution_count": 20,
   "metadata": {},
   "outputs": [
    {
     "name": "stdout",
     "output_type": "stream",
     "text": [
      "f1: 61.25 prec: 74.15 rec: 52.18\n"
     ]
    }
   ],
   "source": [
    "# eval test set using pre-computed threshold\n",
    "pred = test_df.p_ious > best_thresh\n",
    "prec = precision_score(test_df.ytrue, pred)\n",
    "rec = recall_score(test_df.ytrue, pred)\n",
    "f1 = f1_score(test_df.ytrue, pred)\n",
    "print('f1: %.2f prec: %.2f rec: %.2f' % (f1 * 100, prec * 100, rec * 100))"
   ]
  },
  {
   "cell_type": "code",
   "execution_count": 21,
   "metadata": {},
   "outputs": [
    {
     "data": {
      "text/plain": [
       "0.1111111111111111"
      ]
     },
     "execution_count": 21,
     "metadata": {},
     "output_type": "execute_result"
    }
   ],
   "source": [
    "best_thresh"
   ]
  },
  {
   "cell_type": "code",
   "execution_count": 22,
   "metadata": {},
   "outputs": [
    {
     "data": {
      "text/plain": [
       "(0.0, 1.0)"
      ]
     },
     "execution_count": 22,
     "metadata": {},
     "output_type": "execute_result"
    },
    {
     "data": {
      "image/png": "[encoded data removed]",
      "text/plain": [
       "<matplotlib.figure.Figure at 0x7f8c5c4886d8>"
      ]
     },
     "metadata": {},
     "output_type": "display_data"
    }
   ],
   "source": [
    "prec, rec, thresh = precision_recall_curve(test_df.ytrue, test_df.p_ious)\n",
    "plt.step(rec, prec, color='b', alpha=0.2,\n",
    "         where='post')\n",
    "plt.fill_between(rec, prec, step='post', alpha=0.2,\n",
    "                 color='b')\n",
    "\n",
    "plt.xlabel('Recall')\n",
    "plt.ylabel('Precision')\n",
    "plt.ylim([0.0, 1.05])\n",
    "plt.xlim([0.0, 1.0])"
   ]
  },
  {
   "cell_type": "code",
   "execution_count": null,
   "metadata": {},
   "outputs": [],
   "source": []
  }
 ],
 "metadata": {
  "kernelspec": {
   "display_name": "Python 3",
   "language": "python",
   "name": "python3"
  },
  "language_info": {
   "codemirror_mode": {
    "name": "ipython",
    "version": 3
   },
   "file_extension": ".py",
   "mimetype": "text/x-python",
   "name": "python",
   "nbconvert_exporter": "python",
   "pygments_lexer": "ipython3",
   "version": "3.6.4"
  }
 },
 "nbformat": 4,
 "nbformat_minor": 2
}
