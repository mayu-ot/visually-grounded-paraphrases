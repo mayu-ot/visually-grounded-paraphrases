{
 "cells": [
  {
   "cell_type": "markdown",
   "metadata": {},
   "source": [
    "Compute average IoU and accuracy of phrase localization methods"
   ]
  },
  {
   "cell_type": "code",
   "execution_count": 1,
   "metadata": {},
   "outputs": [
    {
     "name": "stdout",
     "output_type": "stream",
     "text": [
      "/mnt/fs1/mayu-ot/Experiments/loc_iparaphrasing\n"
     ]
    }
   ],
   "source": [
    "% cd /home/mayu-ot/durga/Experiments/loc_iparaphrasing/"
   ]
  },
  {
   "cell_type": "code",
   "execution_count": 2,
   "metadata": {},
   "outputs": [
    {
     "name": "stderr",
     "output_type": "stream",
     "text": [
      "/home/mayu-ot/miniconda3/envs/py36chainer/lib/python3.6/site-packages/h5py/__init__.py:36: FutureWarning: Conversion of the second argument of issubdtype from `float` to `np.floating` is deprecated. In future, it will be treated as `np.float64 == np.dtype(float).type`.\n",
      "  from ._conv import register_converters as _register_converters\n",
      "/home/mayu-ot/miniconda3/envs/py36chainer/lib/python3.6/site-packages/IPython/html.py:14: ShimWarning: The `IPython.html` package has been deprecated since IPython 4.0. You should import from `notebook` instead. `IPython.html.widgets` has moved to `ipywidgets`.\n",
      "  \"`IPython.html.widgets` has moved to `ipywidgets`.\", ShimWarning)\n"
     ]
    }
   ],
   "source": [
    "import numpy as np\n",
    "import chainer\n",
    "from chainer.iterators import SerialIterator\n",
    "from func.datasets.datasets import BBoxDataset, PLCLCBBoxDataset, DDPNBBoxDataset\n",
    "from func.datasets.converters import cvrt_bbox\n",
    "from chainercv.utils import bbox_iou\n",
    "from IPython.html.widgets import IntProgress\n",
    "from IPython.display import display\n",
    "from nltk.metrics import edit_distance"
   ]
  },
  {
   "cell_type": "code",
   "execution_count": 3,
   "metadata": {},
   "outputs": [],
   "source": [
    "% matplotlib inline\n",
    "import matplotlib.pyplot as plt\n",
    "import seaborn as sns\n",
    "sns.set()"
   ]
  },
  {
   "cell_type": "code",
   "execution_count": 4,
   "metadata": {},
   "outputs": [],
   "source": [
    "def eval_phrase_localization_gtroi():\n",
    "    data = BBoxDataset('val')\n",
    "\n",
    "    ip = IntProgress(min=0, max=len(data))\n",
    "    display(ip)\n",
    "\n",
    "    ious = []\n",
    "\n",
    "    for i in range(len(data)):\n",
    "        batch = [data[i]]\n",
    "        gt_roi = batch[0][1]\n",
    "        im, roi = cvrt_bbox(batch, None, aspect_band=2/3, offset_band=0.4)\n",
    "        iou = bbox_iou(roi, gt_roi[None, :])[0]\n",
    "        ious.append(iou)\n",
    "        ip.value = i\n",
    "    \n",
    "    return np.asarray(ious)\n",
    "\n",
    "# def lget_bbox(df, img_id, phr):\n",
    "#     ymin = df.at[(img_id, phr), 'ymin']\n",
    "#     xmin = df.at[(img_id, phr), 'xmin']\n",
    "#     ymax = df.at[(img_id, phr), 'ymax']\n",
    "#     xmax = df.at[(img_id, phr), 'xmax']\n",
    "#     return np.asarray([[ymin, xmin, ymax, xmax]]).astype('f')\n",
    "\n",
    "def lget_bbox(df, img_id, phr):\n",
    "    rows = df.query('image==%s'%img_id)\n",
    "    dist = list(\n",
    "            map(lambda x: edit_distance(phr.lower(), x), rows.phrase))\n",
    "    row = rows.iloc[np.argmin(dist)]\n",
    "    return np.asarray([[row.ymin, row.xmin, row.ymax, row.xmax]])\n",
    "    \n",
    "def eval_phrase_localization(pl_type='plclc'):\n",
    "    gt_data = BBoxDataset('val')\n",
    "    \n",
    "    if pl_type=='plclc':\n",
    "        pl_data = PLCLCBBoxDataset('val')\n",
    "    elif pl_type=='ddpn':\n",
    "        pl_data = DDPNBBoxDataset('val')\n",
    "    else:\n",
    "        raise RuntimeError\n",
    "    \n",
    "    pred_df = pl_data.df\n",
    "    N = len(gt_data)\n",
    "    ip = IntProgress(min=0, max=N)\n",
    "    display(ip)\n",
    "\n",
    "    ious = []\n",
    "\n",
    "    for i in range(N):\n",
    "        row = gt_data.df.iloc[i]\n",
    "        img_id, phr = row.name\n",
    "        gt_roi = row.values[:4]\n",
    "        \n",
    "        try:\n",
    "            pred_roi = lget_bbox(pred_df, str(img_id), phr)\n",
    "            iou = bbox_iou(gt_roi[None, :], pred_roi)[0]\n",
    "            ious.append(iou)\n",
    "            ip.value = i\n",
    "        except:\n",
    "            print('error')\n",
    "            pass\n",
    "    \n",
    "    return np.asarray(ious)"
   ]
  },
  {
   "cell_type": "code",
   "execution_count": 5,
   "metadata": {},
   "outputs": [
    {
     "data": {
      "application/vnd.jupyter.widget-view+json": {
       "model_id": "5c4a2fa65d854d33b55262485af39f20",
       "version_major": 2,
       "version_minor": 0
      },
      "text/plain": [
       "IntProgress(value=0, max=11745)"
      ]
     },
     "metadata": {},
     "output_type": "display_data"
    },
    {
     "name": "stdout",
     "output_type": "stream",
     "text": [
      "accuracy: 52.53\n",
      "avr. IoU: 0.48\n"
     ]
    },
    {
     "data": {
      "image/png": "[encoded data removed]",
      "text/plain": [
       "<matplotlib.figure.Figure at 0x7f197294fb38>"
      ]
     },
     "metadata": {},
     "output_type": "display_data"
    }
   ],
   "source": [
    "plclc_iou = eval_phrase_localization('plclc')\n",
    "print('accuracy: %.2f' % (100 * np.sum(plclc_iou >= .5) / len(plclc_iou)))\n",
    "print('avr. IoU: %.2f' % (plclc_iou.mean()))\n",
    "plt.close('all')\n",
    "plt.figure(figsize=(5,2))\n",
    "sns.distplot(plclc_iou, kde=False)\n",
    "plt.xlabel('IoU')\n",
    "plt.ylabel('count')\n",
    "plt.title('(a) PLCLC')\n",
    "plt.savefig('figures/cvpr/plclc-IoU.pdf', bbox_inches='tight')"
   ]
  },
  {
   "cell_type": "code",
   "execution_count": 6,
   "metadata": {},
   "outputs": [
    {
     "data": {
      "application/vnd.jupyter.widget-view+json": {
       "model_id": "a2f87b08bdb64546bd844349aadda93a",
       "version_major": 2,
       "version_minor": 0
      },
      "text/plain": [
       "IntProgress(value=0, max=11745)"
      ]
     },
     "metadata": {},
     "output_type": "display_data"
    },
    {
     "name": "stdout",
     "output_type": "stream",
     "text": [
      "accuracy: 80.40\n",
      "avr. IoU: 0.67\n"
     ]
    },
    {
     "data": {
      "image/png": "[encoded data removed]",
      "text/plain": [
       "<matplotlib.figure.Figure at 0x7f1950aadba8>"
      ]
     },
     "metadata": {},
     "output_type": "display_data"
    }
   ],
   "source": [
    "ddpn_iou = eval_phrase_localization('ddpn')\n",
    "print('accuracy: %.2f' % (100 * np.sum(ddpn_iou >= .5) / len(ddpn_iou)))\n",
    "print('avr. IoU: %.2f' % (ddpn_iou.mean()))\n",
    "plt.close('all')\n",
    "plt.figure(figsize=(5,2))\n",
    "sns.distplot(ddpn_iou, kde=False)\n",
    "plt.xlabel('IoU')\n",
    "plt.ylabel('count')\n",
    "plt.title('(b) DDPN')\n",
    "plt.savefig('figures/cvpr/ddpn-IoU.pdf', bbox_inches='tight')"
   ]
  },
  {
   "cell_type": "code",
   "execution_count": 8,
   "metadata": {},
   "outputs": [
    {
     "data": {
      "image/png": "[encoded data removed]",
      "text/plain": [
       "<matplotlib.figure.Figure at 0x7f19504cf438>"
      ]
     },
     "metadata": {},
     "output_type": "display_data"
    }
   ],
   "source": [
    "# sns.set_context(\"poster\")\n",
    "f, (ax1, ax2) = plt.subplots(1, 2, figsize=(6, 3), sharex=True, sharey=True)\n",
    "\n",
    "sns.distplot(plclc_iou, kde=False, ax=ax1, bins=30)\n",
    "ax1.set_title('(a) PLCLC')\n",
    "ax1.set_ylabel('Count')\n",
    "ax1.set_xlabel('IoU')\n",
    "\n",
    "sns.distplot(ddpn_iou, kde=False, ax=ax2, bins=30)\n",
    "ax2.set_title('(b) DDPN')\n",
    "ax2.set_xlabel('IoU')\n",
    "plt.savefig('figures/cvpr/IoU_distribute.pdf', bbox_inches='tight')"
   ]
  },
  {
   "cell_type": "code",
   "execution_count": null,
   "metadata": {},
   "outputs": [],
   "source": []
  }
 ],
 "metadata": {
  "kernelspec": {
   "display_name": "Python 3",
   "language": "python",
   "name": "python3"
  },
  "language_info": {
   "codemirror_mode": {
    "name": "ipython",
    "version": 3
   },
   "file_extension": ".py",
   "mimetype": "text/x-python",
   "name": "python",
   "nbconvert_exporter": "python",
   "pygments_lexer": "ipython3",
   "version": "3.6.4"
  }
 },
 "nbformat": 4,
 "nbformat_minor": 2
}
