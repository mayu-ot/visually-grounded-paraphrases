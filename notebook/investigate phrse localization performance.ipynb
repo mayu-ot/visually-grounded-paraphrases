{
 "cells": [
  {
   "cell_type": "markdown",
   "metadata": {},
   "source": [
    "Compute average IoU and accuracy of jittered bbox and plclc bbox"
   ]
  },
  {
   "cell_type": "code",
   "execution_count": 1,
   "metadata": {},
   "outputs": [
    {
     "name": "stdout",
     "output_type": "stream",
     "text": [
      "/mnt/fs1/mayu-ot/Experiments/loc_iparaphrasing\n"
     ]
    }
   ],
   "source": [
    "% cd /home/mayu-ot/durga/Experiments/loc_iparaphrasing/"
   ]
  },
  {
   "cell_type": "code",
   "execution_count": 2,
   "metadata": {},
   "outputs": [
    {
     "name": "stderr",
     "output_type": "stream",
     "text": [
      "/home/mayu-ot/miniconda3/envs/py36chainer/lib/python3.6/site-packages/h5py/__init__.py:36: FutureWarning: Conversion of the second argument of issubdtype from `float` to `np.floating` is deprecated. In future, it will be treated as `np.float64 == np.dtype(float).type`.\n",
      "  from ._conv import register_converters as _register_converters\n",
      "/home/mayu-ot/miniconda3/envs/py36chainer/lib/python3.6/site-packages/IPython/html.py:14: ShimWarning: The `IPython.html` package has been deprecated since IPython 4.0. You should import from `notebook` instead. `IPython.html.widgets` has moved to `ipywidgets`.\n",
      "  \"`IPython.html.widgets` has moved to `ipywidgets`.\", ShimWarning)\n"
     ]
    }
   ],
   "source": [
    "import numpy as np\n",
    "import chainer\n",
    "from chainer.iterators import SerialIterator\n",
    "from func.datasets.datasets import BBoxDataset, PLCLCBBoxDataset\n",
    "from func.datasets.converters import cvrt_bbox\n",
    "from chainercv.utils import bbox_iou\n",
    "from IPython.html.widgets import IntProgress\n",
    "from IPython.display import display"
   ]
  },
  {
   "cell_type": "code",
   "execution_count": 3,
   "metadata": {},
   "outputs": [],
   "source": [
    "% matplotlib inline\n",
    "import matplotlib.pyplot as plt\n",
    "import seaborn as sns\n",
    "sns.set()"
   ]
  },
  {
   "cell_type": "code",
   "execution_count": 4,
   "metadata": {},
   "outputs": [],
   "source": [
    "gt_data = BBoxDataset('val')\n",
    "plclc_data = PLCLCBBoxDataset('val')"
   ]
  },
  {
   "cell_type": "code",
   "execution_count": 5,
   "metadata": {},
   "outputs": [
    {
     "data": {
      "text/html": [
       "<div>\n",
       "<style scoped>\n",
       "    .dataframe tbody tr th:only-of-type {\n",
       "        vertical-align: middle;\n",
       "    }\n",
       "\n",
       "    .dataframe tbody tr th {\n",
       "        vertical-align: top;\n",
       "    }\n",
       "\n",
       "    .dataframe thead th {\n",
       "        text-align: right;\n",
       "    }\n",
       "</style>\n",
       "<table border=\"1\" class=\"dataframe\">\n",
       "  <thead>\n",
       "    <tr style=\"text-align: right;\">\n",
       "      <th></th>\n",
       "      <th></th>\n",
       "      <th>ymin</th>\n",
       "      <th>xmin</th>\n",
       "      <th>ymax</th>\n",
       "      <th>xmax</th>\n",
       "      <th>n_id</th>\n",
       "    </tr>\n",
       "    <tr>\n",
       "      <th>image</th>\n",
       "      <th>org_phrase</th>\n",
       "      <th></th>\n",
       "      <th></th>\n",
       "      <th></th>\n",
       "      <th></th>\n",
       "      <th></th>\n",
       "    </tr>\n",
       "  </thead>\n",
       "  <tbody>\n",
       "    <tr>\n",
       "      <th rowspan=\"5\" valign=\"top\">301246</th>\n",
       "      <th>A group of men</th>\n",
       "      <td>72</td>\n",
       "      <td>92</td>\n",
       "      <td>257</td>\n",
       "      <td>495</td>\n",
       "      <td>0</td>\n",
       "    </tr>\n",
       "    <tr>\n",
       "      <th>A group of people</th>\n",
       "      <td>72</td>\n",
       "      <td>92</td>\n",
       "      <td>257</td>\n",
       "      <td>495</td>\n",
       "      <td>1</td>\n",
       "    </tr>\n",
       "    <tr>\n",
       "      <th>Dock workers</th>\n",
       "      <td>72</td>\n",
       "      <td>92</td>\n",
       "      <td>257</td>\n",
       "      <td>495</td>\n",
       "      <td>2</td>\n",
       "    </tr>\n",
       "    <tr>\n",
       "      <th>Three men</th>\n",
       "      <td>72</td>\n",
       "      <td>130</td>\n",
       "      <td>257</td>\n",
       "      <td>480</td>\n",
       "      <td>3</td>\n",
       "    </tr>\n",
       "    <tr>\n",
       "      <th>Workers</th>\n",
       "      <td>72</td>\n",
       "      <td>92</td>\n",
       "      <td>257</td>\n",
       "      <td>495</td>\n",
       "      <td>4</td>\n",
       "    </tr>\n",
       "  </tbody>\n",
       "</table>\n",
       "</div>"
      ],
      "text/plain": [
       "                          ymin  xmin  ymax  xmax  n_id\n",
       "image  org_phrase                                     \n",
       "301246 A group of men       72    92   257   495     0\n",
       "       A group of people    72    92   257   495     1\n",
       "       Dock workers         72    92   257   495     2\n",
       "       Three men            72   130   257   480     3\n",
       "       Workers              72    92   257   495     4"
      ]
     },
     "execution_count": 5,
     "metadata": {},
     "output_type": "execute_result"
    }
   ],
   "source": [
    "gt_data.df.head()"
   ]
  },
  {
   "cell_type": "code",
   "execution_count": 6,
   "metadata": {},
   "outputs": [],
   "source": [
    "def eval_phrase_localization_gtroi():\n",
    "    data = BBoxDataset('val')\n",
    "\n",
    "    ip = IntProgress(min=0, max=len(data))\n",
    "    display(ip)\n",
    "\n",
    "    ious = []\n",
    "\n",
    "    for i in range(len(data)):\n",
    "        batch = [data[i]]\n",
    "        gt_roi = batch[0][1]\n",
    "        im, roi = cvrt_bbox(batch, None, aspect_band=2/3, offset_band=0.4)\n",
    "        iou = bbox_iou(roi, gt_roi[None, :])[0]\n",
    "        ious.append(iou)\n",
    "        ip.value = i\n",
    "    \n",
    "    return np.asarray(ious)\n",
    "\n",
    "def lget_bbox(df, img_id, phr):\n",
    "    ymin = df.at[(img_id, phr), 'ymin']\n",
    "    xmin = df.at[(img_id, phr), 'xmin']\n",
    "    ymax = df.at[(img_id, phr), 'ymax']\n",
    "    xmax = df.at[(img_id, phr), 'xmax']\n",
    "    return np.asarray([[ymin, xmin, ymax, xmax]]).astype('f')\n",
    "    \n",
    "def eval_phrase_localization_plclc():\n",
    "    gt_data = BBoxDataset('val')\n",
    "    plclc_data = PLCLCBBoxDataset('val')\n",
    "    \n",
    "    ip = IntProgress(min=0, max=len(plclc_data))\n",
    "    display(ip)\n",
    "\n",
    "    ious = []\n",
    "\n",
    "    for i in range(len(plclc_data)):\n",
    "        batch = [plclc_data[i]]\n",
    "        roi = batch[0][1]\n",
    "        name = plclc_data.df.iloc[i].name\n",
    "        \n",
    "        try:\n",
    "            gt_roi = lget_bbox(gt_data.df, name[0], name[1])\n",
    "            iou = bbox_iou(roi[None, :], gt_roi)[0]\n",
    "            ious.append(iou)\n",
    "            ip.value = i\n",
    "        except:\n",
    "            pass\n",
    "    \n",
    "    return np.asarray(ious)"
   ]
  },
  {
   "cell_type": "code",
   "execution_count": 7,
   "metadata": {},
   "outputs": [
    {
     "data": {
      "application/vnd.jupyter.widget-view+json": {
       "model_id": "c3b2589ff8ff4f94aad46cd84ebe605f",
       "version_major": 2,
       "version_minor": 0
      },
      "text/plain": [
       "IntProgress(value=0, max=11749)"
      ]
     },
     "metadata": {},
     "output_type": "display_data"
    },
    {
     "name": "stdout",
     "output_type": "stream",
     "text": [
      "accuracy: 52.57\n",
      "avr. IoU: 0.48\n"
     ]
    },
    {
     "data": {
      "image/png": "[encoded data removed]",
      "text/plain": [
       "<matplotlib.figure.Figure at 0x7f3b23cf32e8>"
      ]
     },
     "metadata": {},
     "output_type": "display_data"
    }
   ],
   "source": [
    "plclc_iou = eval_phrase_localization_plclc()\n",
    "print('accuracy: %.2f' % (100 * np.sum(plclc_iou >= .5) / len(plclc_iou)))\n",
    "print('avr. IoU: %.2f' % (plclc_iou.mean()))\n",
    "plt.close('all')\n",
    "plt.figure(figsize=(5,2))\n",
    "sns.distplot(plclc_iou, kde=False)\n",
    "plt.xlabel('IoU')\n",
    "plt.ylabel('count')\n",
    "plt.title('(a) PL-CLC')\n",
    "plt.savefig('plclc-IoU.pdf', bbox_inches='tight')"
   ]
  },
  {
   "cell_type": "code",
   "execution_count": 8,
   "metadata": {},
   "outputs": [
    {
     "data": {
      "application/vnd.jupyter.widget-view+json": {
       "model_id": "f4fb419d9d7b4235aac94af869124dfd",
       "version_major": 2,
       "version_minor": 0
      },
      "text/plain": [
       "IntProgress(value=0, max=11745)"
      ]
     },
     "metadata": {},
     "output_type": "display_data"
    },
    {
     "name": "stdout",
     "output_type": "stream",
     "text": [
      "accuracy: 71.20\n",
      "avr. IoU: 0.60\n"
     ]
    },
    {
     "data": {
      "image/png": "[encoded data removed]",
      "text/plain": [
       "<matplotlib.figure.Figure at 0x7f3b3f8e2470>"
      ]
     },
     "metadata": {},
     "output_type": "display_data"
    }
   ],
   "source": [
    "gt_iou = eval_phrase_localization_gtroi()\n",
    "print('accuracy: %.2f' % (100 * np.sum(gt_iou > .5) / len(gt_iou)))\n",
    "print('avr. IoU: %.2f' % (gt_iou.mean()))\n",
    "plt.figure(figsize=(5,2))\n",
    "sns.distplot(gt_iou, kde=False)\n",
    "plt.xlabel('IoU')\n",
    "plt.ylabel('count')\n",
    "plt.title('(b) Synthesized')\n",
    "plt.savefig('jitter-IoU.pdf', bbox_inches='tight')"
   ]
  },
  {
   "cell_type": "code",
   "execution_count": 16,
   "metadata": {},
   "outputs": [
    {
     "data": {
      "image/png": "[encoded data removed]",
      "text/plain": [
       "<matplotlib.figure.Figure at 0x7f3b23dadd30>"
      ]
     },
     "metadata": {},
     "output_type": "display_data"
    }
   ],
   "source": [
    "sns.set_context(\"poster\")\n",
    "f, (ax1, ax2) = plt.subplots(1, 2, figsize=(6, 3), sharex=True, sharey=True)\n",
    "\n",
    "sns.distplot(plclc_iou, kde=False, ax=ax1, bins=30)\n",
    "ax1.set_title('(a) PL-CLC')\n",
    "ax1.set_ylabel('Count')\n",
    "ax1.set_xlabel('IoU')\n",
    "\n",
    "sns.distplot(gt_iou, kde=False, ax=ax2, bins=30)\n",
    "ax2.set_title('(b) Synthesiezed')\n",
    "ax2.set_xlabel('IoU')\n",
    "plt.savefig('figures/aaai/IoU_distribute.pdf', bbox_inches='tight')"
   ]
  },
  {
   "cell_type": "code",
   "execution_count": null,
   "metadata": {},
   "outputs": [],
   "source": []
  }
 ],
 "metadata": {
  "kernelspec": {
   "display_name": "Python 3",
   "language": "python",
   "name": "python3"
  },
  "language_info": {
   "codemirror_mode": {
    "name": "ipython",
    "version": 3
   },
   "file_extension": ".py",
   "mimetype": "text/x-python",
   "name": "python",
   "nbconvert_exporter": "python",
   "pygments_lexer": "ipython3",
   "version": "3.6.4"
  }
 },
 "nbformat": 4,
 "nbformat_minor": 2
}
