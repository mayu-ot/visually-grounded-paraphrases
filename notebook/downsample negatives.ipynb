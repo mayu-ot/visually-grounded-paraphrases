{
 "cells": [
  {
   "cell_type": "markdown",
   "metadata": {},
   "source": [
    "Prototype downsampling process"
   ]
  },
  {
   "cell_type": "code",
   "execution_count": 1,
   "metadata": {},
   "outputs": [
    {
     "name": "stdout",
     "output_type": "stream",
     "text": [
      "/mnt/fs1/mayu-ot/Experiments/loc_iparaphrasing\n"
     ]
    }
   ],
   "source": [
    "% cd /home/mayu-ot/durga/Experiments/loc_iparaphrasing/"
   ]
  },
  {
   "cell_type": "code",
   "execution_count": 2,
   "metadata": {},
   "outputs": [],
   "source": [
    "%matplotlib inline"
   ]
  },
  {
   "cell_type": "code",
   "execution_count": 3,
   "metadata": {},
   "outputs": [],
   "source": [
    "import numpy as np\n",
    "import pandas as pd\n",
    "import random\n",
    "\n",
    "def lang_iou(x, y):\n",
    "    x = set(x.split('+'))\n",
    "    y = set(y.split('+'))\n",
    "    inter = x.intersection(y)\n",
    "    union = x.union(y)\n",
    "    iou = len(inter) / len(union)\n",
    "    return iou\n",
    "        \n",
    "def downsample_easynegatives(df):\n",
    "    p_ious = []\n",
    "    for _, row in df.iterrows():\n",
    "        p_iou = lang_iou(row.phrase1, row.phrase2)\n",
    "        p_ious.append(p_iou)\n",
    "    easy_pos, = np.where(np.logical_and(test_df.ytrue==True, test_df.p_ious==0))\n",
    "    easy_neg, = np.where(np.logical_and(test_df.ytrue==False, test_df.p_ious==0))\n",
    "    \n",
    "    random.sample(easy_neg, len(easy_pos))"
   ]
  },
  {
   "cell_type": "code",
   "execution_count": 4,
   "metadata": {},
   "outputs": [],
   "source": [
    "df = pd.read_csv('data/phrase_pair_train.csv')\n",
    "p_ious = []\n",
    "for _, row in df.iterrows():\n",
    "    p_iou = lang_iou(row.phrase1, row.phrase2)\n",
    "    p_ious.append(p_iou)\n",
    "\n",
    "p_ious = np.asarray(p_ious)\n",
    "easy_pos, = np.where(np.logical_and(df.ytrue==True, p_ious==0))\n",
    "easy_neg, = np.where(np.logical_and(df.ytrue==False, p_ious==0))\n",
    "\n",
    "random.seed(1234)\n",
    "drop_items = random.sample(easy_neg.tolist(), len(easy_neg) - len(easy_pos))"
   ]
  },
  {
   "cell_type": "code",
   "execution_count": 22,
   "metadata": {},
   "outputs": [],
   "source": [
    "df_ = df.drop(drop_items)"
   ]
  },
  {
   "cell_type": "code",
   "execution_count": 29,
   "metadata": {},
   "outputs": [
    {
     "data": {
      "text/plain": [
       "array([[<matplotlib.axes._subplots.AxesSubplot object at 0x7fdf78afd5c0>]],\n",
       "      dtype=object)"
      ]
     },
     "execution_count": 29,
     "metadata": {},
     "output_type": "execute_result"
    },
    {
     "data": {
      "image/png": "[encoded data removed]",
      "text/plain": [
       "<matplotlib.figure.Figure at 0x7fdf78af83c8>"
      ]
     },
     "metadata": {},
     "output_type": "display_data"
    }
   ],
   "source": [
    "df_.hist(column='ytrue')"
   ]
  },
  {
   "cell_type": "code",
   "execution_count": 9,
   "metadata": {},
   "outputs": [],
   "source": [
    "df['p_iou'] = p_ious\n",
    "df.to_csv('data/phrase_pair_train_wt_pious.csv')"
   ]
  },
  {
   "cell_type": "code",
   "execution_count": 10,
   "metadata": {},
   "outputs": [
    {
     "data": {
      "text/html": [
       "<div>\n",
       "<style scoped>\n",
       "    .dataframe tbody tr th:only-of-type {\n",
       "        vertical-align: middle;\n",
       "    }\n",
       "\n",
       "    .dataframe tbody tr th {\n",
       "        vertical-align: top;\n",
       "    }\n",
       "\n",
       "    .dataframe thead th {\n",
       "        text-align: right;\n",
       "    }\n",
       "</style>\n",
       "<table border=\"1\" class=\"dataframe\">\n",
       "  <thead>\n",
       "    <tr style=\"text-align: right;\">\n",
       "      <th></th>\n",
       "      <th>Unnamed: 0</th>\n",
       "      <th>image</th>\n",
       "      <th>phrase1</th>\n",
       "      <th>phrase2</th>\n",
       "      <th>original_phrase1</th>\n",
       "      <th>original_phrase2</th>\n",
       "      <th>ytrue</th>\n",
       "      <th>roi1</th>\n",
       "      <th>roi2</th>\n",
       "      <th>p_iou</th>\n",
       "    </tr>\n",
       "  </thead>\n",
       "  <tbody>\n",
       "    <tr>\n",
       "      <th>0</th>\n",
       "      <td>0</td>\n",
       "      <td>3359636318</td>\n",
       "      <td>two+people</td>\n",
       "      <td>group+people</td>\n",
       "      <td>Two people</td>\n",
       "      <td>A group of people</td>\n",
       "      <td>False</td>\n",
       "      <td>45</td>\n",
       "      <td>45</td>\n",
       "      <td>0.333333</td>\n",
       "    </tr>\n",
       "    <tr>\n",
       "      <th>1</th>\n",
       "      <td>1</td>\n",
       "      <td>3359636318</td>\n",
       "      <td>two+people</td>\n",
       "      <td>stores</td>\n",
       "      <td>Two people</td>\n",
       "      <td>some stores</td>\n",
       "      <td>False</td>\n",
       "      <td>45</td>\n",
       "      <td>41</td>\n",
       "      <td>0.000000</td>\n",
       "    </tr>\n",
       "    <tr>\n",
       "      <th>2</th>\n",
       "      <td>2</td>\n",
       "      <td>3359636318</td>\n",
       "      <td>video+game+shop</td>\n",
       "      <td>group+people</td>\n",
       "      <td>the video game shop</td>\n",
       "      <td>A group of people</td>\n",
       "      <td>False</td>\n",
       "      <td>18</td>\n",
       "      <td>45</td>\n",
       "      <td>0.000000</td>\n",
       "    </tr>\n",
       "    <tr>\n",
       "      <th>3</th>\n",
       "      <td>3</td>\n",
       "      <td>3359636318</td>\n",
       "      <td>video+game+shop</td>\n",
       "      <td>stores</td>\n",
       "      <td>the video game shop</td>\n",
       "      <td>some stores</td>\n",
       "      <td>False</td>\n",
       "      <td>18</td>\n",
       "      <td>41</td>\n",
       "      <td>0.000000</td>\n",
       "    </tr>\n",
       "    <tr>\n",
       "      <th>4</th>\n",
       "      <td>4</td>\n",
       "      <td>3359636318</td>\n",
       "      <td>mobile+phone+store</td>\n",
       "      <td>group+people</td>\n",
       "      <td>the mobile phone store</td>\n",
       "      <td>A group of people</td>\n",
       "      <td>False</td>\n",
       "      <td>41</td>\n",
       "      <td>45</td>\n",
       "      <td>0.000000</td>\n",
       "    </tr>\n",
       "  </tbody>\n",
       "</table>\n",
       "</div>"
      ],
      "text/plain": [
       "   Unnamed: 0       image             phrase1       phrase2  \\\n",
       "0           0  3359636318          two+people  group+people   \n",
       "1           1  3359636318          two+people        stores   \n",
       "2           2  3359636318     video+game+shop  group+people   \n",
       "3           3  3359636318     video+game+shop        stores   \n",
       "4           4  3359636318  mobile+phone+store  group+people   \n",
       "\n",
       "         original_phrase1   original_phrase2  ytrue  roi1  roi2     p_iou  \n",
       "0              Two people  A group of people  False    45    45  0.333333  \n",
       "1              Two people        some stores  False    45    41  0.000000  \n",
       "2     the video game shop  A group of people  False    18    45  0.000000  \n",
       "3     the video game shop        some stores  False    18    41  0.000000  \n",
       "4  the mobile phone store  A group of people  False    41    45  0.000000  "
      ]
     },
     "execution_count": 10,
     "metadata": {},
     "output_type": "execute_result"
    }
   ],
   "source": [
    "df.head()"
   ]
  },
  {
   "cell_type": "code",
   "execution_count": null,
   "metadata": {},
   "outputs": [],
   "source": []
  }
 ],
 "metadata": {
  "kernelspec": {
   "display_name": "Python 3",
   "language": "python",
   "name": "python3"
  },
  "language_info": {
   "codemirror_mode": {
    "name": "ipython",
    "version": 3
   },
   "file_extension": ".py",
   "mimetype": "text/x-python",
   "name": "python",
   "nbconvert_exporter": "python",
   "pygments_lexer": "ipython3",
   "version": "3.6.4"
  }
 },
 "nbformat": 4,
 "nbformat_minor": 2
}
