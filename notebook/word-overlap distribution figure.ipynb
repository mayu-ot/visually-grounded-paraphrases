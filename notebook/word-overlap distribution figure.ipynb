{
 "cells": [
  {
   "cell_type": "markdown",
   "metadata": {},
   "source": [
    "Create a figure of word-overlap distribution"
   ]
  },
  {
   "cell_type": "code",
   "execution_count": 1,
   "metadata": {},
   "outputs": [
    {
     "name": "stdout",
     "output_type": "stream",
     "text": [
      "/mnt/fs1/mayu-ot/Experiments/loc_iparaphrasing\n"
     ]
    }
   ],
   "source": [
    "% cd /home/mayu-ot/durga/Experiments/loc_iparaphrasing/\n",
    "\n",
    "import numpy as np\n",
    "import pandas as pd\n",
    "from sklearn.metrics import f1_score, precision_score, recall_score\n",
    "%matplotlib inline\n",
    "import matplotlib.pyplot as plt\n",
    "import seaborn as sns\n",
    "sns.set()"
   ]
  },
  {
   "cell_type": "code",
   "execution_count": 2,
   "metadata": {},
   "outputs": [],
   "source": [
    "split = 'val'\n",
    "df = pd.read_csv('data/phrase_pair_%s.csv'%split)"
   ]
  },
  {
   "cell_type": "code",
   "execution_count": 3,
   "metadata": {},
   "outputs": [
    {
     "data": {
      "text/html": [
       "<div>\n",
       "<style scoped>\n",
       "    .dataframe tbody tr th:only-of-type {\n",
       "        vertical-align: middle;\n",
       "    }\n",
       "\n",
       "    .dataframe tbody tr th {\n",
       "        vertical-align: top;\n",
       "    }\n",
       "\n",
       "    .dataframe thead th {\n",
       "        text-align: right;\n",
       "    }\n",
       "</style>\n",
       "<table border=\"1\" class=\"dataframe\">\n",
       "  <thead>\n",
       "    <tr style=\"text-align: right;\">\n",
       "      <th></th>\n",
       "      <th>Unnamed: 0</th>\n",
       "      <th>image</th>\n",
       "      <th>phrase1</th>\n",
       "      <th>phrase2</th>\n",
       "      <th>original_phrase1</th>\n",
       "      <th>original_phrase2</th>\n",
       "      <th>ytrue</th>\n",
       "      <th>roi1</th>\n",
       "      <th>roi2</th>\n",
       "    </tr>\n",
       "  </thead>\n",
       "  <tbody>\n",
       "    <tr>\n",
       "      <th>0</th>\n",
       "      <td>0</td>\n",
       "      <td>100652400</td>\n",
       "      <td>man</td>\n",
       "      <td>hard+hat</td>\n",
       "      <td>A man</td>\n",
       "      <td>a hard hat</td>\n",
       "      <td>False</td>\n",
       "      <td>116</td>\n",
       "      <td>-1</td>\n",
       "    </tr>\n",
       "    <tr>\n",
       "      <th>1</th>\n",
       "      <td>1</td>\n",
       "      <td>100652400</td>\n",
       "      <td>man</td>\n",
       "      <td>caution+vest</td>\n",
       "      <td>A man</td>\n",
       "      <td>a caution vest</td>\n",
       "      <td>False</td>\n",
       "      <td>116</td>\n",
       "      <td>-1</td>\n",
       "    </tr>\n",
       "    <tr>\n",
       "      <th>2</th>\n",
       "      <td>2</td>\n",
       "      <td>100652400</td>\n",
       "      <td>man</td>\n",
       "      <td>street</td>\n",
       "      <td>A man</td>\n",
       "      <td>the street</td>\n",
       "      <td>False</td>\n",
       "      <td>116</td>\n",
       "      <td>21</td>\n",
       "    </tr>\n",
       "    <tr>\n",
       "      <th>3</th>\n",
       "      <td>3</td>\n",
       "      <td>100652400</td>\n",
       "      <td>man</td>\n",
       "      <td>orange+flag</td>\n",
       "      <td>A man</td>\n",
       "      <td>an orange flag</td>\n",
       "      <td>False</td>\n",
       "      <td>116</td>\n",
       "      <td>-1</td>\n",
       "    </tr>\n",
       "    <tr>\n",
       "      <th>4</th>\n",
       "      <td>4</td>\n",
       "      <td>100652400</td>\n",
       "      <td>blue+hard+hat</td>\n",
       "      <td>man</td>\n",
       "      <td>a blue hard hat</td>\n",
       "      <td>A man</td>\n",
       "      <td>False</td>\n",
       "      <td>-1</td>\n",
       "      <td>116</td>\n",
       "    </tr>\n",
       "  </tbody>\n",
       "</table>\n",
       "</div>"
      ],
      "text/plain": [
       "   Unnamed: 0      image        phrase1       phrase2 original_phrase1  \\\n",
       "0           0  100652400            man      hard+hat            A man   \n",
       "1           1  100652400            man  caution+vest            A man   \n",
       "2           2  100652400            man        street            A man   \n",
       "3           3  100652400            man   orange+flag            A man   \n",
       "4           4  100652400  blue+hard+hat           man  a blue hard hat   \n",
       "\n",
       "  original_phrase2  ytrue  roi1  roi2  \n",
       "0       a hard hat  False   116    -1  \n",
       "1   a caution vest  False   116    -1  \n",
       "2       the street  False   116    21  \n",
       "3   an orange flag  False   116    -1  \n",
       "4            A man  False    -1   116  "
      ]
     },
     "execution_count": 3,
     "metadata": {},
     "output_type": "execute_result"
    }
   ],
   "source": [
    "df.head()"
   ]
  },
  {
   "cell_type": "code",
   "execution_count": 4,
   "metadata": {},
   "outputs": [],
   "source": [
    "def lang_iou(x, y):\n",
    "    x = set(x.split('+'))\n",
    "    y = set(y.split('+'))\n",
    "    inter = x.intersection(y)\n",
    "    union = x.union(y)\n",
    "    iou = len(inter) / len(union)\n",
    "    return iou\n",
    "\n",
    "p_ious = []\n",
    "for _, row in df.iterrows():\n",
    "    p_iou = lang_iou(row.phrase1, row.phrase2)\n",
    "    p_ious.append(p_iou)\n",
    "\n",
    "df['p_ious'] = np.asarray(p_ious)"
   ]
  },
  {
   "cell_type": "code",
   "execution_count": 5,
   "metadata": {},
   "outputs": [
    {
     "data": {
      "image/png": "[encoded data removed]",
      "text/plain": [
       "<matplotlib.figure.Figure at 0x7fd36086d080>"
      ]
     },
     "metadata": {},
     "output_type": "display_data"
    }
   ],
   "source": [
    "n_vgps = []\n",
    "n_nvgps = []\n",
    "x = np.linspace(0, 1, 7)\n",
    "for i in x:\n",
    "    sub_df = df[(df.p_ious >= i) & (df.p_ious < i + .1)]\n",
    "    c = sum(sub_df.ytrue)\n",
    "    n = len(sub_df)\n",
    "    n_vgps.append(c)\n",
    "    n_nvgps.append(n - c)\n",
    "\n",
    "sns.set_context(\"poster\")\n",
    "plt.close('all')\n",
    "plt.figure(figsize=(6, 4))\n",
    "plt.bar(x, n_nvgps, width = 0.15, color='skyblue', label='non-VGP')\n",
    "plt.bar(x, n_vgps, bottom=n_nvgps, width=0.15, color='coral', label='VGP')\n",
    "plt.gca().set_xlabel('Jaccard similarity')\n",
    "plt.gca().set_ylabel('Count')\n",
    "plt.legend()\n",
    "plt.savefig('figures/aaai/word-overlap_dist_%s.pdf'%split, bbox_inches='tight')"
   ]
  },
  {
   "cell_type": "code",
   "execution_count": 9,
   "metadata": {},
   "outputs": [
    {
     "data": {
      "image/png": "[encoded data removed]",
      "text/plain": [
       "<matplotlib.figure.Figure at 0x7fd35e4cf6a0>"
      ]
     },
     "metadata": {},
     "output_type": "display_data"
    }
   ],
   "source": [
    "sns.set_context(\"paper\", font_scale=1)\n",
    "\n",
    "f, (ax, ax2) = plt.subplots(2, 1, sharex=True)\n",
    "ax.bar(x, n_nvgps, width = 0.15, color='skyblue', label='non-VGP')\n",
    "ax.bar(x, n_vgps, bottom=n_nvgps, width=0.15, color='coral', label='VGP')\n",
    "\n",
    "ax2.bar(x, n_nvgps, width = 0.15, color='skyblue', label='non-VGP')\n",
    "ax2.bar(x, n_vgps, bottom=n_nvgps, width=0.15, color='coral', label='VGP')\n",
    "\n",
    "ax.set_ylim(65000, 75000)  # outliers only\n",
    "ax2.set_ylim(0, 5000)  # most of the data\n",
    "plt.legend()\n",
    "\n",
    "# hide the spines between ax and ax2\n",
    "ax.spines['bottom'].set_visible(False)\n",
    "ax2.spines['top'].set_visible(False)\n",
    "ax.xaxis.tick_top()\n",
    "ax.tick_params(labeltop='off')  # don't put tick labels at the top\n",
    "ax2.xaxis.tick_bottom()\n",
    "\n",
    "ax2.set_xlabel('Jaccard similarity')\n",
    "ax2.set_ylabel('Count')\n",
    "plt.savefig('figures/cvpr/word-overlap_dist_%s.pdf'%split, bbox_inches='tight')"
   ]
  },
  {
   "cell_type": "code",
   "execution_count": 68,
   "metadata": {},
   "outputs": [],
   "source": [
    "def lang_iou_ORG(x, y):\n",
    "    x = set(x.lower().split(' '))\n",
    "    y = set(y.lower().split(' '))\n",
    "    inter = x.intersection(y)\n",
    "    union = x.union(y)\n",
    "    iou = len(inter) / len(union)\n",
    "    return iou\n",
    "\n",
    "p_ious = []\n",
    "for _, row in df.iterrows():\n",
    "    p_iou = lang_iou_ORG(row.original_phrase1, row.original_phrase2)\n",
    "    p_ious.append(p_iou)\n",
    "\n",
    "df['op_ious'] = np.asarray(p_ious)"
   ]
  },
  {
   "cell_type": "code",
   "execution_count": 74,
   "metadata": {},
   "outputs": [
    {
     "data": {
      "image/png": "[encoded data removed]",
      "text/plain": [
       "<matplotlib.figure.Figure at 0x7fc2e543a7b8>"
      ]
     },
     "metadata": {},
     "output_type": "display_data"
    }
   ],
   "source": [
    "n_vgps = []\n",
    "n_nvgps = []\n",
    "x = np.linspace(0, 1, 7)\n",
    "for i in x:\n",
    "    sub_df = df[(df.op_ious >= i) & (df.op_ious < i + .1)]\n",
    "    c = sum(sub_df.ytrue)\n",
    "    n = len(sub_df)\n",
    "    n_vgps.append(c)\n",
    "    n_nvgps.append(n - c)\n",
    "    \n",
    "sns.set_context(\"poster\")\n",
    "plt.close('all')\n",
    "plt.figure(figsize=(6, 5))\n",
    "plt.bar(x, n_nvgps, width = 0.15, label='non-VGP')\n",
    "plt.bar(x, n_vgps, bottom=n_nvgps, width = 0.15, label='VGP')\n",
    "plt.gca().set_xlabel('word overlap')\n",
    "plt.gca().set_ylabel('count')\n",
    "plt.legend()\n",
    "plt.savefig('figures/aaai/word-overlap_dist_ORG.pdf', bbox_inches='tight')"
   ]
  },
  {
   "cell_type": "code",
   "execution_count": null,
   "metadata": {},
   "outputs": [],
   "source": []
  }
 ],
 "metadata": {
  "kernelspec": {
   "display_name": "Python 3",
   "language": "python",
   "name": "python3"
  },
  "language_info": {
   "codemirror_mode": {
    "name": "ipython",
    "version": 3
   },
   "file_extension": ".py",
   "mimetype": "text/x-python",
   "name": "python",
   "nbconvert_exporter": "python",
   "pygments_lexer": "ipython3",
   "version": "3.6.4"
  }
 },
 "nbformat": 4,
 "nbformat_minor": 2
}
