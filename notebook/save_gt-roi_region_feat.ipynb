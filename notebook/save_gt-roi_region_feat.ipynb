{
 "cells": [
  {
   "cell_type": "code",
   "execution_count": 1,
   "metadata": {},
   "outputs": [],
   "source": [
    "import numpy as np\n",
    "import pandas as pd"
   ]
  },
  {
   "cell_type": "code",
   "execution_count": 2,
   "metadata": {},
   "outputs": [
    {
     "name": "stdout",
     "output_type": "stream",
     "text": [
      "/mnt/fs1/mayu-ot/Experiments/loc_iparaphrasing\n"
     ]
    }
   ],
   "source": [
    "% cd /mnt/fs1/mayu-ot/Experiments/loc_iparaphrasing"
   ]
  },
  {
   "cell_type": "code",
   "execution_count": 3,
   "metadata": {},
   "outputs": [],
   "source": [
    "def get_roi_meta(split):\n",
    "    df = pd.read_csv('data/gt-roi/phrase_pair_%s.csv' % split)\n",
    "    roi_meta1 = pd.DataFrame({'image': df['image'], 'roi': df['roi1']})\n",
    "    roi_meta2 = pd.DataFrame({'image': df['image'], 'roi': df['roi2']})\n",
    "    roi_meta = pd.concat([roi_meta1, roi_meta2])\n",
    "    return roi_meta"
   ]
  },
  {
   "cell_type": "code",
   "execution_count": 4,
   "metadata": {},
   "outputs": [],
   "source": [
    "from ipywidgets import IntProgress\n",
    "from IPython.display import display"
   ]
  },
  {
   "cell_type": "code",
   "execution_count": 5,
   "metadata": {},
   "outputs": [
    {
     "name": "stderr",
     "output_type": "stream",
     "text": [
      "/home/mayu-ot/miniconda3/envs/py36chainer/lib/python3.6/site-packages/h5py/__init__.py:36: FutureWarning: Conversion of the second argument of issubdtype from `float` to `np.floating` is deprecated. In future, it will be treated as `np.float64 == np.dtype(float).type`.\n",
      "  from ._conv import register_converters as _register_converters\n"
     ]
    }
   ],
   "source": [
    "import pandas as pd\n",
    "import os\n",
    "import sys\n",
    "sys.path.append('func/nets/')\n",
    "from faster_rcnn import FasterRCNNExtractor\n",
    "from chainercv.datasets import voc_bbox_label_names\n",
    "from chainer import cuda\n",
    "from chainercv import utils\n",
    "import numpy as np\n",
    "import chainer\n",
    "\n",
    "def load_roi(roi):\n",
    "    roi = roi[1:-1]\n",
    "    roi = [int(x) for x in roi.split(', ')]\n",
    "    return roi\n",
    "\n",
    "def extract_roi_feat(split, img_root, device=0):     \n",
    "    \n",
    "    model = FasterRCNNExtractor(n_fg_class=len(voc_bbox_label_names), pretrained_model='voc07')\n",
    "    \n",
    "    if device >= 0:\n",
    "        chainer.cuda.get_device_from_id(device).use()  # Make the GPU current\n",
    "        model.to_gpu()\n",
    "    \n",
    "    roi_meta = get_roi_meta(split)\n",
    "    roi_meta_unique = roi_meta.drop_duplicates()\n",
    "    \n",
    "    data= {}\n",
    "    images = roi_meta_unique.image.unique()\n",
    "    \n",
    "    for im in images:\n",
    "        bbox = roi_meta_unique.query('image == %i' % im)[['roi']].values\n",
    "        data[im] = bbox\n",
    "\n",
    "\n",
    "    N = len(roi_meta_unique)\n",
    "    feat = np.zeros((N, 4096), dtype=np.float32)\n",
    "    print('extract features of %i regions'%N)\n",
    "\n",
    "    j = 0\n",
    "    table_im= []\n",
    "    table_roi = []\n",
    "    \n",
    "    iprog = IntProgress(min=0, max=N)\n",
    "    display(iprog)\n",
    "    \n",
    "    for im in images:\n",
    "        x = utils.read_image(os.path.join(img_root, '%i.jpg'%im), color=True)\n",
    "        bbox = data[im]\n",
    "        table_im += [im] * len(bbox)\n",
    "        table_roi.append(bbox) \n",
    "        \n",
    "        bbox = np.asarray([load_roi(x) for x in bbox.ravel()]).astype(np.float32)\n",
    "        roi_indices = np.zeros((len(bbox),), dtype=np.int32)\n",
    "\n",
    "        # preprocess\n",
    "        p_x = model.prepare(x)\n",
    "        scale = p_x.shape[-1] * 1. / x.shape[-1]\n",
    "        bbox = bbox * scale\n",
    "\n",
    "        # to gpu\n",
    "        p_x = cuda.to_gpu(p_x)\n",
    "        bbox = cuda.to_gpu(bbox)\n",
    "        roi_indices = cuda.to_gpu(roi_indices)\n",
    "        with chainer.using_config('train', False):\n",
    "            y = model.extract(p_x[None, :], bbox, roi_indices)\n",
    "        y.to_cpu()\n",
    "        y_arr = y.data\n",
    "\n",
    "        feat[j:j+len(y_arr)] = y_arr\n",
    "        j += len(y_arr)\n",
    "\n",
    "        iprog.value = j\n",
    "#         print('%12s: %i / %i' % (im, j, N))\n",
    "\n",
    "    np.save('data/region_feat/gt-roi-frcnn/%s'% split, feat)\n",
    "\n",
    "    df = pd.DataFrame({'image': table_im, 'roi': np.vstack(table_roi).ravel()})\n",
    "    df.to_csv('data/region_feat/gt-roi-frcnn/meta_%s.csv' % split)"
   ]
  },
  {
   "cell_type": "code",
   "execution_count": 6,
   "metadata": {},
   "outputs": [
    {
     "name": "stdout",
     "output_type": "stream",
     "text": [
      "extract features of 6047 regions\n"
     ]
    },
    {
     "data": {
      "application/vnd.jupyter.widget-view+json": {
       "model_id": "ad9558dcddcb4d298ebb09c220a89632",
       "version_major": 2,
       "version_minor": 0
      },
      "text/plain": [
       "IntProgress(value=0, max=6047)"
      ]
     },
     "metadata": {},
     "output_type": "display_data"
    },
    {
     "name": "stdout",
     "output_type": "stream",
     "text": [
      "extract features of 5942 regions\n"
     ]
    },
    {
     "data": {
      "application/vnd.jupyter.widget-view+json": {
       "model_id": "c05fc4c7e32c4939a068483104972461",
       "version_major": 2,
       "version_minor": 0
      },
      "text/plain": [
       "IntProgress(value=0, max=5942)"
      ]
     },
     "metadata": {},
     "output_type": "display_data"
    },
    {
     "name": "stdout",
     "output_type": "stream",
     "text": [
      "extract features of 178842 regions\n"
     ]
    },
    {
     "data": {
      "application/vnd.jupyter.widget-view+json": {
       "model_id": "ee6abb2829794e468297f2f90de55f1e",
       "version_major": 2,
       "version_minor": 0
      },
      "text/plain": [
       "IntProgress(value=0, max=178842)"
      ]
     },
     "metadata": {},
     "output_type": "display_data"
    }
   ],
   "source": [
    "extract_roi_feat('val', '../../Dataset/Flickr30kEntities/flickr30k-images/', device=3)\n",
    "extract_roi_feat('test', '../../Dataset/Flickr30kEntities/flickr30k-images/', device=3)\n",
    "extract_roi_feat('train', '../../Dataset/Flickr30kEntities/flickr30k-images/', device=3)"
   ]
  },
  {
   "cell_type": "code",
   "execution_count": null,
   "metadata": {},
   "outputs": [],
   "source": []
  }
 ],
 "metadata": {
  "kernelspec": {
   "display_name": "Python 3",
   "language": "python",
   "name": "python3"
  },
  "language_info": {
   "codemirror_mode": {
    "name": "ipython",
    "version": 3
   },
   "file_extension": ".py",
   "mimetype": "text/x-python",
   "name": "python",
   "nbconvert_exporter": "python",
   "pygments_lexer": "ipython3",
   "version": "3.6.4"
  }
 },
 "nbformat": 4,
 "nbformat_minor": 2
}
