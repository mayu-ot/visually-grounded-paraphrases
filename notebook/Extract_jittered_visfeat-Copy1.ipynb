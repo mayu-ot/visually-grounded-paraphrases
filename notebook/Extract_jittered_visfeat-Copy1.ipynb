{
 "cells": [
  {
   "cell_type": "code",
   "execution_count": 6,
   "metadata": {},
   "outputs": [
    {
     "name": "stdout",
     "output_type": "stream",
     "text": [
      "/mnt/fs1/mayu-ot/Experiments/loc_iparaphrasing\n"
     ]
    }
   ],
   "source": [
    "% cd /home/mayu-ot/durga/Experiments/loc_iparaphrasing/"
   ]
  },
  {
   "cell_type": "code",
   "execution_count": 7,
   "metadata": {},
   "outputs": [],
   "source": [
    "import numpy as np\n",
    "import chainer\n",
    "from chainer.iterators import SerialIterator\n",
    "from func.datasets.datasets import BBoxDataset\n",
    "from func.datasets.converters import cvrt_bbox\n",
    "from chainercv.utils import bbox_iou\n",
    "from IPython.html.widgets import IntProgress\n",
    "from IPython.display import display"
   ]
  },
  {
   "cell_type": "code",
   "execution_count": 10,
   "metadata": {},
   "outputs": [],
   "source": [
    "% matplotlib inline\n",
    "import matplotlib.pyplot as plt"
   ]
  },
  {
   "cell_type": "code",
   "execution_count": 8,
   "metadata": {},
   "outputs": [
    {
     "data": {
      "application/vnd.jupyter.widget-view+json": {
       "model_id": "45f4c282908d42c5aa30554ffa387bde",
       "version_major": 2,
       "version_minor": 0
      },
      "text/plain": [
       "IntProgress(value=0, max=11745)"
      ]
     },
     "metadata": {},
     "output_type": "display_data"
    }
   ],
   "source": [
    "data = BBoxDataset('val')\n",
    "\n",
    "ip = IntProgress(min=0, max=len(data))\n",
    "display(ip)\n",
    "\n",
    "ious = []\n",
    "\n",
    "for i in range(len(data)):\n",
    "    batch = [data[i]]\n",
    "    gt_roi = batch[0][1]\n",
    "    im, roi = cvrt_bbox(batch, None, aspect_band=2/3, offset_band=0.4)\n",
    "    iou = bbox_iou(roi, gt_roi[None, :])[0]\n",
    "    ious.append(iou)\n",
    "    ip.value = i"
   ]
  },
  {
   "cell_type": "code",
   "execution_count": 11,
   "metadata": {},
   "outputs": [
    {
     "name": "stdout",
     "output_type": "stream",
     "text": [
      "0.708982545764155\n"
     ]
    },
    {
     "data": {
      "text/plain": [
       "(array([  6.,  12.,  30.,  74., 128., 162., 244., 268., 343., 401., 413.,\n",
       "        453., 494., 557., 642., 749., 790., 768., 780., 792., 685., 601.,\n",
       "        531., 407., 340., 277., 234., 170., 147., 247.]),\n",
       " array([0.07927207, 0.109963  , 0.14065393, 0.17134486, 0.20203579,\n",
       "        0.23272672, 0.26341766, 0.29410859, 0.32479952, 0.35549045,\n",
       "        0.38618138, 0.41687231, 0.44756324, 0.47825417, 0.5089451 ,\n",
       "        0.53963603, 0.57032697, 0.6010179 , 0.63170883, 0.66239976,\n",
       "        0.69309069, 0.72378162, 0.75447255, 0.78516348, 0.81585441,\n",
       "        0.84654534, 0.87723628, 0.90792721, 0.93861814, 0.96930907,\n",
       "        1.        ]),\n",
       " <a list of 30 Patch objects>)"
      ]
     },
     "execution_count": 11,
     "metadata": {},
     "output_type": "execute_result"
    },
    {
     "data": {
      "image/png": "[encoded data removed]",
      "text/plain": [
       "<matplotlib.figure.Figure at 0x7fb2e5d94748>"
      ]
     },
     "metadata": {},
     "output_type": "display_data"
    }
   ],
   "source": [
    "ious = np.asarray(ious)\n",
    "\n",
    "print(np.sum(ious > .5) / len(ious))\n",
    "\n",
    "plt.hist((ious), bins=30)"
   ]
  },
  {
   "cell_type": "code",
   "execution_count": 12,
   "metadata": {},
   "outputs": [
    {
     "data": {
      "text/plain": [
       "0.5991176"
      ]
     },
     "execution_count": 12,
     "metadata": {},
     "output_type": "execute_result"
    }
   ],
   "source": [
    "ious.mean()"
   ]
  },
  {
   "cell_type": "code",
   "execution_count": 3,
   "metadata": {},
   "outputs": [],
   "source": [
    "def get_agg_roi_df(split):\n",
    "    gtroi_df = pd.read_csv('data/gt_roi_cord_%s.csv' % split)\n",
    "    groups = gtroi_df.groupby(['image', 'org_phrase'])\n",
    "    agg_df = groups.agg({\n",
    "               'ymin': np.min,\n",
    "               'xmin': np.min,\n",
    "               'ymax': np.max,\n",
    "               'xmax': np.max})\n",
    "    return agg_df"
   ]
  },
  {
   "cell_type": "code",
   "execution_count": 4,
   "metadata": {},
   "outputs": [
    {
     "name": "stderr",
     "output_type": "stream",
     "text": [
      "/home/mayu-ot/miniconda3/envs/py36chainer/lib/python3.6/site-packages/IPython/html.py:14: ShimWarning: The `IPython.html` package has been deprecated since IPython 4.0. You should import from `notebook` instead. `IPython.html.widgets` has moved to `ipywidgets`.\n",
      "  \"`IPython.html.widgets` has moved to `ipywidgets`.\", ShimWarning)\n"
     ]
    }
   ],
   "source": [
    "from IPython.html.widgets import IntProgress\n",
    "from IPython.display import display\n",
    "from chainercv.utils import bbox_iou\n",
    "import pandas as pd\n",
    "import imageio\n",
    "from chainer.dataset.convert import to_device\n",
    "\n",
    "class CordDataset(chainer.dataset.DatasetMixin):\n",
    "    def __init__(self, split):\n",
    "        self.df = get_agg_roi_df(split)\n",
    "#         self.df = pd.read_csv('data/gt_roi_cord_%s.csv'%split)\n",
    "    \n",
    "    def __len__(self):\n",
    "        return len(self.df)\n",
    "    \n",
    "    def get_example(self, i):\n",
    "        im_id, _ = self.df.iloc[i].name\n",
    "        im = imageio.imread('data/flickr30k-images/%i.jpg'%im_id)\n",
    "        im = np.asarray(im)\n",
    "        gt_roi = self.df.iloc[i][['ymin', 'xmin', 'ymax', 'xmax']]\n",
    "        gt_roi = np.asarray(gt_roi)\n",
    "        return im, gt_roi\n",
    "    \n",
    "def cvrt_coord(batch, device=None):\n",
    "    im = [b[0].transpose(2, 0, 1).astype('f') for b in batch]\n",
    "    im_shape = np.asarray([x.shape for x in im])\n",
    "    roi = [b[1] for b in batch]\n",
    "    j_rois = jitter_bbox(roi, im_shape)\n",
    "    \n",
    "    if device is not None:\n",
    "        im = [to_device(device, x) for x in im]\n",
    "        j_rois = to_device(device, j_rois)\n",
    "    return im, j_rois"
   ]
  },
  {
   "cell_type": "code",
   "execution_count": 6,
   "metadata": {},
   "outputs": [],
   "source": [
    "from func.datasets.converters import jitter_bbox\n",
    "from func.datasets.datasets import PreCompFeatDataset\n",
    "import sys\n",
    "sys.path.append('script/training/')\n",
    "from train_wt_frcnn import iParaphraseNet, my_converter"
   ]
  },
  {
   "cell_type": "code",
   "execution_count": 6,
   "metadata": {},
   "outputs": [],
   "source": [
    "def save_jitter_frcnn_feat(split):\n",
    "    device = 1\n",
    "    model = iParaphraseNet()\n",
    "    chainer.cuda.get_device_from_id(device).use()\n",
    "    model.to_gpu()\n",
    "\n",
    "    data = CordDataset(split)\n",
    "    data_itr = SerialIterator(data, batch_size=100, repeat=False, shuffle=False)\n",
    "\n",
    "    feat = np.zeros((len(data), 4096)).astype('f')\n",
    "    roi_indices = model.xp.zeros((1,)).astype('i')\n",
    "    b_size = 30\n",
    "\n",
    "    for i in range(len(data)):\n",
    "        batch = [data[i]]\n",
    "        im, roi = cvrt_coord(batch, device)\n",
    "        with chainer.no_backprop_mode(), chainer.using_config('train', False):\n",
    "            im = im[0]\n",
    "            y = model.base_net.extract(im[None, :], roi, roi_indices)\n",
    "\n",
    "        y.to_cpu()\n",
    "        feat[i,:] = y.data[:]\n",
    "\n",
    "    np.save('data/region_feat/jitter_roi-frcnn/%s'%split, feat)"
   ]
  },
  {
   "cell_type": "code",
   "execution_count": 7,
   "metadata": {},
   "outputs": [],
   "source": [
    "save_jitter_frcnn_feat('val')"
   ]
  },
  {
   "cell_type": "code",
   "execution_count": 38,
   "metadata": {},
   "outputs": [
    {
     "data": {
      "application/vnd.jupyter.widget-view+json": {
       "model_id": "94c990d08f7e4b7eab62b42190a2be7f",
       "version_major": 2,
       "version_minor": 0
      },
      "text/plain": [
       "IntProgress(value=0, max=18523)"
      ]
     },
     "metadata": {},
     "output_type": "display_data"
    }
   ],
   "source": [
    "from IPython.html.widgets import IntProgress\n",
    "from IPython.display import display\n",
    "from chainercv.utils import bbox_iou\n",
    "import pandas as pd\n",
    "import imageio\n",
    "\n",
    "class CordDataset(chainer.dataset.DatasetMixin):\n",
    "    def __init__(self, split):\n",
    "        self.df = pd.read_csv('data/gt_roi_cord_%s.csv'%split)\n",
    "    \n",
    "    def __len__(self):\n",
    "        return len(self.df)\n",
    "    \n",
    "    def get_example(self, i):\n",
    "        im_id = self.df.iloc[i].image\n",
    "        im = imageio.imread('data/flickr30k-images/%i.jpg'%im_id)\n",
    "        gt_roi = self.df.iloc[i][['ymin', 'xmin', 'ymax', 'xmax']]\n",
    "        gt_roi = np.asarray(gt_roi)\n",
    "        return im, gt_roi\n",
    "\n",
    "split = 'val'\n",
    "\n",
    "data = CordDataset(split)\n",
    "\n",
    "ip = IntProgress(min=0, max=len(data))\n",
    "display(ip)\n",
    "\n",
    "ious = []\n",
    "for i in range(len(data))[::100]:\n",
    "    im, roi = data[i]\n",
    "    im = im.transpose(2, 0, 1)\n",
    "    roi = roi[None, :]\n",
    "    j_roi = jitter_bbox(roi, np.asarray(im.shape)[None, :], aspect_band=2/3, offset_band=0.4)\n",
    "    ious.append(bbox_iou(roi, j_roi).ravel()[0])\n",
    "    ip.value = i"
   ]
  },
  {
   "cell_type": "code",
   "execution_count": 8,
   "metadata": {},
   "outputs": [],
   "source": [
    "%matplotlib inline\n",
    "import matplotlib.pyplot as plt"
   ]
  },
  {
   "cell_type": "code",
   "execution_count": 39,
   "metadata": {},
   "outputs": [
    {
     "data": {
      "text/plain": [
       "(array([ 2.,  1.,  1.,  3.,  1.,  0.,  0.,  2.,  3.,  8.,  4.,  1.,  3.,\n",
       "         4.,  3.,  3.,  6.,  3.,  6.,  2.,  5.,  6.,  5.,  5.,  5.,  4.,\n",
       "         8.,  2., 12.,  9.,  7.,  5.,  5.,  3.,  6.,  7.,  5.,  6.,  1.,\n",
       "         6.,  5.,  0.,  4.,  2.,  3.,  0.,  0.,  1.,  1.,  2.]),\n",
       " array([0.15207581, 0.16784416, 0.1836125 , 0.19938085, 0.2151492 ,\n",
       "        0.23091755, 0.24668589, 0.26245424, 0.27822259, 0.29399093,\n",
       "        0.30975928, 0.32552763, 0.34129598, 0.35706432, 0.37283267,\n",
       "        0.38860102, 0.40436937, 0.42013771, 0.43590606, 0.45167441,\n",
       "        0.46744276, 0.4832111 , 0.49897945, 0.5147478 , 0.53051614,\n",
       "        0.54628449, 0.56205284, 0.57782119, 0.59358953, 0.60935788,\n",
       "        0.62512623, 0.64089458, 0.65666292, 0.67243127, 0.68819962,\n",
       "        0.70396797, 0.71973631, 0.73550466, 0.75127301, 0.76704136,\n",
       "        0.7828097 , 0.79857805, 0.8143464 , 0.83011474, 0.84588309,\n",
       "        0.86165144, 0.87741979, 0.89318813, 0.90895648, 0.92472483,\n",
       "        0.94049318]),\n",
       " <a list of 50 Patch objects>)"
      ]
     },
     "execution_count": 39,
     "metadata": {},
     "output_type": "execute_result"
    },
    {
     "data": {
      "image/png": "[encoded data removed]",
      "text/plain": [
       "<matplotlib.figure.Figure at 0x7f46828329b0>"
      ]
     },
     "metadata": {},
     "output_type": "display_data"
    }
   ],
   "source": [
    "plt.hist(np.asarray(ious).ravel(), bins=50)"
   ]
  },
  {
   "cell_type": "code",
   "execution_count": 40,
   "metadata": {},
   "outputs": [
    {
     "data": {
      "text/plain": [
       "0.6397849462365591"
      ]
     },
     "execution_count": 40,
     "metadata": {},
     "output_type": "execute_result"
    }
   ],
   "source": [
    "np.sum(np.asarray(ious) > .5) / len(ious)"
   ]
  },
  {
   "cell_type": "code",
   "execution_count": null,
   "metadata": {},
   "outputs": [],
   "source": []
  }
 ],
 "metadata": {
  "kernelspec": {
   "display_name": "Python 3",
   "language": "python",
   "name": "python3"
  },
  "language_info": {
   "codemirror_mode": {
    "name": "ipython",
    "version": 3
   },
   "file_extension": ".py",
   "mimetype": "text/x-python",
   "name": "python",
   "nbconvert_exporter": "python",
   "pygments_lexer": "ipython3",
   "version": "3.6.4"
  }
 },
 "nbformat": 4,
 "nbformat_minor": 2
}
