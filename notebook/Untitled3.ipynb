{
 "cells": [
  {
   "cell_type": "code",
   "execution_count": 1,
   "metadata": {},
   "outputs": [
    {
     "name": "stdout",
     "output_type": "stream",
     "text": [
      "/mnt/fs1/mayu-ot/Experiments/loc_iparaphrasing\n"
     ]
    }
   ],
   "source": [
    "cd ~/durga/Experiments/loc_iparaphrasing/"
   ]
  },
  {
   "cell_type": "code",
   "execution_count": 2,
   "metadata": {},
   "outputs": [
    {
     "name": "stderr",
     "output_type": "stream",
     "text": [
      "/home/mayu-ot/miniconda3/envs/py36chainer/lib/python3.6/site-packages/IPython/html.py:14: ShimWarning: The `IPython.html` package has been deprecated since IPython 4.0. You should import from `notebook` instead. `IPython.html.widgets` has moved to `ipywidgets`.\n",
      "  \"`IPython.html.widgets` has moved to `ipywidgets`.\", ShimWarning)\n"
     ]
    }
   ],
   "source": [
    "import pandas as pd\n",
    "from IPython.html.widgets import IntProgress\n",
    "from IPython.display import display"
   ]
  },
  {
   "cell_type": "code",
   "execution_count": 3,
   "metadata": {},
   "outputs": [],
   "source": [
    "from nltk.metrics import edit_distance\n",
    "import numpy as np\n",
    "import json"
   ]
  },
  {
   "cell_type": "code",
   "execution_count": 4,
   "metadata": {},
   "outputs": [],
   "source": [
    "def cleaning_df(df):\n",
    "    # remove 'on' preposition\n",
    "    replace_dict = {}\n",
    "    for phrase in pd.unique(df.org_phrase):\n",
    "\n",
    "        if phrase in ['on paper', 'in blue']:\n",
    "            continue\n",
    "\n",
    "        words  = phrase.split()\n",
    "        if (words[0] == 'on') or (words[0] == 'in'):\n",
    "            replace_dict[phrase] = ' '.join(words[1:])\n",
    "\n",
    "    df['org_phrase'] = df.org_phrase.map(lambda x: replace_dict.get(x,x))\n",
    "    return df"
   ]
  },
  {
   "cell_type": "code",
   "execution_count": 71,
   "metadata": {},
   "outputs": [
    {
     "name": "stderr",
     "output_type": "stream",
     "text": [
      "/home/mayu-ot/miniconda3/envs/py36chainer/lib/python3.6/site-packages/numpy/lib/arraysetops.py:472: FutureWarning: elementwise comparison failed; returning scalar instead, but in the future will perform elementwise comparison\n",
      "  mask |= (ar1 == a)\n"
     ]
    }
   ],
   "source": [
    "split = 'train'\n",
    "pair_df = pd.read_csv('data/phrase_pair_%s.csv' % split, index_col=0)\n",
    "bbox_df = pd.read_csv('data/pl-clc/localization_%s.csv' % split, index_col=0)\n",
    "# bbox_df = cleaning_df(bbox_df)"
   ]
  },
  {
   "cell_type": "code",
   "execution_count": 72,
   "metadata": {},
   "outputs": [
    {
     "data": {
      "application/vnd.jupyter.widget-view+json": {
       "model_id": "5ad5c3018d6f40acbc16551a5dbb3e35",
       "version_major": 2,
       "version_minor": 0
      },
      "text/plain": [
       "IntProgress(value=0, max=29769)"
      ]
     },
     "metadata": {},
     "output_type": "display_data"
    }
   ],
   "source": [
    "images = pd.unique(pair_df['image'])\n",
    "\n",
    "ip = IntProgress(min=0, max=len(images))\n",
    "display(ip)\n",
    "\n",
    "# not_matched = []\n",
    "# replace_dict = {}\n",
    "replace = {'image':[], 'src_phr': [], 'tar_phr': []}\n",
    "\n",
    "for c, i in enumerate(images):\n",
    "    phrases = pd.unique(pair_df[pair_df.image == i][['original_phrase1', 'original_phrase2']].values.ravel())\n",
    "    sub_bbox = bbox_df[bbox_df.image == i]['org_phrase']\n",
    "    s_phrases = list(set(sub_bbox.values))\n",
    "    for t_phr in phrases:\n",
    "        if t_phr in s_phrases:\n",
    "            continue\n",
    "        else:\n",
    "            dist = [edit_distance(x, t_phr) for x in s_phrases]\n",
    "            s_phr = s_phrases[np.argmin(dist)]\n",
    "            if t_phr == '\" R':\n",
    "                s_phr = '\" \" R'\n",
    "            bbox_df.loc[(bbox_df.image == i) & (bbox_df.org_phrase == s_phr), 'org_phrase'] = t_phr\n",
    "    ip.value = c"
   ]
  },
  {
   "cell_type": "code",
   "execution_count": 74,
   "metadata": {},
   "outputs": [
    {
     "data": {
      "text/plain": [
       "'other large blocks of concrete . An'"
      ]
     },
     "execution_count": 74,
     "metadata": {},
     "output_type": "execute_result"
    }
   ],
   "source": []
  },
  {
   "cell_type": "code",
   "execution_count": 17,
   "metadata": {},
   "outputs": [],
   "source": [
    "replace_dict = {}\n",
    "\n",
    "for img, phr in not_matched:\n",
    "    phrases = bbox_df.loc[bbox_df.image == img, 'org_phrase']\n",
    "    phrases = list(set(phrases.values))\n",
    "    dist = [edit_distance(phr, x) for x in phrases]\n",
    "    t_phr = phrases[np.argmin(dist)]\n",
    "    replace_dict[t_phr] = phr\n",
    "\n",
    "if split == 'train':\n",
    "    replace_dict['\" \" R'] = '\" R' # exception"
   ]
  },
  {
   "cell_type": "code",
   "execution_count": 18,
   "metadata": {},
   "outputs": [
    {
     "data": {
      "text/plain": [
       "{\"the ' thumbs up '\": \"the 'thumbs up '\"}"
      ]
     },
     "execution_count": 18,
     "metadata": {},
     "output_type": "execute_result"
    }
   ],
   "source": [
    "replace_dict"
   ]
  },
  {
   "cell_type": "code",
   "execution_count": 19,
   "metadata": {},
   "outputs": [],
   "source": [
    "json.dump(replace_dict, open('data/pl-clc/replace_dict_%s.json'%split, 'w'))"
   ]
  },
  {
   "cell_type": "code",
   "execution_count": 24,
   "metadata": {},
   "outputs": [
    {
     "name": "stderr",
     "output_type": "stream",
     "text": [
      "/home/mayu-ot/miniconda3/envs/py36chainer/lib/python3.6/site-packages/numpy/lib/arraysetops.py:472: FutureWarning: elementwise comparison failed; returning scalar instead, but in the future will perform elementwise comparison\n",
      "  mask |= (ar1 == a)\n"
     ]
    }
   ],
   "source": [
    "split = 'train'\n",
    "\n",
    "df = pd.read_csv('data/pl-clc/localization_%s.csv' % split, index_col=0)\n",
    "\n",
    "replace_dict = {}\n",
    "for phrase in pd.unique(df.org_phrase):\n",
    "\n",
    "    if phrase in ['on paper', 'in blue']:\n",
    "        continue\n",
    "\n",
    "    words  = phrase.split()\n",
    "    if (words[0] == 'on') or (words[0] == 'in'):\n",
    "        replace_dict[phrase] = ' '.join(words[1:])\n",
    "\n",
    "\n",
    "\n",
    "# pcmp_rep_dict = json.load(open('data/pl-clc/replace_dict_%s.json'%split))\n",
    "# replace_dict.update(pcmp_rep_dict)\n",
    "\n",
    "# df['org_phrase'] = df.org_phrase.map(lambda x: replace_dict.get(x,x))"
   ]
  },
  {
   "cell_type": "code",
   "execution_count": 25,
   "metadata": {},
   "outputs": [
    {
     "data": {
      "text/plain": [
       "{'in indian attire': 'indian attire',\n",
       " 'in indigenous clothing': 'indigenous clothing',\n",
       " 'in individual chairs': 'individual chairs',\n",
       " 'in individual work spaces': 'individual work spaces',\n",
       " 'in inflatable rafts': 'inflatable rafts',\n",
       " 'in inflated boats': 'inflated boats',\n",
       " 'in ink': 'ink',\n",
       " 'in insects': 'insects',\n",
       " 'in interesting attire': 'interesting attire',\n",
       " 'in interesting clothes': 'interesting clothes',\n",
       " 'in interesting wardrobe': 'interesting wardrobe',\n",
       " 'in intricate quilt': 'intricate quilt',\n",
       " 'in yellow': 'yellow',\n",
       " 'in yellow boots': 'yellow boots',\n",
       " 'in yellow overalls': 'yellow overalls',\n",
       " 'on one': 'one',\n",
       " 'on one 3 wheel motorcycle': 'one 3 wheel motorcycle',\n",
       " 'on one arm': 'one arm',\n",
       " 'on one black horse': 'one black horse',\n",
       " 'on one blade': 'one blade',\n",
       " \"on one boy 's head\": \"one boy 's head\",\n",
       " 'on one couch': 'one couch',\n",
       " 'on one end': 'one end',\n",
       " 'on one end of a rope': 'one end of a rope',\n",
       " 'on one feet': 'one feet',\n",
       " 'on one finger': 'one finger',\n",
       " 'on one floor people': 'one floor people',\n",
       " 'on one foot': 'one foot',\n",
       " 'on one girl': 'one girl',\n",
       " 'on one hand': 'one hand',\n",
       " 'on one knee': 'one knee',\n",
       " 'on one leg': 'one leg',\n",
       " 'on one man': 'one man',\n",
       " 'on one miniature train': 'one miniature train',\n",
       " 'on one motorcycle': 'one motorcycle',\n",
       " 'on one of his hands': 'one of his hands',\n",
       " 'on one of his player': 'one of his player',\n",
       " 'on one of his toy bikes': 'one of his toy bikes',\n",
       " 'on one of the bikes': 'one of the bikes',\n",
       " 'on one of the boats': 'one of the boats',\n",
       " 'on one of the doors': 'one of the doors',\n",
       " 'on one of the handlebars': 'one of the handlebars',\n",
       " 'on one of the large cushions': 'one of the large cushions',\n",
       " 'on one of the motorcycles': 'one of the motorcycles',\n",
       " 'on one of the sleeves': 'one of the sleeves',\n",
       " 'on one of their backs': 'one of their backs',\n",
       " 'on one of their construction cars': 'one of their construction cars',\n",
       " 'on one of their friend': 'one of their friend',\n",
       " 'on one of three boats': 'one of three boats',\n",
       " 'on one of two bikes': 'one of two bikes',\n",
       " 'on one of two horses': 'one of two horses',\n",
       " 'on one of two orange chairs': 'one of two orange chairs',\n",
       " 'on one of two red benches': 'one of two red benches',\n",
       " 'on one palm': 'one palm',\n",
       " 'on one parasail': 'one parasail',\n",
       " 'on one parking space': 'one parking space',\n",
       " 'on one racing bike': 'one racing bike',\n",
       " 'on one red motorbike': 'one red motorbike',\n",
       " 'on one seat': 'one seat',\n",
       " 'on one shoulder': 'one shoulder',\n",
       " 'on one side of a small street': 'one side of a small street',\n",
       " 'on one side of a street': 'one side of a street',\n",
       " 'on one side of a window': 'one side of a window',\n",
       " 'on one single bicycle': 'one single bicycle',\n",
       " 'on one ski': 'one ski',\n",
       " 'on one soccer team': 'one soccer team',\n",
       " 'on one swing': 'one swing',\n",
       " 'on one tripod': 'one tripod',\n",
       " 'on one wall': 'one wall',\n",
       " 'on one wheel': 'one wheel',\n",
       " 'on one wheel of a bicycle': 'one wheel of a bicycle',\n",
       " 'on onlookers': 'onlookers',\n",
       " 'on only one wheel': 'only one wheel',\n",
       " 'on only the back wheel': 'only the back wheel',\n",
       " 'on shoes': 'shoes'}"
      ]
     },
     "execution_count": 25,
     "metadata": {},
     "output_type": "execute_result"
    }
   ],
   "source": [
    "replace_dict"
   ]
  },
  {
   "cell_type": "code",
   "execution_count": 26,
   "metadata": {},
   "outputs": [],
   "source": [
    "pcmp_rep_dict = json.load(open('data/pl-clc/replace_dict_%s.json'%split))\n",
    "replace_dict.update(pcmp_rep_dict)\n",
    "\n",
    "# df['org_phrase'] = df.org_phrase.map(lambda x: replace_dict.get(x,x))"
   ]
  },
  {
   "cell_type": "code",
   "execution_count": 27,
   "metadata": {},
   "outputs": [
    {
     "data": {
      "text/plain": [
       "{'\" \" R': '\" R',\n",
       " '\" \" full of bills': '\" full of bills',\n",
       " '\" \" hurdles': '\" hurdles',\n",
       " '\" \" jersey': '\" jersey',\n",
       " '\" C': '\" R',\n",
       " '# 9': '#9',\n",
       " \"' ' a ball\": \"' a ball\",\n",
       " \"' Nursing Idol\": \"'Nursing Idol\",\n",
       " '8 people': '8+ people',\n",
       " 'A . group of diverse people': 'A .group of diverse people',\n",
       " 'A gas station name m & h': 'A gas station name m&h',\n",
       " 'A women `': 'A women`',\n",
       " 'Boy ’s camp drill Sergeant': 'Boy’s camp drill Sergeant',\n",
       " 'C-U-B-S .': 'C-U-B-S.',\n",
       " \"C.D 's\": \"C.D's\",\n",
       " 'CUBS .': 'CUBS.',\n",
       " 'In India people': 'India people',\n",
       " 'ROCKS .': 'ROCKS.',\n",
       " 'Three yellow -': 'Three yellow-',\n",
       " 'a # 51 boat': 'a #51 boat',\n",
       " \"a ' NARVESEN ' sign\": \"a 'NARVESEN' sign\",\n",
       " \"a ' no child\": \"a 'no child\",\n",
       " 'a Lounge & Grill store': 'a Lounge&Grill store',\n",
       " 'a Merry-go - round': 'a Merry-go -round',\n",
       " 'a blue I < 3NY shirt': 'a blue I<3NY shirt',\n",
       " 'a dumpster': 'off dumpster',\n",
       " 'a fishing line': 'fishing poles',\n",
       " \"a little tikes ' playground\": \"a little tikes' playground\",\n",
       " \"an ' evil clown\": \"an 'evil clown\",\n",
       " 'an M&M s T-shirt': 'an M&Ms T-shirt',\n",
       " 'an at & t headphone': 'an at&t headphone',\n",
       " 'as astronauts': 'astronauts',\n",
       " 'at attention': 'attention',\n",
       " 'doorway -': 'doorway-',\n",
       " 'guitar': 'is guitar',\n",
       " 'his face': 'is face',\n",
       " 'i its mouth': 'its mouth',\n",
       " 'in indian attire': 'indian attire',\n",
       " 'in indigenous clothing': 'indigenous clothing',\n",
       " 'in individual chairs': 'individual chairs',\n",
       " 'in individual work spaces': 'individual work spaces',\n",
       " 'in inflatable rafts': 'inflatable rafts',\n",
       " 'in inflated boats': 'inflated boats',\n",
       " 'in ink': 'ink',\n",
       " 'in insects': 'insects',\n",
       " 'in interesting attire': 'interesting attire',\n",
       " 'in interesting clothes': 'interesting clothes',\n",
       " 'in interesting wardrobe': 'interesting wardrobe',\n",
       " 'in intricate quilt': 'intricate quilt',\n",
       " 'in yellow': 'yellow',\n",
       " 'in yellow boots': 'yellow boots',\n",
       " 'in yellow overalls': 'yellow overalls',\n",
       " 'is is birthday cake': 'is birthday cake',\n",
       " 'is is gymnastics': 'is gymnastics',\n",
       " 'jumping jumping apparatus': 'jumping apparatus',\n",
       " 'on one': 'one',\n",
       " 'on one 3 wheel motorcycle': 'one 3 wheel motorcycle',\n",
       " 'on one arm': 'one arm',\n",
       " 'on one black horse': 'one black horse',\n",
       " 'on one blade': 'one blade',\n",
       " \"on one boy 's head\": \"one boy 's head\",\n",
       " 'on one couch': 'one couch',\n",
       " 'on one end': 'one end',\n",
       " 'on one end of a rope': 'one end of a rope',\n",
       " 'on one feet': 'one feet',\n",
       " 'on one finger': 'one finger',\n",
       " 'on one floor people': 'one floor people',\n",
       " 'on one foot': 'one foot',\n",
       " 'on one girl': 'one girl',\n",
       " 'on one hand': 'one hand',\n",
       " 'on one knee': 'one knee',\n",
       " 'on one leg': 'one leg',\n",
       " 'on one man': 'one man',\n",
       " 'on one miniature train': 'one miniature train',\n",
       " 'on one motorcycle': 'one motorcycle',\n",
       " 'on one of his hands': 'one of his hands',\n",
       " 'on one of his player': 'one of his player',\n",
       " 'on one of his toy bikes': 'one of his toy bikes',\n",
       " 'on one of the bikes': 'one of the bikes',\n",
       " 'on one of the boats': 'one of the boats',\n",
       " 'on one of the doors': 'one of the doors',\n",
       " 'on one of the handlebars': 'one of the handlebars',\n",
       " 'on one of the large cushions': 'one of the large cushions',\n",
       " 'on one of the motorcycles': 'one of the motorcycles',\n",
       " 'on one of the sleeves': 'one of the sleeves',\n",
       " 'on one of their backs': 'one of their backs',\n",
       " 'on one of their construction cars': 'one of their construction cars',\n",
       " 'on one of their friend': 'one of their friend',\n",
       " 'on one of three boats': 'one of three boats',\n",
       " 'on one of two bikes': 'one of two bikes',\n",
       " 'on one of two horses': 'one of two horses',\n",
       " 'on one of two orange chairs': 'one of two orange chairs',\n",
       " 'on one of two red benches': 'one of two red benches',\n",
       " 'on one palm': 'one palm',\n",
       " 'on one parasail': 'one parasail',\n",
       " 'on one parking space': 'one parking space',\n",
       " 'on one racing bike': 'one racing bike',\n",
       " 'on one red motorbike': 'one red motorbike',\n",
       " 'on one seat': 'one seat',\n",
       " 'on one shoulder': 'one shoulder',\n",
       " 'on one side of a small street': 'one side of a small street',\n",
       " 'on one side of a street': 'one side of a street',\n",
       " 'on one side of a window': 'one side of a window',\n",
       " 'on one single bicycle': 'one single bicycle',\n",
       " 'on one ski': 'one ski',\n",
       " 'on one soccer team': 'one soccer team',\n",
       " 'on one swing': 'one swing',\n",
       " 'on one tripod': 'one tripod',\n",
       " 'on one wall': 'one wall',\n",
       " 'on one wheel': 'one wheel',\n",
       " 'on one wheel of a bicycle': 'one wheel of a bicycle',\n",
       " 'on onlookers': 'onlookers',\n",
       " 'on only one wheel': 'only one wheel',\n",
       " 'on only the back wheel': 'only the back wheel',\n",
       " 'on shoes': 'shoes',\n",
       " 'one titled \" BERLIN , \" the other \" KATHMANDU . \"': 'one titled \" BERLIN , \" the other \"KATHMANDU.\"',\n",
       " 'other large blocks of concrete . An': 'other large blocks of concrete .An',\n",
       " 'out outdoors': 'outdoors',\n",
       " 'pink pink and yellow decorations': 'pink and yellow decorations',\n",
       " 'right foot -': 'right foot-',\n",
       " 'sash': 'her sash',\n",
       " 'shoes': 'on shoes',\n",
       " 'standing standing front of a earth toned mosaic sign': 'standing front of a earth toned mosaic sign',\n",
       " \"the ' clown '\": \"the 'clown '\",\n",
       " 'the two words : berlin and kathmandu': 'the two words :berlin and kathmandu',\n",
       " 'to toe': 'toe',\n",
       " 'to tools': 'tools',\n",
       " 'to tourists': 'tourists',\n",
       " 'to tow other men': 'tow other men',\n",
       " 'yellow': 'in yellow',\n",
       " 'yellow boots': 'in yellow boots',\n",
       " 'yellow overalls': 'in yellow overalls'}"
      ]
     },
     "execution_count": 27,
     "metadata": {},
     "output_type": "execute_result"
    }
   ],
   "source": [
    "replace_dict"
   ]
  },
  {
   "cell_type": "code",
   "execution_count": null,
   "metadata": {},
   "outputs": [],
   "source": []
  }
 ],
 "metadata": {
  "kernelspec": {
   "display_name": "Python 3",
   "language": "python",
   "name": "python3"
  },
  "language_info": {
   "codemirror_mode": {
    "name": "ipython",
    "version": 3
   },
   "file_extension": ".py",
   "mimetype": "text/x-python",
   "name": "python",
   "nbconvert_exporter": "python",
   "pygments_lexer": "ipython3",
   "version": "3.6.4"
  }
 },
 "nbformat": 4,
 "nbformat_minor": 2
}
