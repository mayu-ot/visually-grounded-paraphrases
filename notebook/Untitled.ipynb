{
 "cells": [
  {
   "cell_type": "code",
   "execution_count": 1,
   "metadata": {},
   "outputs": [
    {
     "name": "stdout",
     "output_type": "stream",
     "text": [
      "/mnt/fs1/mayu-ot/Experiments/loc_iparaphrasing\n"
     ]
    }
   ],
   "source": [
    "% cd /mnt/fs1/mayu-ot/Experiments/loc_iparaphrasing"
   ]
  },
  {
   "cell_type": "code",
   "execution_count": 2,
   "metadata": {},
   "outputs": [
    {
     "name": "stderr",
     "output_type": "stream",
     "text": [
      "/home/mayu-ot/miniconda3/envs/py36chainer/lib/python3.6/site-packages/h5py/__init__.py:36: FutureWarning: Conversion of the second argument of issubdtype from `float` to `np.floating` is deprecated. In future, it will be treated as `np.float64 == np.dtype(float).type`.\n",
      "  from ._conv import register_converters as _register_converters\n"
     ]
    }
   ],
   "source": [
    "import sys\n",
    "sys.path.append('script/training/')\n",
    "\n",
    "from train import EntityDatasetPhraseFeat"
   ]
  },
  {
   "cell_type": "code",
   "execution_count": 3,
   "metadata": {},
   "outputs": [],
   "source": [
    "import pandas as pd\n",
    "import numpy as np"
   ]
  },
  {
   "cell_type": "code",
   "execution_count": 33,
   "metadata": {},
   "outputs": [],
   "source": [
    "class RegionEntityDatasetGT(EntityDatasetPhraseFeat):\n",
    "\n",
    "    def __init__(self, data_file,\n",
    "                 phrase_feature_file,\n",
    "                 unique_phrase_file,\n",
    "                 img_data_file,\n",
    "                 san_check=False,\n",
    "                 preload=False,\n",
    "                 skip=None):\n",
    "        \n",
    "        super(RegionEntityDatasetGT, self).__init__(data_file, phrase_feature_file, unique_phrase_file, san_check, preload=preload)\n",
    "        img_feat_f, img_meta_f = img_data_file\n",
    "        \n",
    "        self.im_feat = np.load(img_feat_f)\n",
    "        self.roi_meta = pd.read_csv(img_meta_f)\n",
    "    \n",
    "    def get_region_feat(self, i):\n",
    "        img = self._image_id[i]\n",
    "        roi1, roi2 = self._roi_label[i]\n",
    "        idx1 = self.roi_meta.query(\"image == %i & roi == '%s'\" % (img, roi1))['Unnamed: 0']\n",
    "        idx2 = self.roi_meta.query(\"image == %i & roi == '%s'\" % (img, roi2))['Unnamed: 0']\n",
    "\n",
    "        f1 = self.im_feat[idx1]\n",
    "        f2 = self.im_feat[idx2]\n",
    "        \n",
    "        return f1, f2\n",
    "        \n",
    "    def get_example(self, i):\n",
    "        # get region features\n",
    "        r1, r2 = self.get_region_feat(i)\n",
    "        \n",
    "        # get phrase feature\n",
    "        x1, x2 = self._get_entity(i)\n",
    "\n",
    "        # get label\n",
    "        y = self._get_label(i)\n",
    "        y = np.asarray(y, dtype=np.int32)\n",
    "        \n",
    "        image = np.vstack([r1, r2])\n",
    "        gt_r1 = 0\n",
    "        gt_r2 = 1\n",
    "        \n",
    "        return image, x1, x2, gt_r1, gt_r2, y"
   ]
  },
  {
   "cell_type": "code",
   "execution_count": 34,
   "metadata": {},
   "outputs": [
    {
     "name": "stdout",
     "output_type": "stream",
     "text": [
      "data/gt-roi/phrase_pair_val.csv\n"
     ]
    }
   ],
   "source": [
    "data = RegionEntityDatasetGT('data/gt-roi/phrase_pair_val.csv',\n",
    "        'data/phrase_feat/wea/val.npy',\n",
    "       'data/phrase_misc/val_uniquePhrases',\n",
    "       ['data/region_feat/gt-roi-frcnn/val.npy', 'data/region_feat/gt-roi-frcnn/meta_val.csv'])"
   ]
  },
  {
   "cell_type": "code",
   "execution_count": 35,
   "metadata": {},
   "outputs": [],
   "source": [
    "item = data.get_example(199)"
   ]
  },
  {
   "cell_type": "code",
   "execution_count": 30,
   "metadata": {},
   "outputs": [],
   "source": [
    "img = data._image_id[0]\n",
    "roi1, roi2 = data._roi_label[0]\n",
    "idx1 = data.roi_meta.query(\"image == %i & roi == '%s'\" % (img, roi1))['Unnamed: 0']\n",
    "idx2 = data.roi_meta.query(\"image == %i & roi == '%s'\" % (img, roi2))['Unnamed: 0']\n",
    "\n",
    "f1 = data.im_feat[idx1]\n",
    "f2 = data.im_feat[idx2]"
   ]
  },
  {
   "cell_type": "code",
   "execution_count": 32,
   "metadata": {},
   "outputs": [
    {
     "data": {
      "text/plain": [
       "(1, 4096)"
      ]
     },
     "execution_count": 32,
     "metadata": {},
     "output_type": "execute_result"
    }
   ],
   "source": [
    "f1.shape"
   ]
  },
  {
   "cell_type": "code",
   "execution_count": 13,
   "metadata": {},
   "outputs": [
    {
     "data": {
      "text/html": [
       "<div>\n",
       "<style scoped>\n",
       "    .dataframe tbody tr th:only-of-type {\n",
       "        vertical-align: middle;\n",
       "    }\n",
       "\n",
       "    .dataframe tbody tr th {\n",
       "        vertical-align: top;\n",
       "    }\n",
       "\n",
       "    .dataframe thead th {\n",
       "        text-align: right;\n",
       "    }\n",
       "</style>\n",
       "<table border=\"1\" class=\"dataframe\">\n",
       "  <thead>\n",
       "    <tr style=\"text-align: right;\">\n",
       "      <th></th>\n",
       "      <th>Unnamed: 0</th>\n",
       "      <th>Unnamed: 0.1</th>\n",
       "      <th>image</th>\n",
       "      <th>cap_id1</th>\n",
       "      <th>cap_id2</th>\n",
       "      <th>phr_id1</th>\n",
       "      <th>phr_id2</th>\n",
       "      <th>category1</th>\n",
       "      <th>category2</th>\n",
       "      <th>phrase1</th>\n",
       "      <th>phrase2</th>\n",
       "      <th>org_phrase1</th>\n",
       "      <th>org_phrase2</th>\n",
       "      <th>ytrue</th>\n",
       "      <th>roi1</th>\n",
       "      <th>roi2</th>\n",
       "    </tr>\n",
       "  </thead>\n",
       "  <tbody>\n",
       "    <tr>\n",
       "      <th>0</th>\n",
       "      <td>0</td>\n",
       "      <td>0</td>\n",
       "      <td>100652400</td>\n",
       "      <td>0</td>\n",
       "      <td>1</td>\n",
       "      <td>197</td>\n",
       "      <td>198</td>\n",
       "      <td>people</td>\n",
       "      <td>clothing</td>\n",
       "      <td>man</td>\n",
       "      <td>hard+hat</td>\n",
       "      <td>A man</td>\n",
       "      <td>a hard hat</td>\n",
       "      <td>False</td>\n",
       "      <td>(45, 53, 203, 110)</td>\n",
       "      <td>(44, 59, 66, 88)</td>\n",
       "    </tr>\n",
       "    <tr>\n",
       "      <th>1</th>\n",
       "      <td>1</td>\n",
       "      <td>1</td>\n",
       "      <td>100652400</td>\n",
       "      <td>0</td>\n",
       "      <td>1</td>\n",
       "      <td>197</td>\n",
       "      <td>199</td>\n",
       "      <td>people</td>\n",
       "      <td>clothing</td>\n",
       "      <td>man</td>\n",
       "      <td>caution+vest</td>\n",
       "      <td>A man</td>\n",
       "      <td>a caution vest</td>\n",
       "      <td>False</td>\n",
       "      <td>(45, 53, 203, 110)</td>\n",
       "      <td>(69, 62, 119, 98)</td>\n",
       "    </tr>\n",
       "    <tr>\n",
       "      <th>2</th>\n",
       "      <td>2</td>\n",
       "      <td>2</td>\n",
       "      <td>100652400</td>\n",
       "      <td>0</td>\n",
       "      <td>1</td>\n",
       "      <td>197</td>\n",
       "      <td>200</td>\n",
       "      <td>people</td>\n",
       "      <td>scene</td>\n",
       "      <td>man</td>\n",
       "      <td>street</td>\n",
       "      <td>A man</td>\n",
       "      <td>the street</td>\n",
       "      <td>False</td>\n",
       "      <td>(45, 53, 203, 110)</td>\n",
       "      <td>(90, 1, 500, 374)</td>\n",
       "    </tr>\n",
       "  </tbody>\n",
       "</table>\n",
       "</div>"
      ],
      "text/plain": [
       "   Unnamed: 0  Unnamed: 0.1      image  cap_id1  cap_id2  phr_id1  phr_id2  \\\n",
       "0           0             0  100652400        0        1      197      198   \n",
       "1           1             1  100652400        0        1      197      199   \n",
       "2           2             2  100652400        0        1      197      200   \n",
       "\n",
       "  category1 category2 phrase1       phrase2 org_phrase1     org_phrase2  \\\n",
       "0    people  clothing     man      hard+hat       A man      a hard hat   \n",
       "1    people  clothing     man  caution+vest       A man  a caution vest   \n",
       "2    people     scene     man        street       A man      the street   \n",
       "\n",
       "   ytrue                roi1               roi2  \n",
       "0  False  (45, 53, 203, 110)   (44, 59, 66, 88)  \n",
       "1  False  (45, 53, 203, 110)  (69, 62, 119, 98)  \n",
       "2  False  (45, 53, 203, 110)  (90, 1, 500, 374)  "
      ]
     },
     "execution_count": 13,
     "metadata": {},
     "output_type": "execute_result"
    }
   ],
   "source": [
    "pd.read_csv('data/gt-roi/phrase_pair_val.csv')[:3]"
   ]
  },
  {
   "cell_type": "code",
   "execution_count": 27,
   "metadata": {},
   "outputs": [],
   "source": [
    "loc = data.roi_meta.query(\"image == %i & roi == '%s'\" % (img, roi1))['Unnamed: 0']"
   ]
  },
  {
   "cell_type": "code",
   "execution_count": 28,
   "metadata": {},
   "outputs": [
    {
     "data": {
      "text/plain": [
       "0    0\n",
       "Name: Unnamed: 0, dtype: int64"
      ]
     },
     "execution_count": 28,
     "metadata": {},
     "output_type": "execute_result"
    }
   ],
   "source": [
    "loc"
   ]
  },
  {
   "cell_type": "code",
   "execution_count": 29,
   "metadata": {},
   "outputs": [
    {
     "data": {
      "text/plain": [
       "array([0])"
      ]
     },
     "execution_count": 29,
     "metadata": {},
     "output_type": "execute_result"
    }
   ],
   "source": [
    "np.arange(9)[loc]"
   ]
  },
  {
   "cell_type": "code",
   "execution_count": null,
   "metadata": {},
   "outputs": [],
   "source": []
  }
 ],
 "metadata": {
  "kernelspec": {
   "display_name": "Python 3",
   "language": "python",
   "name": "python3"
  },
  "language_info": {
   "codemirror_mode": {
    "name": "ipython",
    "version": 3
   },
   "file_extension": ".py",
   "mimetype": "text/x-python",
   "name": "python",
   "nbconvert_exporter": "python",
   "pygments_lexer": "ipython3",
   "version": "3.6.4"
  }
 },
 "nbformat": 4,
 "nbformat_minor": 2
}
