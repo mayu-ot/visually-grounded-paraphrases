{
 "cells": [
  {
   "cell_type": "markdown",
   "metadata": {},
   "source": [
    "Prototype a model with a switching module that can selectively use predicted probability by phrase-only and visual-only model.\n",
    "\n",
    "## idea 2"
   ]
  },
  {
   "cell_type": "code",
   "execution_count": 11,
   "metadata": {},
   "outputs": [],
   "source": [
    "import chainer\n",
    "import chainer.links as L\n",
    "import chainer.functions as F\n",
    "from chainer import initializers\n",
    "\n",
    "class BaseNet(chainer.Chain):\n",
    "    def __init__(self, h_size):\n",
    "        super(BaseNet, self).__init__()\n",
    "        w = initializers.HeNormal()\n",
    "        with self.init_scope():\n",
    "            self.l_0 = L.Linear(None, h_size, initialW=w, nobias=True)\n",
    "            self.l_1 = L.Linear(None, h_size, initialW=w, nobias=True)\n",
    "            self.bn_0 = L.BatchNormalization(h_size)\n",
    "            self.bn_1 = L.BatchNormalization(h_size)\n",
    "            self.cls = L.Linear(None, 1)\n",
    "    \n",
    "    def __call__(self, x0, x1):\n",
    "        h0 = F.relu(self.bn_0(self.l_0(x0)))\n",
    "        h1 = F.relu(self.bn_0(self.l_0(x1)))\n",
    "        \n",
    "        h = F.relu(self.bn_1(self.l_1(h0) + self.l_1(h1)))\n",
    "        h = self.cls(h)\n",
    "        return h\n",
    "\n",
    "class GateNet(chainer.Chain):\n",
    "    def __init__(self, h_size):\n",
    "        super(GateNet, self).__init__()\n",
    "        w = initializers.HeNormal()\n",
    "        with self.init_scope():\n",
    "            self.l_l0 = L.Linear(None, h_size, initialW=w, nobias=True)\n",
    "            self.l_l1= L.Linear(h_size, h_size, initialW=w, nobias=True)\n",
    "            self.l_v0 = L.Linear(None, h_size, initialW=w, nobias=True)\n",
    "            self.l_v1= L.Linear(h_size, h_size, initialW=w, nobias=True)\n",
    "            self.l= L.Linear(h_size, 1, initialW=w)\n",
    "            \n",
    "            self.bn_l = L.BatchNormalization(h_size)\n",
    "            self.bn_v = L.BatchNormalization(h_size)\n",
    "            self.bn_vl = L.BatchNormalization(h_size)\n",
    "    \n",
    "    def __call__(self, x_p1, x_p2, x_i1, x_i2):\n",
    "        hl = F.relu(self.bn_l(self.l_l0(x_p1)+self.l_l0(x_p2)))\n",
    "        hv = F.relu(self.bn_v(self.l_v0(x_i1)+self.l_v0(x_i2)))\n",
    "        h = F.relu(self.bn_vl(self.l_l1(hl) + self.l_v1(hv)))\n",
    "        w = F.sigmoid(self.l(h))\n",
    "        return w\n",
    "        \n",
    "            \n",
    "class LateSwitching_iParaphraseNet(chainer.Chain):\n",
    "    def __init__(self):\n",
    "        super(LateSwitching_iParaphraseNet, self).__init__()\n",
    "        with self.init_scope():\n",
    "            self.language_net = BaseNet(1000)\n",
    "            self.vision_net = BaseNet(1000)\n",
    "            self.gate_net = GateNet(128)\n",
    "            \n",
    "    def __call__(self, phr_1, phr_2, vis_1, vis_2, l):\n",
    "        y_l = self.language_net(phr_1, phr_2)\n",
    "        y_v = self.vision_net(vis_1, vis_2)\n",
    "        \n",
    "        w = self.gate_net(phr_1, phr_2, vis_1, vis_2)\n",
    "        y = w * y_l + (1-w)*y_v\n",
    "        y = F.flatten(y)\n",
    "\n",
    "        if chainer.config.train == False:\n",
    "            self.y = F.sigmoid(y)\n",
    "            self.t = l\n",
    "\n",
    "        loss = F.sigmoid_cross_entropy(y, l)\n",
    "\n",
    "#         precision, recall, fbeta = binary_classification_summary(y, l)\n",
    "#         reporter.report({\n",
    "#             'loss': loss,\n",
    "#             'precision': precision,\n",
    "#             'recall': recall,\n",
    "#             'f1': fbeta\n",
    "#         }, self)\n",
    "\n",
    "        return loss\n"
   ]
  },
  {
   "cell_type": "code",
   "execution_count": 12,
   "metadata": {},
   "outputs": [],
   "source": [
    "model = LateSwitching_iParaphraseNet()"
   ]
  },
  {
   "cell_type": "code",
   "execution_count": 13,
   "metadata": {},
   "outputs": [],
   "source": [
    "import numpy as np\n",
    "\n",
    "x_p1 = np.random.random((10, 300)).astype('f')\n",
    "x_p2 = np.random.random((10, 300)).astype('f')\n",
    "\n",
    "x_v1 = np.random.random((10, 1000)).astype('f')\n",
    "x_v2 = np.random.random((10, 1000)).astype('f')\n",
    "\n",
    "l = (np.random.random((10,)) > .5).astype('i')"
   ]
  },
  {
   "cell_type": "code",
   "execution_count": 14,
   "metadata": {},
   "outputs": [
    {
     "data": {
      "text/plain": [
       "variable(0.68231475)"
      ]
     },
     "execution_count": 14,
     "metadata": {},
     "output_type": "execute_result"
    }
   ],
   "source": [
    "model(x_p1, x_p2, x_v1, x_v2, l)"
   ]
  },
  {
   "cell_type": "code",
   "execution_count": null,
   "metadata": {},
   "outputs": [],
   "source": []
  }
 ],
 "metadata": {
  "kernelspec": {
   "display_name": "Python 3",
   "language": "python",
   "name": "python3"
  },
  "language_info": {
   "codemirror_mode": {
    "name": "ipython",
    "version": 3
   },
   "file_extension": ".py",
   "mimetype": "text/x-python",
   "name": "python",
   "nbconvert_exporter": "python",
   "pygments_lexer": "ipython3",
   "version": "3.6.4"
  }
 },
 "nbformat": 4,
 "nbformat_minor": 2
}
