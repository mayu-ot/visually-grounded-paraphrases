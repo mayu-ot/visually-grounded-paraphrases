{
 "cells": [
  {
   "cell_type": "code",
   "execution_count": 1,
   "metadata": {},
   "outputs": [
    {
     "name": "stderr",
     "output_type": "stream",
     "text": [
      "/home/mayu-ot/miniconda3/envs/py36chainer/lib/python3.6/site-packages/h5py/__init__.py:36: FutureWarning: Conversion of the second argument of issubdtype from `float` to `np.floating` is deprecated. In future, it will be treated as `np.float64 == np.dtype(float).type`.\n",
      "  from ._conv import register_converters as _register_converters\n"
     ]
    }
   ],
   "source": [
    "import numpy as np\n",
    "import chainer\n",
    "import chainer.links as L\n",
    "import chainer.functions as F"
   ]
  },
  {
   "cell_type": "code",
   "execution_count": 2,
   "metadata": {},
   "outputs": [],
   "source": [
    "from gensim.corpora import Dictionary\n",
    "from gensim.parsing.preprocessing import strip_punctuation"
   ]
  },
  {
   "cell_type": "markdown",
   "metadata": {},
   "source": [
    "データ"
   ]
  },
  {
   "cell_type": "code",
   "execution_count": 3,
   "metadata": {},
   "outputs": [],
   "source": [
    "dialogue = [\n",
    "\"Hi guys.\",\n",
    "\"Hey!\",\n",
    "\"Did you get my mail.\",\n",
    "\"Yeah, right here. How was Nebraska?\",\n",
    "\"Oh, better than North Dakota! (Pause) I guess that joke’s only funny in Nebraska.\",\n",
    "]"
   ]
  },
  {
   "cell_type": "markdown",
   "metadata": {},
   "source": [
    "前処理（ここはいろいろ頑張る方法があるところ）"
   ]
  },
  {
   "cell_type": "code",
   "execution_count": 4,
   "metadata": {},
   "outputs": [
    {
     "data": {
      "text/plain": [
       "[['hi', 'guys'],\n",
       " ['hey'],\n",
       " ['did', 'you', 'get', 'my', 'mail'],\n",
       " ['yeah', 'right', 'here', 'how', 'was', 'nebraska'],\n",
       " ['oh',\n",
       "  'better',\n",
       "  'than',\n",
       "  'north',\n",
       "  'dakota',\n",
       "  'pause',\n",
       "  'i',\n",
       "  'guess',\n",
       "  'that',\n",
       "  'joke’s',\n",
       "  'only',\n",
       "  'funny',\n",
       "  'in',\n",
       "  'nebraska']]"
      ]
     },
     "execution_count": 4,
     "metadata": {},
     "output_type": "execute_result"
    }
   ],
   "source": [
    "doc = [strip_punctuation(d).lower().split() for d in dialogue]\n",
    "doc"
   ]
  },
  {
   "cell_type": "code",
   "execution_count": 5,
   "metadata": {},
   "outputs": [],
   "source": [
    "dictionary = Dictionary(doc)"
   ]
  },
  {
   "cell_type": "code",
   "execution_count": 6,
   "metadata": {},
   "outputs": [
    {
     "data": {
      "text/plain": [
       "[array([0, 1], dtype=int32),\n",
       " array([2], dtype=int32),\n",
       " array([3, 4, 5, 6, 7], dtype=int32),\n",
       " array([ 8,  9, 10, 11, 12, 13], dtype=int32),\n",
       " array([14, 15, 16, 17, 18, 19, 20, 21, 22, 23, 24, 25, 26, 13],\n",
       "       dtype=int32)]"
      ]
     },
     "execution_count": 6,
     "metadata": {},
     "output_type": "execute_result"
    }
   ],
   "source": [
    "batch = [list(map(dictionary.token2id.get, d)) for d in doc]\n",
    "batch = [np.asarray(x).astype('i') for x in batch]\n",
    "batch"
   ]
  },
  {
   "cell_type": "code",
   "execution_count": 7,
   "metadata": {},
   "outputs": [],
   "source": [
    "emb = L.EmbedID(len(dictionary), 100)\n",
    "lstm_0 = L.NStepLSTM(1, 100, 100, 0.0)\n",
    "lstm_1 = L.NStepLSTM(1, 100, 100, 0.0)"
   ]
  },
  {
   "cell_type": "code",
   "execution_count": 8,
   "metadata": {},
   "outputs": [
    {
     "data": {
      "text/plain": [
       "[(2, 100), (1, 100), (5, 100), (6, 100), (14, 100)]"
      ]
     },
     "execution_count": 8,
     "metadata": {},
     "output_type": "execute_result"
    }
   ],
   "source": [
    "word_embs = [emb(x) for x in batch]\n",
    "[w.shape for w in word_embs]"
   ]
  },
  {
   "cell_type": "code",
   "execution_count": 9,
   "metadata": {},
   "outputs": [],
   "source": [
    "h_0, c_0, y_0 = lstm_0(None, None, word_embs)\n",
    "h_0 = h_0[0]"
   ]
  },
  {
   "cell_type": "code",
   "execution_count": 10,
   "metadata": {},
   "outputs": [],
   "source": [
    "h_1, c_1, y_1 = lstm_1(None, None, [h_0])\n",
    "y_1 = y_1[0]"
   ]
  },
  {
   "cell_type": "code",
   "execution_count": 11,
   "metadata": {},
   "outputs": [
    {
     "data": {
      "text/plain": [
       "(5, 100)"
      ]
     },
     "execution_count": 11,
     "metadata": {},
     "output_type": "execute_result"
    }
   ],
   "source": [
    "y_1.shape"
   ]
  }
 ],
 "metadata": {
  "kernelspec": {
   "display_name": "Python 3",
   "language": "python",
   "name": "python3"
  },
  "language_info": {
   "codemirror_mode": {
    "name": "ipython",
    "version": 3
   },
   "file_extension": ".py",
   "mimetype": "text/x-python",
   "name": "python",
   "nbconvert_exporter": "python",
   "pygments_lexer": "ipython3",
   "version": "3.6.4"
  }
 },
 "nbformat": 4,
 "nbformat_minor": 2
}
