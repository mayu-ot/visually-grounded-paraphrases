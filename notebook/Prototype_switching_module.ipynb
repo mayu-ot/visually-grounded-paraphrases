{
 "cells": [
  {
   "cell_type": "markdown",
   "metadata": {},
   "source": [
    "Prototype a model with a switching module that can selectively incorporate visual clues based on the language clues (and image?).\n",
    "\n",
    "## idea 1\n",
    "Gate-like architecture\n",
    "\n",
    "c = sigma(g_f(x_lng) * (x_lng) + g_i(x_lng) * (x_vis))\n",
    "p = sigmoid(Wc)"
   ]
  },
  {
   "cell_type": "code",
   "execution_count": 24,
   "metadata": {},
   "outputs": [],
   "source": [
    "import chainer\n",
    "import chainer.links as L\n",
    "import chainer.functions as F\n",
    "from chainer import initializers\n",
    "\n",
    "class BaseNet(chainer.Chain):\n",
    "    def __init__(self, out_size):\n",
    "        super(BaseNet, self).__init__()\n",
    "        w = initializers.HeNormal()\n",
    "        with self.init_scope():\n",
    "            self.l_0 = L.Linear(None, out_size, initialW=w, nobias=True)\n",
    "            self.l_1 = L.Linear(None, out_size, initialW=w, nobias=True)\n",
    "            self.bn_0 = L.BatchNormalization(out_size)\n",
    "            self.bn_1 = L.BatchNormalization(out_size)\n",
    "    \n",
    "    def __call__(self, x0, x1):\n",
    "        h = F.relu(self.bn_0(self.l_0(x0) + self.l_0(x1)))\n",
    "        h = F.tanh(self.bn_1(self.l_1(h)))\n",
    "        return h\n",
    "\n",
    "class GatedClassifierNet(chainer.Chain):\n",
    "    def __init__(self):\n",
    "        super(GatedClassifierNet, self).__init__()\n",
    "        with self.init_scope():\n",
    "            self.l_1 = L.Linear(None, 128, initialW=initializers.HeNormal(), nobias=True)\n",
    "            self.bn_1 = L.BatchNormalization(128)\n",
    "            \n",
    "            self.cls = L.Linear(None, 1, initialW=initializers.LeCunNormal())\n",
    "            \n",
    "            self.l_forget = L.Linear(None, 128, nobias=True)\n",
    "            self.l_input = L.Linear(None, 128, nobias=True)\n",
    "\n",
    "    def __call__(self, x_p, x_v, l):\n",
    "        # gates\n",
    "        i = F.sigmoid(self.l_input(x_p))\n",
    "        f = F.sigmoid(self.l_forget(x_p))\n",
    "        \n",
    "        h = f * x_p + i * x_v\n",
    "        \n",
    "        h = F.relu(self.bn_1(self.l_1(h)))\n",
    "        h = self.cls(h)\n",
    "        h = F.flatten(h)\n",
    "\n",
    "        if chainer.config.train == False:\n",
    "            self.y = F.sigmoid(h)\n",
    "            self.t = l\n",
    "\n",
    "        loss = F.sigmoid_cross_entropy(h, l)\n",
    "\n",
    "        precision, recall, fbeta = binary_classification_summary(h, L)\n",
    "        reporter.report({\n",
    "            'loss': loss,\n",
    "            'precision': precision,\n",
    "            'recall': recall,\n",
    "            'f1': fbeta\n",
    "        }, self)\n",
    "\n",
    "        return loss\n",
    "\n",
    "class Switching_iParaphraseNet(chainer.Chain):\n",
    "    def __init__(self):\n",
    "        super(Switching_iParaphraseNet, self).__init__()\n",
    "        with self.init_scope():\n",
    "            self.phrase_net = BaseNet(128)\n",
    "            self.vision_net = BaseNet(128)\n",
    "            \n",
    "            self.classifier = GatedClassifierNet()\n",
    "\n",
    "    def predict(self, phr_1, phr_2, xvis_1, xvis_2, l):\n",
    "        _ = self(phr_1, phr_2, xvis_1, xvis_2, l)\n",
    "        y = self.classifier.y\n",
    "        return y\n",
    "\n",
    "    def __call__(self, phr_1, phr_2, vis_1, vis_2, l):\n",
    "        h_p = self.phrase_net(phr_1, phr_2)\n",
    "        h_v = self.vision_net(vis_1, vis_2)\n",
    "        \n",
    "        loss = self.classifier(h_p, h_v, l)\n",
    "        \n",
    "        return loss\n",
    "    \n"
   ]
  },
  {
   "cell_type": "code",
   "execution_count": 25,
   "metadata": {},
   "outputs": [],
   "source": [
    "model = Switching_iParaphraseNet()"
   ]
  },
  {
   "cell_type": "code",
   "execution_count": 26,
   "metadata": {},
   "outputs": [],
   "source": [
    "import numpy as np\n",
    "\n",
    "x_p1 = np.random.random((10, 300)).astype('f')\n",
    "x_p2 = np.random.random((10, 300)).astype('f')\n",
    "\n",
    "x_v1 = np.random.random((10, 1000)).astype('f')\n",
    "x_v2 = np.random.random((10, 1000)).astype('f')\n",
    "\n",
    "l = (np.random.random((10,)) > .5).astype('i')"
   ]
  },
  {
   "cell_type": "code",
   "execution_count": 27,
   "metadata": {},
   "outputs": [
    {
     "data": {
      "text/plain": [
       "variable(0.76262265)"
      ]
     },
     "execution_count": 27,
     "metadata": {},
     "output_type": "execute_result"
    }
   ],
   "source": [
    "model(x_p1, x_p2, x_v1, x_v2, l)"
   ]
  },
  {
   "cell_type": "code",
   "execution_count": null,
   "metadata": {},
   "outputs": [],
   "source": []
  }
 ],
 "metadata": {
  "kernelspec": {
   "display_name": "Python 3",
   "language": "python",
   "name": "python3"
  },
  "language_info": {
   "codemirror_mode": {
    "name": "ipython",
    "version": 3
   },
   "file_extension": ".py",
   "mimetype": "text/x-python",
   "name": "python",
   "nbconvert_exporter": "python",
   "pygments_lexer": "ipython3",
   "version": "3.6.4"
  }
 },
 "nbformat": 4,
 "nbformat_minor": 2
}
