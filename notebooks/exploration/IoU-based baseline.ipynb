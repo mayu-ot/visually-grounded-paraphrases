{
 "cells": [
  {
   "cell_type": "code",
   "execution_count": 1,
   "metadata": {},
   "outputs": [
    {
     "name": "stdout",
     "output_type": "stream",
     "text": [
      "/data/mayu-ot/Experiments/neurocomp_vgp\n"
     ]
    }
   ],
   "source": [
    "%cd /data/mayu-ot/Experiments/neurocomp_vgp/"
   ]
  },
  {
   "cell_type": "code",
   "execution_count": 2,
   "metadata": {},
   "outputs": [],
   "source": [
    "%matplotlib inline\n",
    "import matplotlib.pyplot as plt\n",
    "import seaborn as sns\n",
    "sns.set()\n",
    "from sklearn.metrics import f1_score, precision_score, recall_score\n",
    "import pandas as pd\n",
    "from sklearn.linear_model import LogisticRegression\n",
    "from chainercv.utils import bbox_iou\n",
    "import numpy as np\n",
    "from chainercv.visualizations import vis_bbox"
   ]
  },
  {
   "cell_type": "code",
   "execution_count": 4,
   "metadata": {},
   "outputs": [],
   "source": [
    "def bbox_iou(bbox_a, bbox_b):\n",
    "    tl = np.maximum(bbox_a[:, :2], bbox_b[:, :2])\n",
    "    br = np.minimum(bbox_a[:, 2:], bbox_b[:, 2:])\n",
    "\n",
    "    area_i = np.prod(br - tl, axis=1) * (tl < br).all(axis=1)\n",
    "    area_a = np.prod(bbox_a[:, 2:] - bbox_a[:, :2], axis=1)\n",
    "    area_b = np.prod(bbox_b[:, 2:] - bbox_b[:, :2], axis=1)\n",
    "\n",
    "    iou = area_i / (area_a + area_b - area_i)\n",
    "    return iou"
   ]
  },
  {
   "cell_type": "code",
   "execution_count": 3,
   "metadata": {},
   "outputs": [],
   "source": [
    "train_df = pd.read_csv('data/raw/train.csv')"
   ]
  },
  {
   "cell_type": "code",
   "execution_count": 5,
   "metadata": {},
   "outputs": [],
   "source": [
    "bbox_a = train_df[['ddpn_ymin_1', 'ddpn_xmin_1', 'ddpn_ymax_1', 'ddpn_xmax_1']].values\n",
    "bbox_b = train_df[['ddpn_ymin_2', 'ddpn_xmin_2', 'ddpn_ymax_2', 'ddpn_xmax_2']].values"
   ]
  },
  {
   "cell_type": "code",
   "execution_count": 7,
   "metadata": {},
   "outputs": [
    {
     "data": {
      "text/plain": [
       "(array([864802., 315298., 228437., 166221., 127186.,  99463.,  80976.,\n",
       "         72968.,  71841.,  41492.]),\n",
       " array([0. , 0.1, 0.2, 0.3, 0.4, 0.5, 0.6, 0.7, 0.8, 0.9, 1. ]),\n",
       " <a list of 10 Patch objects>)"
      ]
     },
     "execution_count": 7,
     "metadata": {},
     "output_type": "execute_result"
    },
    {
     "data": {
      "image/png": "[encoded data removed]",
      "text/plain": [
       "<Figure size 720x360 with 2 Axes>"
      ]
     },
     "metadata": {
      "needs_background": "light"
     },
     "output_type": "display_data"
    }
   ],
   "source": [
    "iou = bbox_iou(bbox_a, bbox_b)\n",
    "f, axes = plt.subplots(1, 2, figsize=(10, 5))\n",
    "axes[0].hist(iou[train_df.ytrue.values == True])\n",
    "axes[1].hist(iou[train_df.ytrue.values == False])"
   ]
  },
  {
   "cell_type": "code",
   "execution_count": 8,
   "metadata": {},
   "outputs": [
    {
     "name": "stderr",
     "output_type": "stream",
     "text": [
      "/data/mayu-ot/miniconda3/envs/neurocomp_vgp/lib/python3.7/site-packages/sklearn/linear_model/logistic.py:432: FutureWarning: Default solver will be changed to 'lbfgs' in 0.22. Specify a solver to silence this warning.\n",
      "  FutureWarning)\n"
     ]
    },
    {
     "data": {
      "text/plain": [
       "LogisticRegression(C=1.0, class_weight=None, dual=False, fit_intercept=True,\n",
       "                   intercept_scaling=1, l1_ratio=None, max_iter=100,\n",
       "                   multi_class='warn', n_jobs=None, penalty='l2',\n",
       "                   random_state=None, solver='warn', tol=0.0001, verbose=0,\n",
       "                   warm_start=False)"
      ]
     },
     "execution_count": 8,
     "metadata": {},
     "output_type": "execute_result"
    }
   ],
   "source": [
    "lr_model = LogisticRegression()\n",
    "lr_model.fit(iou[:, None], train_df.ytrue.values)"
   ]
  },
  {
   "cell_type": "code",
   "execution_count": 9,
   "metadata": {},
   "outputs": [],
   "source": [
    "test_df = pd.read_csv('data/raw/test.csv')\n",
    "\n",
    "bbox_a = test_df[['ddpn_ymin_1', 'ddpn_xmin_1', 'ddpn_ymax_1', 'ddpn_xmax_1']].values\n",
    "bbox_b = test_df[['ddpn_ymin_2', 'ddpn_xmin_2', 'ddpn_ymax_2', 'ddpn_xmax_2']].values\n",
    "\n",
    "iou = bbox_iou(bbox_a, bbox_b)"
   ]
  },
  {
   "cell_type": "code",
   "execution_count": 10,
   "metadata": {},
   "outputs": [],
   "source": [
    "pred_y = lr_model.predict(iou[:, None])"
   ]
  },
  {
   "cell_type": "code",
   "execution_count": 16,
   "metadata": {},
   "outputs": [
    {
     "name": "stdout",
     "output_type": "stream",
     "text": [
      "F1: 73.43, Prec: 73.83, Rec: 73.05\n"
     ]
    }
   ],
   "source": [
    "f1 = f1_score(test_df.ytrue.values, pred_y)\n",
    "pre = precision_score(test_df.ytrue.values, pred_y)\n",
    "rec = recall_score(test_df.ytrue.values, pred_y)\n",
    "\n",
    "print(\"F1: %.2f, Prec: %.2f, Rec: %.2f\"%(100*f1, 100*pre, 100*rec))"
   ]
  }
 ],
 "metadata": {
  "kernelspec": {
   "display_name": "Python 3",
   "language": "python",
   "name": "python3"
  },
  "language_info": {
   "codemirror_mode": {
    "name": "ipython",
    "version": 3
   },
   "file_extension": ".py",
   "mimetype": "text/x-python",
   "name": "python",
   "nbconvert_exporter": "python",
   "pygments_lexer": "ipython3",
   "version": "3.7.3"
  }
 },
 "nbformat": 4,
 "nbformat_minor": 4
}
